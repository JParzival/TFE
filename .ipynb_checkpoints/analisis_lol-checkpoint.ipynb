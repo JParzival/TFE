{
 "cells": [
  {
   "cell_type": "markdown",
   "metadata": {},
   "source": [
    "Primer paso: Importación de pandas"
   ]
  },
  {
   "cell_type": "code",
   "execution_count": 45,
   "metadata": {},
   "outputs": [],
   "source": [
    "import pandas as pd"
   ]
  },
  {
   "cell_type": "markdown",
   "metadata": {},
   "source": [
    "Se importan los datasets"
   ]
  },
  {
   "cell_type": "code",
   "execution_count": 46,
   "metadata": {},
   "outputs": [],
   "source": [
    "games = pd.read_csv(\"data/games.csv\")\n",
    "champs = pd.read_csv(\"data/champs.csv\")"
   ]
  },
  {
   "cell_type": "markdown",
   "metadata": {},
   "source": [
    "Pequeña visualización de los datasets importados"
   ]
  },
  {
   "cell_type": "code",
   "execution_count": 47,
   "metadata": {},
   "outputs": [
    {
     "data": {
      "text/html": [
       "<div>\n",
       "<style scoped>\n",
       "    .dataframe tbody tr th:only-of-type {\n",
       "        vertical-align: middle;\n",
       "    }\n",
       "\n",
       "    .dataframe tbody tr th {\n",
       "        vertical-align: top;\n",
       "    }\n",
       "\n",
       "    .dataframe thead th {\n",
       "        text-align: right;\n",
       "    }\n",
       "</style>\n",
       "<table border=\"1\" class=\"dataframe\">\n",
       "  <thead>\n",
       "    <tr style=\"text-align: right;\">\n",
       "      <th></th>\n",
       "      <th>gameId</th>\n",
       "      <th>creationTime</th>\n",
       "      <th>gameDuration</th>\n",
       "      <th>seasonId</th>\n",
       "      <th>winner</th>\n",
       "      <th>firstBlood</th>\n",
       "      <th>firstTower</th>\n",
       "      <th>firstInhibitor</th>\n",
       "      <th>firstBaron</th>\n",
       "      <th>firstDragon</th>\n",
       "      <th>...</th>\n",
       "      <th>t2_towerKills</th>\n",
       "      <th>t2_inhibitorKills</th>\n",
       "      <th>t2_baronKills</th>\n",
       "      <th>t2_dragonKills</th>\n",
       "      <th>t2_riftHeraldKills</th>\n",
       "      <th>t2_ban1</th>\n",
       "      <th>t2_ban2</th>\n",
       "      <th>t2_ban3</th>\n",
       "      <th>t2_ban4</th>\n",
       "      <th>t2_ban5</th>\n",
       "    </tr>\n",
       "  </thead>\n",
       "  <tbody>\n",
       "    <tr>\n",
       "      <th>0</th>\n",
       "      <td>3326086514</td>\n",
       "      <td>1504279457970</td>\n",
       "      <td>1949</td>\n",
       "      <td>9</td>\n",
       "      <td>1</td>\n",
       "      <td>2</td>\n",
       "      <td>1</td>\n",
       "      <td>1</td>\n",
       "      <td>1</td>\n",
       "      <td>1</td>\n",
       "      <td>...</td>\n",
       "      <td>5</td>\n",
       "      <td>0</td>\n",
       "      <td>0</td>\n",
       "      <td>1</td>\n",
       "      <td>1</td>\n",
       "      <td>114</td>\n",
       "      <td>67</td>\n",
       "      <td>43</td>\n",
       "      <td>16</td>\n",
       "      <td>51</td>\n",
       "    </tr>\n",
       "    <tr>\n",
       "      <th>1</th>\n",
       "      <td>3229566029</td>\n",
       "      <td>1497848803862</td>\n",
       "      <td>1851</td>\n",
       "      <td>9</td>\n",
       "      <td>1</td>\n",
       "      <td>1</td>\n",
       "      <td>1</td>\n",
       "      <td>1</td>\n",
       "      <td>0</td>\n",
       "      <td>1</td>\n",
       "      <td>...</td>\n",
       "      <td>2</td>\n",
       "      <td>0</td>\n",
       "      <td>0</td>\n",
       "      <td>0</td>\n",
       "      <td>0</td>\n",
       "      <td>11</td>\n",
       "      <td>67</td>\n",
       "      <td>238</td>\n",
       "      <td>51</td>\n",
       "      <td>420</td>\n",
       "    </tr>\n",
       "    <tr>\n",
       "      <th>2</th>\n",
       "      <td>3327363504</td>\n",
       "      <td>1504360103310</td>\n",
       "      <td>1493</td>\n",
       "      <td>9</td>\n",
       "      <td>1</td>\n",
       "      <td>2</td>\n",
       "      <td>1</td>\n",
       "      <td>1</td>\n",
       "      <td>1</td>\n",
       "      <td>2</td>\n",
       "      <td>...</td>\n",
       "      <td>2</td>\n",
       "      <td>0</td>\n",
       "      <td>0</td>\n",
       "      <td>1</td>\n",
       "      <td>0</td>\n",
       "      <td>157</td>\n",
       "      <td>238</td>\n",
       "      <td>121</td>\n",
       "      <td>57</td>\n",
       "      <td>28</td>\n",
       "    </tr>\n",
       "    <tr>\n",
       "      <th>3</th>\n",
       "      <td>3326856598</td>\n",
       "      <td>1504348503996</td>\n",
       "      <td>1758</td>\n",
       "      <td>9</td>\n",
       "      <td>1</td>\n",
       "      <td>1</td>\n",
       "      <td>1</td>\n",
       "      <td>1</td>\n",
       "      <td>1</td>\n",
       "      <td>1</td>\n",
       "      <td>...</td>\n",
       "      <td>0</td>\n",
       "      <td>0</td>\n",
       "      <td>0</td>\n",
       "      <td>0</td>\n",
       "      <td>0</td>\n",
       "      <td>164</td>\n",
       "      <td>18</td>\n",
       "      <td>141</td>\n",
       "      <td>40</td>\n",
       "      <td>51</td>\n",
       "    </tr>\n",
       "    <tr>\n",
       "      <th>4</th>\n",
       "      <td>3330080762</td>\n",
       "      <td>1504554410899</td>\n",
       "      <td>2094</td>\n",
       "      <td>9</td>\n",
       "      <td>1</td>\n",
       "      <td>2</td>\n",
       "      <td>1</td>\n",
       "      <td>1</td>\n",
       "      <td>1</td>\n",
       "      <td>1</td>\n",
       "      <td>...</td>\n",
       "      <td>3</td>\n",
       "      <td>0</td>\n",
       "      <td>0</td>\n",
       "      <td>1</td>\n",
       "      <td>0</td>\n",
       "      <td>86</td>\n",
       "      <td>11</td>\n",
       "      <td>201</td>\n",
       "      <td>122</td>\n",
       "      <td>18</td>\n",
       "    </tr>\n",
       "  </tbody>\n",
       "</table>\n",
       "<p>5 rows × 61 columns</p>\n",
       "</div>"
      ],
      "text/plain": [
       "       gameId   creationTime  gameDuration  seasonId  winner  firstBlood  \\\n",
       "0  3326086514  1504279457970          1949         9       1           2   \n",
       "1  3229566029  1497848803862          1851         9       1           1   \n",
       "2  3327363504  1504360103310          1493         9       1           2   \n",
       "3  3326856598  1504348503996          1758         9       1           1   \n",
       "4  3330080762  1504554410899          2094         9       1           2   \n",
       "\n",
       "   firstTower  firstInhibitor  firstBaron  firstDragon   ...     \\\n",
       "0           1               1           1            1   ...      \n",
       "1           1               1           0            1   ...      \n",
       "2           1               1           1            2   ...      \n",
       "3           1               1           1            1   ...      \n",
       "4           1               1           1            1   ...      \n",
       "\n",
       "   t2_towerKills  t2_inhibitorKills  t2_baronKills  t2_dragonKills  \\\n",
       "0              5                  0              0               1   \n",
       "1              2                  0              0               0   \n",
       "2              2                  0              0               1   \n",
       "3              0                  0              0               0   \n",
       "4              3                  0              0               1   \n",
       "\n",
       "   t2_riftHeraldKills  t2_ban1  t2_ban2  t2_ban3  t2_ban4  t2_ban5  \n",
       "0                   1      114       67       43       16       51  \n",
       "1                   0       11       67      238       51      420  \n",
       "2                   0      157      238      121       57       28  \n",
       "3                   0      164       18      141       40       51  \n",
       "4                   0       86       11      201      122       18  \n",
       "\n",
       "[5 rows x 61 columns]"
      ]
     },
     "execution_count": 47,
     "metadata": {},
     "output_type": "execute_result"
    }
   ],
   "source": [
    "games.head(5)"
   ]
  },
  {
   "cell_type": "code",
   "execution_count": 48,
   "metadata": {},
   "outputs": [
    {
     "data": {
      "text/html": [
       "<div>\n",
       "<style scoped>\n",
       "    .dataframe tbody tr th:only-of-type {\n",
       "        vertical-align: middle;\n",
       "    }\n",
       "\n",
       "    .dataframe tbody tr th {\n",
       "        vertical-align: top;\n",
       "    }\n",
       "\n",
       "    .dataframe thead th {\n",
       "        text-align: right;\n",
       "    }\n",
       "</style>\n",
       "<table border=\"1\" class=\"dataframe\">\n",
       "  <thead>\n",
       "    <tr style=\"text-align: right;\">\n",
       "      <th></th>\n",
       "      <th>name</th>\n",
       "      <th>id</th>\n",
       "    </tr>\n",
       "  </thead>\n",
       "  <tbody>\n",
       "    <tr>\n",
       "      <th>0</th>\n",
       "      <td>Jax</td>\n",
       "      <td>24</td>\n",
       "    </tr>\n",
       "    <tr>\n",
       "      <th>1</th>\n",
       "      <td>Sona</td>\n",
       "      <td>37</td>\n",
       "    </tr>\n",
       "    <tr>\n",
       "      <th>2</th>\n",
       "      <td>Tristana</td>\n",
       "      <td>18</td>\n",
       "    </tr>\n",
       "    <tr>\n",
       "      <th>3</th>\n",
       "      <td>Varus</td>\n",
       "      <td>110</td>\n",
       "    </tr>\n",
       "    <tr>\n",
       "      <th>4</th>\n",
       "      <td>Fiora</td>\n",
       "      <td>114</td>\n",
       "    </tr>\n",
       "  </tbody>\n",
       "</table>\n",
       "</div>"
      ],
      "text/plain": [
       "       name   id\n",
       "0       Jax   24\n",
       "1      Sona   37\n",
       "2  Tristana   18\n",
       "3     Varus  110\n",
       "4     Fiora  114"
      ]
     },
     "execution_count": 48,
     "metadata": {},
     "output_type": "execute_result"
    }
   ],
   "source": [
    "champs.head(5)"
   ]
  },
  {
   "cell_type": "markdown",
   "metadata": {},
   "source": [
    "Game Id nos sirve de índice, al igual que el id de champs. Por ello, los convertiré en sus respectivos índices"
   ]
  },
  {
   "cell_type": "code",
   "execution_count": 49,
   "metadata": {},
   "outputs": [],
   "source": [
    "games = games.set_index('gameId')\n",
    "champs = champs.set_index('id')"
   ]
  },
  {
   "cell_type": "markdown",
   "metadata": {},
   "source": [
    "Previsualización de las primeras líneas para ver si se ha cumplido correctamente"
   ]
  },
  {
   "cell_type": "code",
   "execution_count": 50,
   "metadata": {},
   "outputs": [
    {
     "data": {
      "text/html": [
       "<div>\n",
       "<style scoped>\n",
       "    .dataframe tbody tr th:only-of-type {\n",
       "        vertical-align: middle;\n",
       "    }\n",
       "\n",
       "    .dataframe tbody tr th {\n",
       "        vertical-align: top;\n",
       "    }\n",
       "\n",
       "    .dataframe thead th {\n",
       "        text-align: right;\n",
       "    }\n",
       "</style>\n",
       "<table border=\"1\" class=\"dataframe\">\n",
       "  <thead>\n",
       "    <tr style=\"text-align: right;\">\n",
       "      <th></th>\n",
       "      <th>creationTime</th>\n",
       "      <th>gameDuration</th>\n",
       "      <th>seasonId</th>\n",
       "      <th>winner</th>\n",
       "      <th>firstBlood</th>\n",
       "      <th>firstTower</th>\n",
       "      <th>firstInhibitor</th>\n",
       "      <th>firstBaron</th>\n",
       "      <th>firstDragon</th>\n",
       "      <th>firstRiftHerald</th>\n",
       "      <th>...</th>\n",
       "      <th>t2_towerKills</th>\n",
       "      <th>t2_inhibitorKills</th>\n",
       "      <th>t2_baronKills</th>\n",
       "      <th>t2_dragonKills</th>\n",
       "      <th>t2_riftHeraldKills</th>\n",
       "      <th>t2_ban1</th>\n",
       "      <th>t2_ban2</th>\n",
       "      <th>t2_ban3</th>\n",
       "      <th>t2_ban4</th>\n",
       "      <th>t2_ban5</th>\n",
       "    </tr>\n",
       "    <tr>\n",
       "      <th>gameId</th>\n",
       "      <th></th>\n",
       "      <th></th>\n",
       "      <th></th>\n",
       "      <th></th>\n",
       "      <th></th>\n",
       "      <th></th>\n",
       "      <th></th>\n",
       "      <th></th>\n",
       "      <th></th>\n",
       "      <th></th>\n",
       "      <th></th>\n",
       "      <th></th>\n",
       "      <th></th>\n",
       "      <th></th>\n",
       "      <th></th>\n",
       "      <th></th>\n",
       "      <th></th>\n",
       "      <th></th>\n",
       "      <th></th>\n",
       "      <th></th>\n",
       "      <th></th>\n",
       "    </tr>\n",
       "  </thead>\n",
       "  <tbody>\n",
       "    <tr>\n",
       "      <th>3326086514</th>\n",
       "      <td>1504279457970</td>\n",
       "      <td>1949</td>\n",
       "      <td>9</td>\n",
       "      <td>1</td>\n",
       "      <td>2</td>\n",
       "      <td>1</td>\n",
       "      <td>1</td>\n",
       "      <td>1</td>\n",
       "      <td>1</td>\n",
       "      <td>2</td>\n",
       "      <td>...</td>\n",
       "      <td>5</td>\n",
       "      <td>0</td>\n",
       "      <td>0</td>\n",
       "      <td>1</td>\n",
       "      <td>1</td>\n",
       "      <td>114</td>\n",
       "      <td>67</td>\n",
       "      <td>43</td>\n",
       "      <td>16</td>\n",
       "      <td>51</td>\n",
       "    </tr>\n",
       "  </tbody>\n",
       "</table>\n",
       "<p>1 rows × 60 columns</p>\n",
       "</div>"
      ],
      "text/plain": [
       "             creationTime  gameDuration  seasonId  winner  firstBlood  \\\n",
       "gameId                                                                  \n",
       "3326086514  1504279457970          1949         9       1           2   \n",
       "\n",
       "            firstTower  firstInhibitor  firstBaron  firstDragon  \\\n",
       "gameId                                                            \n",
       "3326086514           1               1           1            1   \n",
       "\n",
       "            firstRiftHerald   ...     t2_towerKills  t2_inhibitorKills  \\\n",
       "gameId                        ...                                        \n",
       "3326086514                2   ...                 5                  0   \n",
       "\n",
       "            t2_baronKills  t2_dragonKills  t2_riftHeraldKills  t2_ban1  \\\n",
       "gameId                                                                   \n",
       "3326086514              0               1                   1      114   \n",
       "\n",
       "            t2_ban2  t2_ban3  t2_ban4  t2_ban5  \n",
       "gameId                                          \n",
       "3326086514       67       43       16       51  \n",
       "\n",
       "[1 rows x 60 columns]"
      ]
     },
     "execution_count": 50,
     "metadata": {},
     "output_type": "execute_result"
    }
   ],
   "source": [
    "games.head(1)"
   ]
  },
  {
   "cell_type": "code",
   "execution_count": 51,
   "metadata": {},
   "outputs": [
    {
     "data": {
      "text/html": [
       "<div>\n",
       "<style scoped>\n",
       "    .dataframe tbody tr th:only-of-type {\n",
       "        vertical-align: middle;\n",
       "    }\n",
       "\n",
       "    .dataframe tbody tr th {\n",
       "        vertical-align: top;\n",
       "    }\n",
       "\n",
       "    .dataframe thead th {\n",
       "        text-align: right;\n",
       "    }\n",
       "</style>\n",
       "<table border=\"1\" class=\"dataframe\">\n",
       "  <thead>\n",
       "    <tr style=\"text-align: right;\">\n",
       "      <th></th>\n",
       "      <th>name</th>\n",
       "    </tr>\n",
       "    <tr>\n",
       "      <th>id</th>\n",
       "      <th></th>\n",
       "    </tr>\n",
       "  </thead>\n",
       "  <tbody>\n",
       "    <tr>\n",
       "      <th>24</th>\n",
       "      <td>Jax</td>\n",
       "    </tr>\n",
       "  </tbody>\n",
       "</table>\n",
       "</div>"
      ],
      "text/plain": [
       "   name\n",
       "id     \n",
       "24  Jax"
      ]
     },
     "execution_count": 51,
     "metadata": {},
     "output_type": "execute_result"
    }
   ],
   "source": [
    "champs.head(1)"
   ]
  },
  {
   "cell_type": "markdown",
   "metadata": {},
   "source": [
    "Siguiente paso: Eliminación de las columnas superfluas"
   ]
  },
  {
   "cell_type": "code",
   "execution_count": 52,
   "metadata": {},
   "outputs": [],
   "source": [
    "# El resto de columnas me las quedaré por si acaso\n",
    "games = games.drop(['seasonId'], axis=1)"
   ]
  },
  {
   "cell_type": "markdown",
   "metadata": {},
   "source": [
    "Paso siguiente: Detección de NA's"
   ]
  },
  {
   "cell_type": "code",
   "execution_count": 53,
   "metadata": {},
   "outputs": [
    {
     "data": {
      "text/plain": [
       "creationTime          False\n",
       "gameDuration          False\n",
       "winner                False\n",
       "firstBlood            False\n",
       "firstTower            False\n",
       "firstInhibitor        False\n",
       "firstBaron            False\n",
       "firstDragon           False\n",
       "firstRiftHerald       False\n",
       "t1_champ1id           False\n",
       "t1_champ1_sum1        False\n",
       "t1_champ1_sum2        False\n",
       "t1_champ2id           False\n",
       "t1_champ2_sum1        False\n",
       "t1_champ2_sum2        False\n",
       "t1_champ3id           False\n",
       "t1_champ3_sum1        False\n",
       "t1_champ3_sum2        False\n",
       "t1_champ4id           False\n",
       "t1_champ4_sum1        False\n",
       "t1_champ4_sum2        False\n",
       "t1_champ5id           False\n",
       "t1_champ5_sum1        False\n",
       "t1_champ5_sum2        False\n",
       "t1_towerKills         False\n",
       "t1_inhibitorKills     False\n",
       "t1_baronKills         False\n",
       "t1_dragonKills        False\n",
       "t1_riftHeraldKills    False\n",
       "t1_ban1               False\n",
       "t1_ban2               False\n",
       "t1_ban3               False\n",
       "t1_ban4               False\n",
       "t1_ban5               False\n",
       "t2_champ1id           False\n",
       "t2_champ1_sum1        False\n",
       "t2_champ1_sum2        False\n",
       "t2_champ2id           False\n",
       "t2_champ2_sum1        False\n",
       "t2_champ2_sum2        False\n",
       "t2_champ3id           False\n",
       "t2_champ3_sum1        False\n",
       "t2_champ3_sum2        False\n",
       "t2_champ4id           False\n",
       "t2_champ4_sum1        False\n",
       "t2_champ4_sum2        False\n",
       "t2_champ5id           False\n",
       "t2_champ5_sum1        False\n",
       "t2_champ5_sum2        False\n",
       "t2_towerKills         False\n",
       "t2_inhibitorKills     False\n",
       "t2_baronKills         False\n",
       "t2_dragonKills        False\n",
       "t2_riftHeraldKills    False\n",
       "t2_ban1               False\n",
       "t2_ban2               False\n",
       "t2_ban3               False\n",
       "t2_ban4               False\n",
       "t2_ban5               False\n",
       "dtype: bool"
      ]
     },
     "execution_count": 53,
     "metadata": {},
     "output_type": "execute_result"
    }
   ],
   "source": [
    "games.isna().any()"
   ]
  },
  {
   "cell_type": "markdown",
   "metadata": {},
   "source": [
    "Siguiente paso: Conversión del tiempo Unix en fecha legible"
   ]
  },
  {
   "cell_type": "code",
   "execution_count": 54,
   "metadata": {},
   "outputs": [],
   "source": [
    "games.creationTime = pd.to_datetime(games.creationTime, unit='ms')"
   ]
  },
  {
   "cell_type": "code",
   "execution_count": 55,
   "metadata": {},
   "outputs": [
    {
     "data": {
      "text/html": [
       "<div>\n",
       "<style scoped>\n",
       "    .dataframe tbody tr th:only-of-type {\n",
       "        vertical-align: middle;\n",
       "    }\n",
       "\n",
       "    .dataframe tbody tr th {\n",
       "        vertical-align: top;\n",
       "    }\n",
       "\n",
       "    .dataframe thead th {\n",
       "        text-align: right;\n",
       "    }\n",
       "</style>\n",
       "<table border=\"1\" class=\"dataframe\">\n",
       "  <thead>\n",
       "    <tr style=\"text-align: right;\">\n",
       "      <th></th>\n",
       "      <th>creationTime</th>\n",
       "      <th>gameDuration</th>\n",
       "      <th>winner</th>\n",
       "      <th>firstBlood</th>\n",
       "      <th>firstTower</th>\n",
       "      <th>firstInhibitor</th>\n",
       "      <th>firstBaron</th>\n",
       "      <th>firstDragon</th>\n",
       "      <th>firstRiftHerald</th>\n",
       "      <th>t1_champ1id</th>\n",
       "      <th>...</th>\n",
       "      <th>t2_towerKills</th>\n",
       "      <th>t2_inhibitorKills</th>\n",
       "      <th>t2_baronKills</th>\n",
       "      <th>t2_dragonKills</th>\n",
       "      <th>t2_riftHeraldKills</th>\n",
       "      <th>t2_ban1</th>\n",
       "      <th>t2_ban2</th>\n",
       "      <th>t2_ban3</th>\n",
       "      <th>t2_ban4</th>\n",
       "      <th>t2_ban5</th>\n",
       "    </tr>\n",
       "    <tr>\n",
       "      <th>gameId</th>\n",
       "      <th></th>\n",
       "      <th></th>\n",
       "      <th></th>\n",
       "      <th></th>\n",
       "      <th></th>\n",
       "      <th></th>\n",
       "      <th></th>\n",
       "      <th></th>\n",
       "      <th></th>\n",
       "      <th></th>\n",
       "      <th></th>\n",
       "      <th></th>\n",
       "      <th></th>\n",
       "      <th></th>\n",
       "      <th></th>\n",
       "      <th></th>\n",
       "      <th></th>\n",
       "      <th></th>\n",
       "      <th></th>\n",
       "      <th></th>\n",
       "      <th></th>\n",
       "    </tr>\n",
       "  </thead>\n",
       "  <tbody>\n",
       "    <tr>\n",
       "      <th>3326086514</th>\n",
       "      <td>2017-09-01 15:24:17.970</td>\n",
       "      <td>1949</td>\n",
       "      <td>1</td>\n",
       "      <td>2</td>\n",
       "      <td>1</td>\n",
       "      <td>1</td>\n",
       "      <td>1</td>\n",
       "      <td>1</td>\n",
       "      <td>2</td>\n",
       "      <td>8</td>\n",
       "      <td>...</td>\n",
       "      <td>5</td>\n",
       "      <td>0</td>\n",
       "      <td>0</td>\n",
       "      <td>1</td>\n",
       "      <td>1</td>\n",
       "      <td>114</td>\n",
       "      <td>67</td>\n",
       "      <td>43</td>\n",
       "      <td>16</td>\n",
       "      <td>51</td>\n",
       "    </tr>\n",
       "    <tr>\n",
       "      <th>3229566029</th>\n",
       "      <td>2017-06-19 05:06:43.862</td>\n",
       "      <td>1851</td>\n",
       "      <td>1</td>\n",
       "      <td>1</td>\n",
       "      <td>1</td>\n",
       "      <td>1</td>\n",
       "      <td>0</td>\n",
       "      <td>1</td>\n",
       "      <td>1</td>\n",
       "      <td>119</td>\n",
       "      <td>...</td>\n",
       "      <td>2</td>\n",
       "      <td>0</td>\n",
       "      <td>0</td>\n",
       "      <td>0</td>\n",
       "      <td>0</td>\n",
       "      <td>11</td>\n",
       "      <td>67</td>\n",
       "      <td>238</td>\n",
       "      <td>51</td>\n",
       "      <td>420</td>\n",
       "    </tr>\n",
       "  </tbody>\n",
       "</table>\n",
       "<p>2 rows × 59 columns</p>\n",
       "</div>"
      ],
      "text/plain": [
       "                      creationTime  gameDuration  winner  firstBlood  \\\n",
       "gameId                                                                 \n",
       "3326086514 2017-09-01 15:24:17.970          1949       1           2   \n",
       "3229566029 2017-06-19 05:06:43.862          1851       1           1   \n",
       "\n",
       "            firstTower  firstInhibitor  firstBaron  firstDragon  \\\n",
       "gameId                                                            \n",
       "3326086514           1               1           1            1   \n",
       "3229566029           1               1           0            1   \n",
       "\n",
       "            firstRiftHerald  t1_champ1id   ...     t2_towerKills  \\\n",
       "gameId                                     ...                     \n",
       "3326086514                2            8   ...                 5   \n",
       "3229566029                1          119   ...                 2   \n",
       "\n",
       "            t2_inhibitorKills  t2_baronKills  t2_dragonKills  \\\n",
       "gameId                                                         \n",
       "3326086514                  0              0               1   \n",
       "3229566029                  0              0               0   \n",
       "\n",
       "            t2_riftHeraldKills  t2_ban1  t2_ban2  t2_ban3  t2_ban4  t2_ban5  \n",
       "gameId                                                                       \n",
       "3326086514                   1      114       67       43       16       51  \n",
       "3229566029                   0       11       67      238       51      420  \n",
       "\n",
       "[2 rows x 59 columns]"
      ]
     },
     "execution_count": 55,
     "metadata": {},
     "output_type": "execute_result"
    }
   ],
   "source": [
    "games.head(2)"
   ]
  },
  {
   "cell_type": "markdown",
   "metadata": {},
   "source": [
    "Ahora tenemos todos los datos sin NA's, la fecha convertida, las columnas innecesarias de primeras quitadas, y los dataframes correctamente indexados"
   ]
  },
  {
   "cell_type": "markdown",
   "metadata": {},
   "source": [
    "Siguiente paso: Sustitución del número de los campeones por el nombre de los campeones en sí"
   ]
  },
  {
   "cell_type": "code",
   "execution_count": 56,
   "metadata": {},
   "outputs": [],
   "source": [
    "games = games.merge(champs, left_on='t1_champ1id', right_on='id', how='left' )\n",
    "games = games.merge(champs, left_on='t1_champ2id', right_on='id', how='left' )\n",
    "\n",
    "games = games.rename(columns={\"name_x\": \"t1_c1\", \"name_y\": \"t1_c2\"})\n",
    "\n",
    "games = games.merge(champs, left_on='t1_champ3id', right_on='id', how='left' ) \n",
    "games = games.merge(champs, left_on='t1_champ4id', right_on='id', how='left' )\n",
    "\n",
    "games = games.rename(columns={\"name_x\": \"t1_c3\", \"name_y\": \"t1_c4\"})\n",
    "\n",
    "games = games.merge(champs, left_on='t1_champ5id', right_on='id', how='left' )\n",
    "games = games.merge(champs, left_on='t2_champ1id', right_on='id', how='left' )\n",
    "\n",
    "games = games.rename(columns={\"name_x\": \"t1_c5\", \"name_y\": \"t2_c1\"})\n",
    "\n",
    "games = games.merge(champs, left_on='t2_champ2id', right_on='id', how='left' ) \n",
    "games = games.merge(champs, left_on='t2_champ3id', right_on='id', how='left' )\n",
    "\n",
    "games = games.rename(columns={\"name_x\": \"t2_c2\", \"name_y\": \"t2_c3\"})\n",
    "\n",
    "games = games.merge(champs, left_on='t2_champ4id', right_on='id', how='left' ) \n",
    "games = games.merge(champs, left_on='t2_champ5id', right_on='id', how='left' )\n",
    "\n",
    "games = games.rename(columns={\"name_x\": \"t2_c4\", \"name_y\": \"t2_c5\"})\n",
    "\n",
    "# Ahora que tenemos todo renombrado y bonito, podemos eliminar las columnas que nos han servido para joinear\n",
    "\n",
    "games = games.drop(['t1_champ1id', 't1_champ2id', 't1_champ3id', 't1_champ4id', 't1_champ5id',\n",
    "                    't2_champ1id', 't2_champ2id', 't2_champ3id', 't2_champ4id', 't2_champ5id'],\n",
    "                   axis=1)"
   ]
  },
  {
   "cell_type": "code",
   "execution_count": 57,
   "metadata": {},
   "outputs": [
    {
     "data": {
      "text/html": [
       "<div>\n",
       "<style scoped>\n",
       "    .dataframe tbody tr th:only-of-type {\n",
       "        vertical-align: middle;\n",
       "    }\n",
       "\n",
       "    .dataframe tbody tr th {\n",
       "        vertical-align: top;\n",
       "    }\n",
       "\n",
       "    .dataframe thead th {\n",
       "        text-align: right;\n",
       "    }\n",
       "</style>\n",
       "<table border=\"1\" class=\"dataframe\">\n",
       "  <thead>\n",
       "    <tr style=\"text-align: right;\">\n",
       "      <th></th>\n",
       "      <th>creationTime</th>\n",
       "      <th>gameDuration</th>\n",
       "      <th>winner</th>\n",
       "      <th>firstBlood</th>\n",
       "      <th>firstTower</th>\n",
       "      <th>firstInhibitor</th>\n",
       "      <th>firstBaron</th>\n",
       "      <th>firstDragon</th>\n",
       "      <th>firstRiftHerald</th>\n",
       "      <th>t1_champ1_sum1</th>\n",
       "      <th>...</th>\n",
       "      <th>t1_c1</th>\n",
       "      <th>t1_c2</th>\n",
       "      <th>t1_c3</th>\n",
       "      <th>t1_c4</th>\n",
       "      <th>t1_c5</th>\n",
       "      <th>t2_c1</th>\n",
       "      <th>t2_c2</th>\n",
       "      <th>t2_c3</th>\n",
       "      <th>t2_c4</th>\n",
       "      <th>t2_c5</th>\n",
       "    </tr>\n",
       "  </thead>\n",
       "  <tbody>\n",
       "    <tr>\n",
       "      <th>0</th>\n",
       "      <td>2017-09-01 15:24:17.970</td>\n",
       "      <td>1949</td>\n",
       "      <td>1</td>\n",
       "      <td>2</td>\n",
       "      <td>1</td>\n",
       "      <td>1</td>\n",
       "      <td>1</td>\n",
       "      <td>1</td>\n",
       "      <td>2</td>\n",
       "      <td>12</td>\n",
       "      <td>...</td>\n",
       "      <td>Vladimir</td>\n",
       "      <td>Bard</td>\n",
       "      <td>KogMaw</td>\n",
       "      <td>Master Yi</td>\n",
       "      <td>Viktor</td>\n",
       "      <td>Graves</td>\n",
       "      <td>Xayah</td>\n",
       "      <td>Darius</td>\n",
       "      <td>Zed</td>\n",
       "      <td>Thresh</td>\n",
       "    </tr>\n",
       "  </tbody>\n",
       "</table>\n",
       "<p>1 rows × 59 columns</p>\n",
       "</div>"
      ],
      "text/plain": [
       "             creationTime  gameDuration  winner  firstBlood  firstTower  \\\n",
       "0 2017-09-01 15:24:17.970          1949       1           2           1   \n",
       "\n",
       "   firstInhibitor  firstBaron  firstDragon  firstRiftHerald  t1_champ1_sum1  \\\n",
       "0               1           1            1                2              12   \n",
       "\n",
       "    ...       t1_c1  t1_c2   t1_c3      t1_c4   t1_c5   t2_c1  t2_c2   t2_c3  \\\n",
       "0   ...    Vladimir   Bard  KogMaw  Master Yi  Viktor  Graves  Xayah  Darius   \n",
       "\n",
       "   t2_c4   t2_c5  \n",
       "0    Zed  Thresh  \n",
       "\n",
       "[1 rows x 59 columns]"
      ]
     },
     "execution_count": 57,
     "metadata": {},
     "output_type": "execute_result"
    }
   ],
   "source": [
    "games.head(1)"
   ]
  },
  {
   "cell_type": "markdown",
   "metadata": {},
   "source": [
    "Ahora se tiene que hacer lo mismo con las summoner spells"
   ]
  },
  {
   "cell_type": "code",
   "execution_count": 58,
   "metadata": {},
   "outputs": [
    {
     "data": {
      "text/html": [
       "<div>\n",
       "<style scoped>\n",
       "    .dataframe tbody tr th:only-of-type {\n",
       "        vertical-align: middle;\n",
       "    }\n",
       "\n",
       "    .dataframe tbody tr th {\n",
       "        vertical-align: top;\n",
       "    }\n",
       "\n",
       "    .dataframe thead th {\n",
       "        text-align: right;\n",
       "    }\n",
       "</style>\n",
       "<table border=\"1\" class=\"dataframe\">\n",
       "  <thead>\n",
       "    <tr style=\"text-align: right;\">\n",
       "      <th></th>\n",
       "      <th>name</th>\n",
       "    </tr>\n",
       "    <tr>\n",
       "      <th>id</th>\n",
       "      <th></th>\n",
       "    </tr>\n",
       "  </thead>\n",
       "  <tbody>\n",
       "    <tr>\n",
       "      <th>1</th>\n",
       "      <td>Cleanse</td>\n",
       "    </tr>\n",
       "    <tr>\n",
       "      <th>3</th>\n",
       "      <td>Exhaust</td>\n",
       "    </tr>\n",
       "  </tbody>\n",
       "</table>\n",
       "</div>"
      ],
      "text/plain": [
       "       name\n",
       "id         \n",
       "1   Cleanse\n",
       "3   Exhaust"
      ]
     },
     "execution_count": 58,
     "metadata": {},
     "output_type": "execute_result"
    }
   ],
   "source": [
    "summonerSpells = pd.read_json(\"data/summoner_spell_info.json\")\n",
    "summonerSpells = summonerSpells.transpose()\n",
    "summonerSpells = summonerSpells.set_index(\"id\")\n",
    "\n",
    "# Se borran las columnas innecesarias\n",
    "\n",
    "summonerSpells = summonerSpells.drop(['description', 'key', 'summonerLevel'], axis=1)\n",
    "\n",
    "summonerSpells.head(2)"
   ]
  },
  {
   "cell_type": "code",
   "execution_count": 59,
   "metadata": {},
   "outputs": [
    {
     "data": {
      "text/html": [
       "<div>\n",
       "<style scoped>\n",
       "    .dataframe tbody tr th:only-of-type {\n",
       "        vertical-align: middle;\n",
       "    }\n",
       "\n",
       "    .dataframe tbody tr th {\n",
       "        vertical-align: top;\n",
       "    }\n",
       "\n",
       "    .dataframe thead th {\n",
       "        text-align: right;\n",
       "    }\n",
       "</style>\n",
       "<table border=\"1\" class=\"dataframe\">\n",
       "  <thead>\n",
       "    <tr style=\"text-align: right;\">\n",
       "      <th></th>\n",
       "      <th>creationTime</th>\n",
       "      <th>gameDuration</th>\n",
       "      <th>winner</th>\n",
       "      <th>firstBlood</th>\n",
       "      <th>firstTower</th>\n",
       "      <th>firstInhibitor</th>\n",
       "      <th>firstBaron</th>\n",
       "      <th>firstDragon</th>\n",
       "      <th>firstRiftHerald</th>\n",
       "      <th>t1_towerKills</th>\n",
       "      <th>...</th>\n",
       "      <th>t2_c1_s1</th>\n",
       "      <th>t2_c1_s2</th>\n",
       "      <th>t2_c2_s1</th>\n",
       "      <th>t2_c2_s2</th>\n",
       "      <th>t2_c3_s1</th>\n",
       "      <th>t2_c3_s2</th>\n",
       "      <th>t2_c4_s1</th>\n",
       "      <th>t2_c4_s2</th>\n",
       "      <th>t2_c5_s1</th>\n",
       "      <th>t2_c5_s2</th>\n",
       "    </tr>\n",
       "  </thead>\n",
       "  <tbody>\n",
       "    <tr>\n",
       "      <th>0</th>\n",
       "      <td>2017-09-01 15:24:17.970</td>\n",
       "      <td>1949</td>\n",
       "      <td>1</td>\n",
       "      <td>2</td>\n",
       "      <td>1</td>\n",
       "      <td>1</td>\n",
       "      <td>1</td>\n",
       "      <td>1</td>\n",
       "      <td>2</td>\n",
       "      <td>11</td>\n",
       "      <td>...</td>\n",
       "      <td>Smite</td>\n",
       "      <td>Flash</td>\n",
       "      <td>Flash</td>\n",
       "      <td>Heal</td>\n",
       "      <td>Ghost</td>\n",
       "      <td>Flash</td>\n",
       "      <td>Ignite</td>\n",
       "      <td>Flash</td>\n",
       "      <td>Flash</td>\n",
       "      <td>Exhaust</td>\n",
       "    </tr>\n",
       "  </tbody>\n",
       "</table>\n",
       "<p>1 rows × 59 columns</p>\n",
       "</div>"
      ],
      "text/plain": [
       "             creationTime  gameDuration  winner  firstBlood  firstTower  \\\n",
       "0 2017-09-01 15:24:17.970          1949       1           2           1   \n",
       "\n",
       "   firstInhibitor  firstBaron  firstDragon  firstRiftHerald  t1_towerKills  \\\n",
       "0               1           1            1                2             11   \n",
       "\n",
       "     ...     t2_c1_s1  t2_c1_s2  t2_c2_s1  t2_c2_s2  t2_c3_s1  t2_c3_s2  \\\n",
       "0    ...        Smite     Flash     Flash      Heal     Ghost     Flash   \n",
       "\n",
       "   t2_c4_s1  t2_c4_s2  t2_c5_s1  t2_c5_s2  \n",
       "0    Ignite     Flash     Flash   Exhaust  \n",
       "\n",
       "[1 rows x 59 columns]"
      ]
     },
     "execution_count": 59,
     "metadata": {},
     "output_type": "execute_result"
    }
   ],
   "source": [
    "# Una vez que se tiene el dataset correctamente hecho, se procede como en la vez anterior para poner los nombres en vez de los códigos\n",
    "\n",
    "games = games.merge(summonerSpells, left_on='t1_champ1_sum1', right_on='id', how='left' )\n",
    "games = games.merge(summonerSpells, left_on='t1_champ1_sum2', right_on='id', how='left' )\n",
    "\n",
    "games = games.rename(columns={\"name_x\": \"t1_c1_s1\", \"name_y\": \"t1_c1_s2\"})\n",
    "\n",
    "games = games.merge(summonerSpells, left_on='t1_champ2_sum1', right_on='id', how='left' )\n",
    "games = games.merge(summonerSpells, left_on='t1_champ2_sum2', right_on='id', how='left' )\n",
    "\n",
    "games = games.rename(columns={\"name_x\": \"t1_c2_s1\", \"name_y\": \"t1_c2_s2\"})\n",
    "\n",
    "games = games.merge(summonerSpells, left_on='t1_champ3_sum1', right_on='id', how='left' )\n",
    "games = games.merge(summonerSpells, left_on='t1_champ3_sum2', right_on='id', how='left' )\n",
    "\n",
    "games = games.rename(columns={\"name_x\": \"t1_c3_s1\", \"name_y\": \"t1_c3_s2\"})\n",
    "\n",
    "games = games.merge(summonerSpells, left_on='t1_champ4_sum1', right_on='id', how='left' )\n",
    "games = games.merge(summonerSpells, left_on='t1_champ4_sum2', right_on='id', how='left' )\n",
    "\n",
    "games = games.rename(columns={\"name_x\": \"t1_c4_s1\", \"name_y\": \"t1_c4_s2\"})\n",
    "\n",
    "games = games.merge(summonerSpells, left_on='t1_champ5_sum1', right_on='id', how='left' )\n",
    "games = games.merge(summonerSpells, left_on='t1_champ5_sum2', right_on='id', how='left' )\n",
    "\n",
    "games = games.rename(columns={\"name_x\": \"t1_c5_s1\", \"name_y\": \"t1_c5_s2\"})\n",
    "\n",
    "games = games.merge(summonerSpells, left_on='t2_champ1_sum1', right_on='id', how='left' )\n",
    "games = games.merge(summonerSpells, left_on='t2_champ1_sum2', right_on='id', how='left' )\n",
    "\n",
    "games = games.rename(columns={\"name_x\": \"t2_c1_s1\", \"name_y\": \"t2_c1_s2\"})\n",
    "\n",
    "games = games.merge(summonerSpells, left_on='t2_champ2_sum1', right_on='id', how='left' )\n",
    "games = games.merge(summonerSpells, left_on='t2_champ2_sum2', right_on='id', how='left' )\n",
    "\n",
    "games = games.rename(columns={\"name_x\": \"t2_c2_s1\", \"name_y\": \"t2_c2_s2\"})\n",
    "\n",
    "games = games.merge(summonerSpells, left_on='t2_champ3_sum1', right_on='id', how='left' )\n",
    "games = games.merge(summonerSpells, left_on='t2_champ3_sum2', right_on='id', how='left' )\n",
    "\n",
    "games = games.rename(columns={\"name_x\": \"t2_c3_s1\", \"name_y\": \"t2_c3_s2\"})\n",
    "\n",
    "games = games.merge(summonerSpells, left_on='t2_champ4_sum1', right_on='id', how='left' )\n",
    "games = games.merge(summonerSpells, left_on='t2_champ4_sum2', right_on='id', how='left' )\n",
    "\n",
    "games = games.rename(columns={\"name_x\": \"t2_c4_s1\", \"name_y\": \"t2_c4_s2\"})\n",
    "\n",
    "games = games.merge(summonerSpells, left_on='t2_champ5_sum1', right_on='id', how='left' )\n",
    "games = games.merge(summonerSpells, left_on='t2_champ5_sum2', right_on='id', how='left' )\n",
    "\n",
    "games = games.rename(columns={\"name_x\": \"t2_c5_s1\", \"name_y\": \"t2_c5_s2\"})\n",
    "\n",
    "# Ahora que se tiene todo renombrado y bonito, se pueden eliminar las columnas que nos han servido para joinear\n",
    "\n",
    "games = games.drop(['t1_champ1_sum1', 't1_champ1_sum2', 't1_champ2_sum1', 't1_champ2_sum2',\n",
    "                    't1_champ3_sum1', 't1_champ3_sum2', 't1_champ4_sum1', 't1_champ4_sum2',\n",
    "                    't1_champ5_sum1', 't1_champ5_sum2', 't2_champ1_sum1', 't2_champ1_sum2',\n",
    "                    't2_champ2_sum1', 't2_champ2_sum2', 't2_champ3_sum1', 't2_champ3_sum2',\n",
    "                    't2_champ4_sum1', 't2_champ4_sum2', 't2_champ5_sum1', 't2_champ5_sum2'],\n",
    "                   axis=1)\n",
    "\n",
    "games.head(1)"
   ]
  },
  {
   "cell_type": "markdown",
   "metadata": {},
   "source": [
    "Ahora hay que hacer lo mismo con los bans de ambos equipos, volviendo al dataframe de los champs"
   ]
  },
  {
   "cell_type": "code",
   "execution_count": 60,
   "metadata": {},
   "outputs": [
    {
     "data": {
      "text/html": [
       "<div>\n",
       "<style scoped>\n",
       "    .dataframe tbody tr th:only-of-type {\n",
       "        vertical-align: middle;\n",
       "    }\n",
       "\n",
       "    .dataframe tbody tr th {\n",
       "        vertical-align: top;\n",
       "    }\n",
       "\n",
       "    .dataframe thead th {\n",
       "        text-align: right;\n",
       "    }\n",
       "</style>\n",
       "<table border=\"1\" class=\"dataframe\">\n",
       "  <thead>\n",
       "    <tr style=\"text-align: right;\">\n",
       "      <th></th>\n",
       "      <th>creationTime</th>\n",
       "      <th>gameDuration</th>\n",
       "      <th>winner</th>\n",
       "      <th>firstBlood</th>\n",
       "      <th>firstTower</th>\n",
       "      <th>firstInhibitor</th>\n",
       "      <th>firstBaron</th>\n",
       "      <th>firstDragon</th>\n",
       "      <th>firstRiftHerald</th>\n",
       "      <th>t1_towerKills</th>\n",
       "      <th>...</th>\n",
       "      <th>t1_b1</th>\n",
       "      <th>t1_b2</th>\n",
       "      <th>t1_b3</th>\n",
       "      <th>t1_b4</th>\n",
       "      <th>t1_b5</th>\n",
       "      <th>t2_b1</th>\n",
       "      <th>t2_b2</th>\n",
       "      <th>t2_b3</th>\n",
       "      <th>t2_b4</th>\n",
       "      <th>t2_b5</th>\n",
       "    </tr>\n",
       "  </thead>\n",
       "  <tbody>\n",
       "    <tr>\n",
       "      <th>0</th>\n",
       "      <td>2017-09-01 15:24:17.970</td>\n",
       "      <td>1949</td>\n",
       "      <td>1</td>\n",
       "      <td>2</td>\n",
       "      <td>1</td>\n",
       "      <td>1</td>\n",
       "      <td>1</td>\n",
       "      <td>1</td>\n",
       "      <td>2</td>\n",
       "      <td>11</td>\n",
       "      <td>...</td>\n",
       "      <td>Riven</td>\n",
       "      <td>Janna</td>\n",
       "      <td>Cassiopeia</td>\n",
       "      <td>Draven</td>\n",
       "      <td>Kayn</td>\n",
       "      <td>Fiora</td>\n",
       "      <td>Vayne</td>\n",
       "      <td>Karma</td>\n",
       "      <td>Soraka</td>\n",
       "      <td>Caitlyn</td>\n",
       "    </tr>\n",
       "  </tbody>\n",
       "</table>\n",
       "<p>1 rows × 59 columns</p>\n",
       "</div>"
      ],
      "text/plain": [
       "             creationTime  gameDuration  winner  firstBlood  firstTower  \\\n",
       "0 2017-09-01 15:24:17.970          1949       1           2           1   \n",
       "\n",
       "   firstInhibitor  firstBaron  firstDragon  firstRiftHerald  t1_towerKills  \\\n",
       "0               1           1            1                2             11   \n",
       "\n",
       "    ...     t1_b1  t1_b2       t1_b3   t1_b4  t1_b5  t2_b1  t2_b2  t2_b3  \\\n",
       "0   ...     Riven  Janna  Cassiopeia  Draven   Kayn  Fiora  Vayne  Karma   \n",
       "\n",
       "    t2_b4    t2_b5  \n",
       "0  Soraka  Caitlyn  \n",
       "\n",
       "[1 rows x 59 columns]"
      ]
     },
     "execution_count": 60,
     "metadata": {},
     "output_type": "execute_result"
    }
   ],
   "source": [
    "games = games.merge(champs, left_on='t1_ban1', right_on='id', how='left' )\n",
    "games = games.merge(champs, left_on='t1_ban2', right_on='id', how='left' )\n",
    "\n",
    "games = games.rename(columns={\"name_x\": \"t1_b1\", \"name_y\": \"t1_b2\"})\n",
    "\n",
    "games = games.merge(champs, left_on='t1_ban3', right_on='id', how='left' ) \n",
    "games = games.merge(champs, left_on='t1_ban4', right_on='id', how='left' )\n",
    "\n",
    "games = games.rename(columns={\"name_x\": \"t1_b3\", \"name_y\": \"t1_b4\"})\n",
    "\n",
    "games = games.merge(champs, left_on='t1_ban5', right_on='id', how='left' )\n",
    "games = games.merge(champs, left_on='t2_ban1', right_on='id', how='left' )\n",
    "\n",
    "games = games.rename(columns={\"name_x\": \"t1_b5\", \"name_y\": \"t2_b1\"})\n",
    "\n",
    "games = games.merge(champs, left_on='t2_ban2', right_on='id', how='left' ) \n",
    "games = games.merge(champs, left_on='t2_ban3', right_on='id', how='left' )\n",
    "\n",
    "games = games.rename(columns={\"name_x\": \"t2_b2\", \"name_y\": \"t2_b3\"})\n",
    "\n",
    "games = games.merge(champs, left_on='t2_ban4', right_on='id', how='left' ) \n",
    "games = games.merge(champs, left_on='t2_ban5', right_on='id', how='left' )\n",
    "\n",
    "games = games.rename(columns={\"name_x\": \"t2_b4\", \"name_y\": \"t2_b5\"})\n",
    "\n",
    "# Ahora que tenemos todo renombrado y bonito, podemos eliminar las columnas que nos han servido para joinear\n",
    "\n",
    "games = games.drop(['t1_ban1', 't1_ban2', 't1_ban3', 't1_ban4', 't1_ban5',\n",
    "                    't2_ban1', 't2_ban2', 't2_ban3', 't2_ban4', 't2_ban5'],\n",
    "                   axis=1)\n",
    "\n",
    "games.head(1)"
   ]
  },
  {
   "cell_type": "markdown",
   "metadata": {},
   "source": [
    "Conversión de los datos categóricos en dicho tipo"
   ]
  },
  {
   "cell_type": "code",
   "execution_count": 61,
   "metadata": {},
   "outputs": [
    {
     "data": {
      "text/plain": [
       "creationTime          datetime64[ns]\n",
       "gameDuration                   int64\n",
       "winner                      category\n",
       "firstBlood                  category\n",
       "firstTower                  category\n",
       "firstInhibitor              category\n",
       "firstBaron                  category\n",
       "firstDragon                 category\n",
       "firstRiftHerald             category\n",
       "t1_towerKills                  int64\n",
       "t1_inhibitorKills              int64\n",
       "t1_baronKills                  int64\n",
       "t1_dragonKills                 int64\n",
       "t1_riftHeraldKills             int64\n",
       "t2_towerKills                  int64\n",
       "t2_inhibitorKills              int64\n",
       "t2_baronKills                  int64\n",
       "t2_dragonKills                 int64\n",
       "t2_riftHeraldKills             int64\n",
       "t1_c1                       category\n",
       "t1_c2                       category\n",
       "t1_c3                       category\n",
       "t1_c4                       category\n",
       "t1_c5                       category\n",
       "t2_c1                       category\n",
       "t2_c2                       category\n",
       "t2_c3                       category\n",
       "t2_c4                       category\n",
       "t2_c5                       category\n",
       "t1_c1_s1                    category\n",
       "t1_c1_s2                    category\n",
       "t1_c2_s1                    category\n",
       "t1_c2_s2                    category\n",
       "t1_c3_s1                    category\n",
       "t1_c3_s2                    category\n",
       "t1_c4_s1                    category\n",
       "t1_c4_s2                    category\n",
       "t1_c5_s1                    category\n",
       "t1_c5_s2                    category\n",
       "t2_c1_s1                    category\n",
       "t2_c1_s2                    category\n",
       "t2_c2_s1                    category\n",
       "t2_c2_s2                    category\n",
       "t2_c3_s1                    category\n",
       "t2_c3_s2                    category\n",
       "t2_c4_s1                    category\n",
       "t2_c4_s2                    category\n",
       "t2_c5_s1                    category\n",
       "t2_c5_s2                    category\n",
       "t1_b1                       category\n",
       "t1_b2                       category\n",
       "t1_b3                       category\n",
       "t1_b4                       category\n",
       "t1_b5                       category\n",
       "t2_b1                       category\n",
       "t2_b2                       category\n",
       "t2_b3                       category\n",
       "t2_b4                       category\n",
       "t2_b5                       category\n",
       "dtype: object"
      ]
     },
     "execution_count": 61,
     "metadata": {},
     "output_type": "execute_result"
    }
   ],
   "source": [
    "for col in ['winner', 'firstBlood', 'firstTower', 'firstInhibitor', 'firstBaron', 'firstDragon', 'firstRiftHerald',\n",
    "            't1_c1', 't1_c2', 't1_c3', 't1_c4', 't1_c5', 't2_c1', 't2_c2', 't2_c3', 't2_c4', 't2_c5',\n",
    "            't1_b1', 't1_b2', 't1_b3', 't1_b4', 't1_b5', 't2_b1', 't2_b2', 't2_b3', 't2_b4', 't2_b5',\n",
    "            't1_c1_s1', 't1_c1_s2', 't1_c2_s1', 't1_c2_s2', 't1_c3_s1', 't1_c3_s2', 't1_c4_s1', 't1_c4_s2', 't1_c5_s1', 't1_c5_s2',\n",
    "            't2_c1_s1', 't2_c1_s2', 't2_c2_s1', 't2_c2_s2', 't2_c3_s1', 't2_c3_s2', 't2_c4_s1', 't2_c4_s2', 't2_c5_s1', 't2_c5_s2']:\n",
    "    \n",
    "    games[col] = games[col].astype('category')\n",
    "    \n",
    "games.dtypes"
   ]
  },
  {
   "cell_type": "markdown",
   "metadata": {},
   "source": [
    "Los datos ahora están correctamente categorizados"
   ]
  },
  {
   "cell_type": "code",
   "execution_count": 62,
   "metadata": {},
   "outputs": [],
   "source": [
    "games.to_csv(r'data/games_clean.csv')"
   ]
  },
  {
   "cell_type": "markdown",
   "metadata": {},
   "source": [
    "ANÁLISIS DE LOS DATOS"
   ]
  },
  {
   "cell_type": "markdown",
   "metadata": {},
   "source": [
    "1) Campeones más utilizados"
   ]
  },
  {
   "cell_type": "code",
   "execution_count": 63,
   "metadata": {},
   "outputs": [
    {
     "data": {
      "text/plain": [
       "Aatrox            753\n",
       "Ahri             6316\n",
       "Akali            2949\n",
       "Alistar          3476\n",
       "Amumu            2312\n",
       "Anivia           2252\n",
       "Annie            3277\n",
       "Ashe             5391\n",
       "Aurelion Sol      841\n",
       "Azir             1280\n",
       "Bard             3733\n",
       "Blitzcrank       6847\n",
       "Brand            3876\n",
       "Braum            3744\n",
       "Caitlyn          6776\n",
       "Camille          1886\n",
       "Cassiopeia       2766\n",
       "ChoGath          4175\n",
       "Corki            2449\n",
       "Darius           3894\n",
       "Diana            3079\n",
       "DrMundo          1567\n",
       "Draven           5081\n",
       "Ekko             4866\n",
       "Elise            2607\n",
       "Evelynn          1616\n",
       "Ezreal           5337\n",
       "Fiddlesticks     1739\n",
       "Fiora            3078\n",
       "Fizz             3468\n",
       "                ...  \n",
       "Taric            2586\n",
       "Teemo            4144\n",
       "Thresh          13002\n",
       "Tristana        12983\n",
       "Trundle          1958\n",
       "Tryndamere       4083\n",
       "Twisted Fate     3590\n",
       "Twitch           8838\n",
       "Udyr             1113\n",
       "Urgot            2365\n",
       "Varus            2887\n",
       "Vayne           10658\n",
       "Veigar           3914\n",
       "VelKoz           3187\n",
       "Vi               3002\n",
       "Viktor           1769\n",
       "Vladimir         3203\n",
       "Volibear         1198\n",
       "Warwick          5851\n",
       "Wukong           2167\n",
       "Xayah            7843\n",
       "Xerath           1695\n",
       "Xin Zhao         3245\n",
       "Yasuo            7872\n",
       "Yorick           1378\n",
       "Zac              2508\n",
       "Zed              6460\n",
       "Ziggs            2313\n",
       "Zilean           1451\n",
       "Zyra             2355\n",
       "Length: 138, dtype: int64"
      ]
     },
     "execution_count": 63,
     "metadata": {},
     "output_type": "execute_result"
    }
   ],
   "source": [
    "dict = {}\n",
    "for columna in games.columns[19: 29]:\n",
    "    dict[columna] = games[columna].value_counts()\n",
    "\n",
    "champs_used = dict[\"t1_c1\"] + dict[\"t1_c2\"] + dict[\"t1_c3\"] + dict[\"t1_c4\"] + dict[\"t1_c5\"] + dict[\"t2_c1\"] + dict[\"t2_c2\"] + dict[\"t2_c3\"] + dict[\"t2_c4\"] + dict[\"t2_c5\"]\n",
    "    \n",
    "champs_used"
   ]
  },
  {
   "cell_type": "code",
   "execution_count": 64,
   "metadata": {},
   "outputs": [
    {
     "name": "stdout",
     "output_type": "stream",
     "text": [
      "El campeón que más se ha usado se ha escogido 22.65 veces más que el menos usado\n"
     ]
    }
   ],
   "source": [
    "print(\"El campeón que más se ha usado se ha escogido {:.2f} veces más que el menos usado\" .format(champs_used.values.max() / champs_used.values.min()) )"
   ]
  },
  {
   "cell_type": "code",
   "execution_count": 65,
   "metadata": {},
   "outputs": [
    {
     "data": {
      "text/plain": [
       "Thresh    13002\n",
       "dtype: int64"
      ]
     },
     "execution_count": 65,
     "metadata": {},
     "output_type": "execute_result"
    }
   ],
   "source": [
    "# Cálculo del campeón más usado\n",
    "champs_used[champs_used.values == champs_used.values.max()]"
   ]
  },
  {
   "cell_type": "code",
   "execution_count": 66,
   "metadata": {},
   "outputs": [
    {
     "data": {
      "text/plain": [
       "Skarner    574\n",
       "dtype: int64"
      ]
     },
     "execution_count": 66,
     "metadata": {},
     "output_type": "execute_result"
    }
   ],
   "source": [
    "# Cálculo del campeón menos usado\n",
    "champs_used[champs_used.values == champs_used.values.min()]"
   ]
  },
  {
   "cell_type": "code",
   "execution_count": 70,
   "metadata": {},
   "outputs": [],
   "source": [
    "# Para la visualización de esto se puede sacar un WordCloud\n",
    "\n",
    "# import sys\n",
    "#!{sys.executable} -m pip install wordcloud\n",
    "\n",
    "from wordcloud import WordCloud, STOPWORDS, ImageColorGenerator\n",
    "from PIL import Image\n",
    "import matplotlib.pyplot as plt"
   ]
  },
  {
   "cell_type": "code",
   "execution_count": 81,
   "metadata": {},
   "outputs": [
    {
     "data": {
      "text/plain": [
       "<matplotlib.image.AxesImage at 0x24de690f5c0>"
      ]
     },
     "execution_count": 81,
     "metadata": {},
     "output_type": "execute_result"
    },
    {
     "data": {
      "image/png": "[encoded data removed]",
      "text/plain": [
       "<Figure size 432x288 with 1 Axes>"
      ]
     },
     "metadata": {
      "needs_background": "light"
     },
     "output_type": "display_data"
    }
   ],
   "source": [
    "wc = WordCloud(background_color=\"white\", width=3000,height=3000, max_words=100,relative_scaling=1,normalize_plurals=False).generate_from_frequencies(champs_used)\n",
    "plt.imshow(wc)"
   ]
  },
  {
   "cell_type": "code",
   "execution_count": 82,
   "metadata": {},
   "outputs": [
    {
     "data": {
      "text/plain": [
       "<wordcloud.wordcloud.WordCloud at 0x24de68d9940>"
      ]
     },
     "execution_count": 82,
     "metadata": {},
     "output_type": "execute_result"
    }
   ],
   "source": [
    "wc.to_file(\"imagenes/wordcloudPicks.png\")"
   ]
  },
  {
   "cell_type": "code",
   "execution_count": 121,
   "metadata": {},
   "outputs": [
    {
     "data": {
      "image/png": "[encoded data removed]",
      "text/plain": [
       "<Figure size 3960x720 with 1 Axes>"
      ]
     },
     "metadata": {
      "needs_background": "light"
     },
     "output_type": "display_data"
    }
   ],
   "source": [
    "# A continuación, un gráfico de barras para mostrarlo más detalladamente:\n",
    "\n",
    "plt.bar(range(len(champs_used)), list(champs_used.get_values()), align='center')\n",
    "plt.rcParams[\"figure.figsize\"] = [55,10]\n",
    "plt.xticks(range(len(champs_used)), list(champs_used.keys()), rotation='vertical')\n",
    "plt.savefig('imagenes/barplot Campeones Usados.png')\n",
    "\n",
    "plt.show()"
   ]
  },
  {
   "cell_type": "markdown",
   "metadata": {},
   "source": [
    "Finalmente, voy a calcular el porcentaje de picks por partida del campeón más usado: Thresh"
   ]
  },
  {
   "cell_type": "code",
   "execution_count": 122,
   "metadata": {},
   "outputs": [
    {
     "data": {
      "text/plain": [
       "0.25251505146630415"
      ]
     },
     "execution_count": 122,
     "metadata": {},
     "output_type": "execute_result"
    }
   ],
   "source": [
    "champs_used.values.max() / len(games)"
   ]
  },
  {
   "cell_type": "markdown",
   "metadata": {},
   "source": [
    "De este primer apartado se pueden sacar una serie de conclusiones:\n",
    "\n",
    "1) Thresh es el campeón más utilizado\n",
    "\n",
    "2) Se usa a Thresh en una de cada cuatro partidas\n",
    "\n",
    "3) Thresh y Tristana son cogidos con diferencia por encima del resto, de tal manera que en la botlane normalemente habrá uno de los dos al menos"
   ]
  },
  {
   "cell_type": "code",
   "execution_count": null,
   "metadata": {},
   "outputs": [],
   "source": []
  }
 ],
 "metadata": {
  "kernelspec": {
   "display_name": "Python 3",
   "language": "python",
   "name": "python3"
  },
  "language_info": {
   "codemirror_mode": {
    "name": "ipython",
    "version": 3
   },
   "file_extension": ".py",
   "mimetype": "text/x-python",
   "name": "python",
   "nbconvert_exporter": "python",
   "pygments_lexer": "ipython3",
   "version": "3.7.1"
  }
 },
 "nbformat": 4,
 "nbformat_minor": 2
}
