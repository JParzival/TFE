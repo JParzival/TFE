{
 "cells": [
  {
   "cell_type": "markdown",
   "metadata": {},
   "source": [
    "Primer paso: Importación de pandas"
   ]
  },
  {
   "cell_type": "code",
   "execution_count": 45,
   "metadata": {},
   "outputs": [],
   "source": [
    "import pandas as pd"
   ]
  },
  {
   "cell_type": "markdown",
   "metadata": {},
   "source": [
    "Se importan los datasets"
   ]
  },
  {
   "cell_type": "code",
   "execution_count": 46,
   "metadata": {},
   "outputs": [],
   "source": [
    "games = pd.read_csv(\"data/games.csv\")\n",
    "champs = pd.read_csv(\"data/champs.csv\")"
   ]
  },
  {
   "cell_type": "markdown",
   "metadata": {},
   "source": [
    "Pequeña visualización de los datasets importados"
   ]
  },
  {
   "cell_type": "code",
   "execution_count": 47,
   "metadata": {},
   "outputs": [
    {
     "data": {
      "text/html": [
       "<div>\n",
       "<style scoped>\n",
       "    .dataframe tbody tr th:only-of-type {\n",
       "        vertical-align: middle;\n",
       "    }\n",
       "\n",
       "    .dataframe tbody tr th {\n",
       "        vertical-align: top;\n",
       "    }\n",
       "\n",
       "    .dataframe thead th {\n",
       "        text-align: right;\n",
       "    }\n",
       "</style>\n",
       "<table border=\"1\" class=\"dataframe\">\n",
       "  <thead>\n",
       "    <tr style=\"text-align: right;\">\n",
       "      <th></th>\n",
       "      <th>gameId</th>\n",
       "      <th>creationTime</th>\n",
       "      <th>gameDuration</th>\n",
       "      <th>seasonId</th>\n",
       "      <th>winner</th>\n",
       "      <th>firstBlood</th>\n",
       "      <th>firstTower</th>\n",
       "      <th>firstInhibitor</th>\n",
       "      <th>firstBaron</th>\n",
       "      <th>firstDragon</th>\n",
       "      <th>...</th>\n",
       "      <th>t2_towerKills</th>\n",
       "      <th>t2_inhibitorKills</th>\n",
       "      <th>t2_baronKills</th>\n",
       "      <th>t2_dragonKills</th>\n",
       "      <th>t2_riftHeraldKills</th>\n",
       "      <th>t2_ban1</th>\n",
       "      <th>t2_ban2</th>\n",
       "      <th>t2_ban3</th>\n",
       "      <th>t2_ban4</th>\n",
       "      <th>t2_ban5</th>\n",
       "    </tr>\n",
       "  </thead>\n",
       "  <tbody>\n",
       "    <tr>\n",
       "      <th>0</th>\n",
       "      <td>3326086514</td>\n",
       "      <td>1504279457970</td>\n",
       "      <td>1949</td>\n",
       "      <td>9</td>\n",
       "      <td>1</td>\n",
       "      <td>2</td>\n",
       "      <td>1</td>\n",
       "      <td>1</td>\n",
       "      <td>1</td>\n",
       "      <td>1</td>\n",
       "      <td>...</td>\n",
       "      <td>5</td>\n",
       "      <td>0</td>\n",
       "      <td>0</td>\n",
       "      <td>1</td>\n",
       "      <td>1</td>\n",
       "      <td>114</td>\n",
       "      <td>67</td>\n",
       "      <td>43</td>\n",
       "      <td>16</td>\n",
       "      <td>51</td>\n",
       "    </tr>\n",
       "    <tr>\n",
       "      <th>1</th>\n",
       "      <td>3229566029</td>\n",
       "      <td>1497848803862</td>\n",
       "      <td>1851</td>\n",
       "      <td>9</td>\n",
       "      <td>1</td>\n",
       "      <td>1</td>\n",
       "      <td>1</td>\n",
       "      <td>1</td>\n",
       "      <td>0</td>\n",
       "      <td>1</td>\n",
       "      <td>...</td>\n",
       "      <td>2</td>\n",
       "      <td>0</td>\n",
       "      <td>0</td>\n",
       "      <td>0</td>\n",
       "      <td>0</td>\n",
       "      <td>11</td>\n",
       "      <td>67</td>\n",
       "      <td>238</td>\n",
       "      <td>51</td>\n",
       "      <td>420</td>\n",
       "    </tr>\n",
       "    <tr>\n",
       "      <th>2</th>\n",
       "      <td>3327363504</td>\n",
       "      <td>1504360103310</td>\n",
       "      <td>1493</td>\n",
       "      <td>9</td>\n",
       "      <td>1</td>\n",
       "      <td>2</td>\n",
       "      <td>1</td>\n",
       "      <td>1</td>\n",
       "      <td>1</td>\n",
       "      <td>2</td>\n",
       "      <td>...</td>\n",
       "      <td>2</td>\n",
       "      <td>0</td>\n",
       "      <td>0</td>\n",
       "      <td>1</td>\n",
       "      <td>0</td>\n",
       "      <td>157</td>\n",
       "      <td>238</td>\n",
       "      <td>121</td>\n",
       "      <td>57</td>\n",
       "      <td>28</td>\n",
       "    </tr>\n",
       "    <tr>\n",
       "      <th>3</th>\n",
       "      <td>3326856598</td>\n",
       "      <td>1504348503996</td>\n",
       "      <td>1758</td>\n",
       "      <td>9</td>\n",
       "      <td>1</td>\n",
       "      <td>1</td>\n",
       "      <td>1</td>\n",
       "      <td>1</td>\n",
       "      <td>1</td>\n",
       "      <td>1</td>\n",
       "      <td>...</td>\n",
       "      <td>0</td>\n",
       "      <td>0</td>\n",
       "      <td>0</td>\n",
       "      <td>0</td>\n",
       "      <td>0</td>\n",
       "      <td>164</td>\n",
       "      <td>18</td>\n",
       "      <td>141</td>\n",
       "      <td>40</td>\n",
       "      <td>51</td>\n",
       "    </tr>\n",
       "    <tr>\n",
       "      <th>4</th>\n",
       "      <td>3330080762</td>\n",
       "      <td>1504554410899</td>\n",
       "      <td>2094</td>\n",
       "      <td>9</td>\n",
       "      <td>1</td>\n",
       "      <td>2</td>\n",
       "      <td>1</td>\n",
       "      <td>1</td>\n",
       "      <td>1</td>\n",
       "      <td>1</td>\n",
       "      <td>...</td>\n",
       "      <td>3</td>\n",
       "      <td>0</td>\n",
       "      <td>0</td>\n",
       "      <td>1</td>\n",
       "      <td>0</td>\n",
       "      <td>86</td>\n",
       "      <td>11</td>\n",
       "      <td>201</td>\n",
       "      <td>122</td>\n",
       "      <td>18</td>\n",
       "    </tr>\n",
       "  </tbody>\n",
       "</table>\n",
       "<p>5 rows × 61 columns</p>\n",
       "</div>"
      ],
      "text/plain": [
       "       gameId   creationTime  gameDuration  seasonId  winner  firstBlood  \\\n",
       "0  3326086514  1504279457970          1949         9       1           2   \n",
       "1  3229566029  1497848803862          1851         9       1           1   \n",
       "2  3327363504  1504360103310          1493         9       1           2   \n",
       "3  3326856598  1504348503996          1758         9       1           1   \n",
       "4  3330080762  1504554410899          2094         9       1           2   \n",
       "\n",
       "   firstTower  firstInhibitor  firstBaron  firstDragon   ...     \\\n",
       "0           1               1           1            1   ...      \n",
       "1           1               1           0            1   ...      \n",
       "2           1               1           1            2   ...      \n",
       "3           1               1           1            1   ...      \n",
       "4           1               1           1            1   ...      \n",
       "\n",
       "   t2_towerKills  t2_inhibitorKills  t2_baronKills  t2_dragonKills  \\\n",
       "0              5                  0              0               1   \n",
       "1              2                  0              0               0   \n",
       "2              2                  0              0               1   \n",
       "3              0                  0              0               0   \n",
       "4              3                  0              0               1   \n",
       "\n",
       "   t2_riftHeraldKills  t2_ban1  t2_ban2  t2_ban3  t2_ban4  t2_ban5  \n",
       "0                   1      114       67       43       16       51  \n",
       "1                   0       11       67      238       51      420  \n",
       "2                   0      157      238      121       57       28  \n",
       "3                   0      164       18      141       40       51  \n",
       "4                   0       86       11      201      122       18  \n",
       "\n",
       "[5 rows x 61 columns]"
      ]
     },
     "execution_count": 47,
     "metadata": {},
     "output_type": "execute_result"
    }
   ],
   "source": [
    "games.head(5)"
   ]
  },
  {
   "cell_type": "code",
   "execution_count": 48,
   "metadata": {},
   "outputs": [
    {
     "data": {
      "text/html": [
       "<div>\n",
       "<style scoped>\n",
       "    .dataframe tbody tr th:only-of-type {\n",
       "        vertical-align: middle;\n",
       "    }\n",
       "\n",
       "    .dataframe tbody tr th {\n",
       "        vertical-align: top;\n",
       "    }\n",
       "\n",
       "    .dataframe thead th {\n",
       "        text-align: right;\n",
       "    }\n",
       "</style>\n",
       "<table border=\"1\" class=\"dataframe\">\n",
       "  <thead>\n",
       "    <tr style=\"text-align: right;\">\n",
       "      <th></th>\n",
       "      <th>name</th>\n",
       "      <th>id</th>\n",
       "    </tr>\n",
       "  </thead>\n",
       "  <tbody>\n",
       "    <tr>\n",
       "      <th>0</th>\n",
       "      <td>Jax</td>\n",
       "      <td>24</td>\n",
       "    </tr>\n",
       "    <tr>\n",
       "      <th>1</th>\n",
       "      <td>Sona</td>\n",
       "      <td>37</td>\n",
       "    </tr>\n",
       "    <tr>\n",
       "      <th>2</th>\n",
       "      <td>Tristana</td>\n",
       "      <td>18</td>\n",
       "    </tr>\n",
       "    <tr>\n",
       "      <th>3</th>\n",
       "      <td>Varus</td>\n",
       "      <td>110</td>\n",
       "    </tr>\n",
       "    <tr>\n",
       "      <th>4</th>\n",
       "      <td>Fiora</td>\n",
       "      <td>114</td>\n",
       "    </tr>\n",
       "  </tbody>\n",
       "</table>\n",
       "</div>"
      ],
      "text/plain": [
       "       name   id\n",
       "0       Jax   24\n",
       "1      Sona   37\n",
       "2  Tristana   18\n",
       "3     Varus  110\n",
       "4     Fiora  114"
      ]
     },
     "execution_count": 48,
     "metadata": {},
     "output_type": "execute_result"
    }
   ],
   "source": [
    "champs.head(5)"
   ]
  },
  {
   "cell_type": "markdown",
   "metadata": {},
   "source": [
    "Game Id nos sirve de índice, al igual que el id de champs. Por ello, los convertiré en sus respectivos índices"
   ]
  },
  {
   "cell_type": "code",
   "execution_count": 49,
   "metadata": {},
   "outputs": [],
   "source": [
    "games = games.set_index('gameId')\n",
    "champs = champs.set_index('id')"
   ]
  },
  {
   "cell_type": "markdown",
   "metadata": {},
   "source": [
    "Previsualización de las primeras líneas para ver si se ha cumplido correctamente"
   ]
  },
  {
   "cell_type": "code",
   "execution_count": 50,
   "metadata": {},
   "outputs": [
    {
     "data": {
      "text/html": [
       "<div>\n",
       "<style scoped>\n",
       "    .dataframe tbody tr th:only-of-type {\n",
       "        vertical-align: middle;\n",
       "    }\n",
       "\n",
       "    .dataframe tbody tr th {\n",
       "        vertical-align: top;\n",
       "    }\n",
       "\n",
       "    .dataframe thead th {\n",
       "        text-align: right;\n",
       "    }\n",
       "</style>\n",
       "<table border=\"1\" class=\"dataframe\">\n",
       "  <thead>\n",
       "    <tr style=\"text-align: right;\">\n",
       "      <th></th>\n",
       "      <th>creationTime</th>\n",
       "      <th>gameDuration</th>\n",
       "      <th>seasonId</th>\n",
       "      <th>winner</th>\n",
       "      <th>firstBlood</th>\n",
       "      <th>firstTower</th>\n",
       "      <th>firstInhibitor</th>\n",
       "      <th>firstBaron</th>\n",
       "      <th>firstDragon</th>\n",
       "      <th>firstRiftHerald</th>\n",
       "      <th>...</th>\n",
       "      <th>t2_towerKills</th>\n",
       "      <th>t2_inhibitorKills</th>\n",
       "      <th>t2_baronKills</th>\n",
       "      <th>t2_dragonKills</th>\n",
       "      <th>t2_riftHeraldKills</th>\n",
       "      <th>t2_ban1</th>\n",
       "      <th>t2_ban2</th>\n",
       "      <th>t2_ban3</th>\n",
       "      <th>t2_ban4</th>\n",
       "      <th>t2_ban5</th>\n",
       "    </tr>\n",
       "    <tr>\n",
       "      <th>gameId</th>\n",
       "      <th></th>\n",
       "      <th></th>\n",
       "      <th></th>\n",
       "      <th></th>\n",
       "      <th></th>\n",
       "      <th></th>\n",
       "      <th></th>\n",
       "      <th></th>\n",
       "      <th></th>\n",
       "      <th></th>\n",
       "      <th></th>\n",
       "      <th></th>\n",
       "      <th></th>\n",
       "      <th></th>\n",
       "      <th></th>\n",
       "      <th></th>\n",
       "      <th></th>\n",
       "      <th></th>\n",
       "      <th></th>\n",
       "      <th></th>\n",
       "      <th></th>\n",
       "    </tr>\n",
       "  </thead>\n",
       "  <tbody>\n",
       "    <tr>\n",
       "      <th>3326086514</th>\n",
       "      <td>1504279457970</td>\n",
       "      <td>1949</td>\n",
       "      <td>9</td>\n",
       "      <td>1</td>\n",
       "      <td>2</td>\n",
       "      <td>1</td>\n",
       "      <td>1</td>\n",
       "      <td>1</td>\n",
       "      <td>1</td>\n",
       "      <td>2</td>\n",
       "      <td>...</td>\n",
       "      <td>5</td>\n",
       "      <td>0</td>\n",
       "      <td>0</td>\n",
       "      <td>1</td>\n",
       "      <td>1</td>\n",
       "      <td>114</td>\n",
       "      <td>67</td>\n",
       "      <td>43</td>\n",
       "      <td>16</td>\n",
       "      <td>51</td>\n",
       "    </tr>\n",
       "  </tbody>\n",
       "</table>\n",
       "<p>1 rows × 60 columns</p>\n",
       "</div>"
      ],
      "text/plain": [
       "             creationTime  gameDuration  seasonId  winner  firstBlood  \\\n",
       "gameId                                                                  \n",
       "3326086514  1504279457970          1949         9       1           2   \n",
       "\n",
       "            firstTower  firstInhibitor  firstBaron  firstDragon  \\\n",
       "gameId                                                            \n",
       "3326086514           1               1           1            1   \n",
       "\n",
       "            firstRiftHerald   ...     t2_towerKills  t2_inhibitorKills  \\\n",
       "gameId                        ...                                        \n",
       "3326086514                2   ...                 5                  0   \n",
       "\n",
       "            t2_baronKills  t2_dragonKills  t2_riftHeraldKills  t2_ban1  \\\n",
       "gameId                                                                   \n",
       "3326086514              0               1                   1      114   \n",
       "\n",
       "            t2_ban2  t2_ban3  t2_ban4  t2_ban5  \n",
       "gameId                                          \n",
       "3326086514       67       43       16       51  \n",
       "\n",
       "[1 rows x 60 columns]"
      ]
     },
     "execution_count": 50,
     "metadata": {},
     "output_type": "execute_result"
    }
   ],
   "source": [
    "games.head(1)"
   ]
  },
  {
   "cell_type": "code",
   "execution_count": 51,
   "metadata": {},
   "outputs": [
    {
     "data": {
      "text/html": [
       "<div>\n",
       "<style scoped>\n",
       "    .dataframe tbody tr th:only-of-type {\n",
       "        vertical-align: middle;\n",
       "    }\n",
       "\n",
       "    .dataframe tbody tr th {\n",
       "        vertical-align: top;\n",
       "    }\n",
       "\n",
       "    .dataframe thead th {\n",
       "        text-align: right;\n",
       "    }\n",
       "</style>\n",
       "<table border=\"1\" class=\"dataframe\">\n",
       "  <thead>\n",
       "    <tr style=\"text-align: right;\">\n",
       "      <th></th>\n",
       "      <th>name</th>\n",
       "    </tr>\n",
       "    <tr>\n",
       "      <th>id</th>\n",
       "      <th></th>\n",
       "    </tr>\n",
       "  </thead>\n",
       "  <tbody>\n",
       "    <tr>\n",
       "      <th>24</th>\n",
       "      <td>Jax</td>\n",
       "    </tr>\n",
       "  </tbody>\n",
       "</table>\n",
       "</div>"
      ],
      "text/plain": [
       "   name\n",
       "id     \n",
       "24  Jax"
      ]
     },
     "execution_count": 51,
     "metadata": {},
     "output_type": "execute_result"
    }
   ],
   "source": [
    "champs.head(1)"
   ]
  },
  {
   "cell_type": "markdown",
   "metadata": {},
   "source": [
    "Siguiente paso: Eliminación de las columnas superfluas"
   ]
  },
  {
   "cell_type": "code",
   "execution_count": 52,
   "metadata": {},
   "outputs": [],
   "source": [
    "# El resto de columnas me las quedaré por si acaso\n",
    "games = games.drop(['seasonId'], axis=1)"
   ]
  },
  {
   "cell_type": "markdown",
   "metadata": {},
   "source": [
    "Paso siguiente: Detección de NA's"
   ]
  },
  {
   "cell_type": "code",
   "execution_count": 154,
   "metadata": {},
   "outputs": [
    {
     "data": {
      "text/plain": [
       "creationTime          False\n",
       "gameDuration          False\n",
       "winner                False\n",
       "firstBlood            False\n",
       "firstTower            False\n",
       "firstInhibitor        False\n",
       "firstBaron            False\n",
       "firstDragon           False\n",
       "firstRiftHerald       False\n",
       "t1_towerKills         False\n",
       "t1_inhibitorKills     False\n",
       "t1_baronKills         False\n",
       "t1_dragonKills        False\n",
       "t1_riftHeraldKills    False\n",
       "t2_towerKills         False\n",
       "t2_inhibitorKills     False\n",
       "t2_baronKills         False\n",
       "t2_dragonKills        False\n",
       "t2_riftHeraldKills    False\n",
       "t1_c1                 False\n",
       "t1_c2                 False\n",
       "t1_c3                 False\n",
       "t1_c4                 False\n",
       "t1_c5                 False\n",
       "t2_c1                 False\n",
       "t2_c2                 False\n",
       "t2_c3                 False\n",
       "t2_c4                 False\n",
       "t2_c5                 False\n",
       "t1_c1_s1              False\n",
       "t1_c1_s2              False\n",
       "t1_c2_s1              False\n",
       "t1_c2_s2              False\n",
       "t1_c3_s1              False\n",
       "t1_c3_s2              False\n",
       "t1_c4_s1              False\n",
       "t1_c4_s2              False\n",
       "t1_c5_s1              False\n",
       "t1_c5_s2              False\n",
       "t2_c1_s1              False\n",
       "t2_c1_s2              False\n",
       "t2_c2_s1              False\n",
       "t2_c2_s2              False\n",
       "t2_c3_s1              False\n",
       "t2_c3_s2              False\n",
       "t2_c4_s1              False\n",
       "t2_c4_s2              False\n",
       "t2_c5_s1              False\n",
       "t2_c5_s2              False\n",
       "t1_b1                  True\n",
       "t1_b2                  True\n",
       "t1_b3                  True\n",
       "t1_b4                  True\n",
       "t1_b5                  True\n",
       "t2_b1                  True\n",
       "t2_b2                  True\n",
       "t2_b3                  True\n",
       "t2_b4                  True\n",
       "t2_b5                  True\n",
       "dtype: bool"
      ]
     },
     "execution_count": 154,
     "metadata": {},
     "output_type": "execute_result"
    }
   ],
   "source": [
    "games.isna().any()"
   ]
  },
  {
   "cell_type": "markdown",
   "metadata": {},
   "source": [
    "Siguiente paso: Conversión del tiempo Unix en fecha legible"
   ]
  },
  {
   "cell_type": "code",
   "execution_count": 54,
   "metadata": {},
   "outputs": [],
   "source": [
    "games.creationTime = pd.to_datetime(games.creationTime, unit='ms')"
   ]
  },
  {
   "cell_type": "code",
   "execution_count": 55,
   "metadata": {},
   "outputs": [
    {
     "data": {
      "text/html": [
       "<div>\n",
       "<style scoped>\n",
       "    .dataframe tbody tr th:only-of-type {\n",
       "        vertical-align: middle;\n",
       "    }\n",
       "\n",
       "    .dataframe tbody tr th {\n",
       "        vertical-align: top;\n",
       "    }\n",
       "\n",
       "    .dataframe thead th {\n",
       "        text-align: right;\n",
       "    }\n",
       "</style>\n",
       "<table border=\"1\" class=\"dataframe\">\n",
       "  <thead>\n",
       "    <tr style=\"text-align: right;\">\n",
       "      <th></th>\n",
       "      <th>creationTime</th>\n",
       "      <th>gameDuration</th>\n",
       "      <th>winner</th>\n",
       "      <th>firstBlood</th>\n",
       "      <th>firstTower</th>\n",
       "      <th>firstInhibitor</th>\n",
       "      <th>firstBaron</th>\n",
       "      <th>firstDragon</th>\n",
       "      <th>firstRiftHerald</th>\n",
       "      <th>t1_champ1id</th>\n",
       "      <th>...</th>\n",
       "      <th>t2_towerKills</th>\n",
       "      <th>t2_inhibitorKills</th>\n",
       "      <th>t2_baronKills</th>\n",
       "      <th>t2_dragonKills</th>\n",
       "      <th>t2_riftHeraldKills</th>\n",
       "      <th>t2_ban1</th>\n",
       "      <th>t2_ban2</th>\n",
       "      <th>t2_ban3</th>\n",
       "      <th>t2_ban4</th>\n",
       "      <th>t2_ban5</th>\n",
       "    </tr>\n",
       "    <tr>\n",
       "      <th>gameId</th>\n",
       "      <th></th>\n",
       "      <th></th>\n",
       "      <th></th>\n",
       "      <th></th>\n",
       "      <th></th>\n",
       "      <th></th>\n",
       "      <th></th>\n",
       "      <th></th>\n",
       "      <th></th>\n",
       "      <th></th>\n",
       "      <th></th>\n",
       "      <th></th>\n",
       "      <th></th>\n",
       "      <th></th>\n",
       "      <th></th>\n",
       "      <th></th>\n",
       "      <th></th>\n",
       "      <th></th>\n",
       "      <th></th>\n",
       "      <th></th>\n",
       "      <th></th>\n",
       "    </tr>\n",
       "  </thead>\n",
       "  <tbody>\n",
       "    <tr>\n",
       "      <th>3326086514</th>\n",
       "      <td>2017-09-01 15:24:17.970</td>\n",
       "      <td>1949</td>\n",
       "      <td>1</td>\n",
       "      <td>2</td>\n",
       "      <td>1</td>\n",
       "      <td>1</td>\n",
       "      <td>1</td>\n",
       "      <td>1</td>\n",
       "      <td>2</td>\n",
       "      <td>8</td>\n",
       "      <td>...</td>\n",
       "      <td>5</td>\n",
       "      <td>0</td>\n",
       "      <td>0</td>\n",
       "      <td>1</td>\n",
       "      <td>1</td>\n",
       "      <td>114</td>\n",
       "      <td>67</td>\n",
       "      <td>43</td>\n",
       "      <td>16</td>\n",
       "      <td>51</td>\n",
       "    </tr>\n",
       "    <tr>\n",
       "      <th>3229566029</th>\n",
       "      <td>2017-06-19 05:06:43.862</td>\n",
       "      <td>1851</td>\n",
       "      <td>1</td>\n",
       "      <td>1</td>\n",
       "      <td>1</td>\n",
       "      <td>1</td>\n",
       "      <td>0</td>\n",
       "      <td>1</td>\n",
       "      <td>1</td>\n",
       "      <td>119</td>\n",
       "      <td>...</td>\n",
       "      <td>2</td>\n",
       "      <td>0</td>\n",
       "      <td>0</td>\n",
       "      <td>0</td>\n",
       "      <td>0</td>\n",
       "      <td>11</td>\n",
       "      <td>67</td>\n",
       "      <td>238</td>\n",
       "      <td>51</td>\n",
       "      <td>420</td>\n",
       "    </tr>\n",
       "  </tbody>\n",
       "</table>\n",
       "<p>2 rows × 59 columns</p>\n",
       "</div>"
      ],
      "text/plain": [
       "                      creationTime  gameDuration  winner  firstBlood  \\\n",
       "gameId                                                                 \n",
       "3326086514 2017-09-01 15:24:17.970          1949       1           2   \n",
       "3229566029 2017-06-19 05:06:43.862          1851       1           1   \n",
       "\n",
       "            firstTower  firstInhibitor  firstBaron  firstDragon  \\\n",
       "gameId                                                            \n",
       "3326086514           1               1           1            1   \n",
       "3229566029           1               1           0            1   \n",
       "\n",
       "            firstRiftHerald  t1_champ1id   ...     t2_towerKills  \\\n",
       "gameId                                     ...                     \n",
       "3326086514                2            8   ...                 5   \n",
       "3229566029                1          119   ...                 2   \n",
       "\n",
       "            t2_inhibitorKills  t2_baronKills  t2_dragonKills  \\\n",
       "gameId                                                         \n",
       "3326086514                  0              0               1   \n",
       "3229566029                  0              0               0   \n",
       "\n",
       "            t2_riftHeraldKills  t2_ban1  t2_ban2  t2_ban3  t2_ban4  t2_ban5  \n",
       "gameId                                                                       \n",
       "3326086514                   1      114       67       43       16       51  \n",
       "3229566029                   0       11       67      238       51      420  \n",
       "\n",
       "[2 rows x 59 columns]"
      ]
     },
     "execution_count": 55,
     "metadata": {},
     "output_type": "execute_result"
    }
   ],
   "source": [
    "games.head(2)"
   ]
  },
  {
   "cell_type": "markdown",
   "metadata": {},
   "source": [
    "Ahora tenemos todos los datos sin NA's, la fecha convertida, las columnas innecesarias de primeras quitadas, y los dataframes correctamente indexados"
   ]
  },
  {
   "cell_type": "markdown",
   "metadata": {},
   "source": [
    "Siguiente paso: Sustitución del número de los campeones por el nombre de los campeones en sí"
   ]
  },
  {
   "cell_type": "code",
   "execution_count": 56,
   "metadata": {},
   "outputs": [],
   "source": [
    "games = games.merge(champs, left_on='t1_champ1id', right_on='id', how='left' )\n",
    "games = games.merge(champs, left_on='t1_champ2id', right_on='id', how='left' )\n",
    "\n",
    "games = games.rename(columns={\"name_x\": \"t1_c1\", \"name_y\": \"t1_c2\"})\n",
    "\n",
    "games = games.merge(champs, left_on='t1_champ3id', right_on='id', how='left' ) \n",
    "games = games.merge(champs, left_on='t1_champ4id', right_on='id', how='left' )\n",
    "\n",
    "games = games.rename(columns={\"name_x\": \"t1_c3\", \"name_y\": \"t1_c4\"})\n",
    "\n",
    "games = games.merge(champs, left_on='t1_champ5id', right_on='id', how='left' )\n",
    "games = games.merge(champs, left_on='t2_champ1id', right_on='id', how='left' )\n",
    "\n",
    "games = games.rename(columns={\"name_x\": \"t1_c5\", \"name_y\": \"t2_c1\"})\n",
    "\n",
    "games = games.merge(champs, left_on='t2_champ2id', right_on='id', how='left' ) \n",
    "games = games.merge(champs, left_on='t2_champ3id', right_on='id', how='left' )\n",
    "\n",
    "games = games.rename(columns={\"name_x\": \"t2_c2\", \"name_y\": \"t2_c3\"})\n",
    "\n",
    "games = games.merge(champs, left_on='t2_champ4id', right_on='id', how='left' ) \n",
    "games = games.merge(champs, left_on='t2_champ5id', right_on='id', how='left' )\n",
    "\n",
    "games = games.rename(columns={\"name_x\": \"t2_c4\", \"name_y\": \"t2_c5\"})\n",
    "\n",
    "# Ahora que tenemos todo renombrado y bonito, podemos eliminar las columnas que nos han servido para joinear\n",
    "\n",
    "games = games.drop(['t1_champ1id', 't1_champ2id', 't1_champ3id', 't1_champ4id', 't1_champ5id',\n",
    "                    't2_champ1id', 't2_champ2id', 't2_champ3id', 't2_champ4id', 't2_champ5id'],\n",
    "                   axis=1)"
   ]
  },
  {
   "cell_type": "code",
   "execution_count": 57,
   "metadata": {},
   "outputs": [
    {
     "data": {
      "text/html": [
       "<div>\n",
       "<style scoped>\n",
       "    .dataframe tbody tr th:only-of-type {\n",
       "        vertical-align: middle;\n",
       "    }\n",
       "\n",
       "    .dataframe tbody tr th {\n",
       "        vertical-align: top;\n",
       "    }\n",
       "\n",
       "    .dataframe thead th {\n",
       "        text-align: right;\n",
       "    }\n",
       "</style>\n",
       "<table border=\"1\" class=\"dataframe\">\n",
       "  <thead>\n",
       "    <tr style=\"text-align: right;\">\n",
       "      <th></th>\n",
       "      <th>creationTime</th>\n",
       "      <th>gameDuration</th>\n",
       "      <th>winner</th>\n",
       "      <th>firstBlood</th>\n",
       "      <th>firstTower</th>\n",
       "      <th>firstInhibitor</th>\n",
       "      <th>firstBaron</th>\n",
       "      <th>firstDragon</th>\n",
       "      <th>firstRiftHerald</th>\n",
       "      <th>t1_champ1_sum1</th>\n",
       "      <th>...</th>\n",
       "      <th>t1_c1</th>\n",
       "      <th>t1_c2</th>\n",
       "      <th>t1_c3</th>\n",
       "      <th>t1_c4</th>\n",
       "      <th>t1_c5</th>\n",
       "      <th>t2_c1</th>\n",
       "      <th>t2_c2</th>\n",
       "      <th>t2_c3</th>\n",
       "      <th>t2_c4</th>\n",
       "      <th>t2_c5</th>\n",
       "    </tr>\n",
       "  </thead>\n",
       "  <tbody>\n",
       "    <tr>\n",
       "      <th>0</th>\n",
       "      <td>2017-09-01 15:24:17.970</td>\n",
       "      <td>1949</td>\n",
       "      <td>1</td>\n",
       "      <td>2</td>\n",
       "      <td>1</td>\n",
       "      <td>1</td>\n",
       "      <td>1</td>\n",
       "      <td>1</td>\n",
       "      <td>2</td>\n",
       "      <td>12</td>\n",
       "      <td>...</td>\n",
       "      <td>Vladimir</td>\n",
       "      <td>Bard</td>\n",
       "      <td>KogMaw</td>\n",
       "      <td>Master Yi</td>\n",
       "      <td>Viktor</td>\n",
       "      <td>Graves</td>\n",
       "      <td>Xayah</td>\n",
       "      <td>Darius</td>\n",
       "      <td>Zed</td>\n",
       "      <td>Thresh</td>\n",
       "    </tr>\n",
       "  </tbody>\n",
       "</table>\n",
       "<p>1 rows × 59 columns</p>\n",
       "</div>"
      ],
      "text/plain": [
       "             creationTime  gameDuration  winner  firstBlood  firstTower  \\\n",
       "0 2017-09-01 15:24:17.970          1949       1           2           1   \n",
       "\n",
       "   firstInhibitor  firstBaron  firstDragon  firstRiftHerald  t1_champ1_sum1  \\\n",
       "0               1           1            1                2              12   \n",
       "\n",
       "    ...       t1_c1  t1_c2   t1_c3      t1_c4   t1_c5   t2_c1  t2_c2   t2_c3  \\\n",
       "0   ...    Vladimir   Bard  KogMaw  Master Yi  Viktor  Graves  Xayah  Darius   \n",
       "\n",
       "   t2_c4   t2_c5  \n",
       "0    Zed  Thresh  \n",
       "\n",
       "[1 rows x 59 columns]"
      ]
     },
     "execution_count": 57,
     "metadata": {},
     "output_type": "execute_result"
    }
   ],
   "source": [
    "games.head(1)"
   ]
  },
  {
   "cell_type": "markdown",
   "metadata": {},
   "source": [
    "Ahora se tiene que hacer lo mismo con las summoner spells"
   ]
  },
  {
   "cell_type": "code",
   "execution_count": 58,
   "metadata": {},
   "outputs": [
    {
     "data": {
      "text/html": [
       "<div>\n",
       "<style scoped>\n",
       "    .dataframe tbody tr th:only-of-type {\n",
       "        vertical-align: middle;\n",
       "    }\n",
       "\n",
       "    .dataframe tbody tr th {\n",
       "        vertical-align: top;\n",
       "    }\n",
       "\n",
       "    .dataframe thead th {\n",
       "        text-align: right;\n",
       "    }\n",
       "</style>\n",
       "<table border=\"1\" class=\"dataframe\">\n",
       "  <thead>\n",
       "    <tr style=\"text-align: right;\">\n",
       "      <th></th>\n",
       "      <th>name</th>\n",
       "    </tr>\n",
       "    <tr>\n",
       "      <th>id</th>\n",
       "      <th></th>\n",
       "    </tr>\n",
       "  </thead>\n",
       "  <tbody>\n",
       "    <tr>\n",
       "      <th>1</th>\n",
       "      <td>Cleanse</td>\n",
       "    </tr>\n",
       "    <tr>\n",
       "      <th>3</th>\n",
       "      <td>Exhaust</td>\n",
       "    </tr>\n",
       "  </tbody>\n",
       "</table>\n",
       "</div>"
      ],
      "text/plain": [
       "       name\n",
       "id         \n",
       "1   Cleanse\n",
       "3   Exhaust"
      ]
     },
     "execution_count": 58,
     "metadata": {},
     "output_type": "execute_result"
    }
   ],
   "source": [
    "summonerSpells = pd.read_json(\"data/summoner_spell_info.json\")\n",
    "summonerSpells = summonerSpells.transpose()\n",
    "summonerSpells = summonerSpells.set_index(\"id\")\n",
    "\n",
    "# Se borran las columnas innecesarias\n",
    "\n",
    "summonerSpells = summonerSpells.drop(['description', 'key', 'summonerLevel'], axis=1)\n",
    "\n",
    "summonerSpells.head(2)"
   ]
  },
  {
   "cell_type": "code",
   "execution_count": 59,
   "metadata": {},
   "outputs": [
    {
     "data": {
      "text/html": [
       "<div>\n",
       "<style scoped>\n",
       "    .dataframe tbody tr th:only-of-type {\n",
       "        vertical-align: middle;\n",
       "    }\n",
       "\n",
       "    .dataframe tbody tr th {\n",
       "        vertical-align: top;\n",
       "    }\n",
       "\n",
       "    .dataframe thead th {\n",
       "        text-align: right;\n",
       "    }\n",
       "</style>\n",
       "<table border=\"1\" class=\"dataframe\">\n",
       "  <thead>\n",
       "    <tr style=\"text-align: right;\">\n",
       "      <th></th>\n",
       "      <th>creationTime</th>\n",
       "      <th>gameDuration</th>\n",
       "      <th>winner</th>\n",
       "      <th>firstBlood</th>\n",
       "      <th>firstTower</th>\n",
       "      <th>firstInhibitor</th>\n",
       "      <th>firstBaron</th>\n",
       "      <th>firstDragon</th>\n",
       "      <th>firstRiftHerald</th>\n",
       "      <th>t1_towerKills</th>\n",
       "      <th>...</th>\n",
       "      <th>t2_c1_s1</th>\n",
       "      <th>t2_c1_s2</th>\n",
       "      <th>t2_c2_s1</th>\n",
       "      <th>t2_c2_s2</th>\n",
       "      <th>t2_c3_s1</th>\n",
       "      <th>t2_c3_s2</th>\n",
       "      <th>t2_c4_s1</th>\n",
       "      <th>t2_c4_s2</th>\n",
       "      <th>t2_c5_s1</th>\n",
       "      <th>t2_c5_s2</th>\n",
       "    </tr>\n",
       "  </thead>\n",
       "  <tbody>\n",
       "    <tr>\n",
       "      <th>0</th>\n",
       "      <td>2017-09-01 15:24:17.970</td>\n",
       "      <td>1949</td>\n",
       "      <td>1</td>\n",
       "      <td>2</td>\n",
       "      <td>1</td>\n",
       "      <td>1</td>\n",
       "      <td>1</td>\n",
       "      <td>1</td>\n",
       "      <td>2</td>\n",
       "      <td>11</td>\n",
       "      <td>...</td>\n",
       "      <td>Smite</td>\n",
       "      <td>Flash</td>\n",
       "      <td>Flash</td>\n",
       "      <td>Heal</td>\n",
       "      <td>Ghost</td>\n",
       "      <td>Flash</td>\n",
       "      <td>Ignite</td>\n",
       "      <td>Flash</td>\n",
       "      <td>Flash</td>\n",
       "      <td>Exhaust</td>\n",
       "    </tr>\n",
       "  </tbody>\n",
       "</table>\n",
       "<p>1 rows × 59 columns</p>\n",
       "</div>"
      ],
      "text/plain": [
       "             creationTime  gameDuration  winner  firstBlood  firstTower  \\\n",
       "0 2017-09-01 15:24:17.970          1949       1           2           1   \n",
       "\n",
       "   firstInhibitor  firstBaron  firstDragon  firstRiftHerald  t1_towerKills  \\\n",
       "0               1           1            1                2             11   \n",
       "\n",
       "     ...     t2_c1_s1  t2_c1_s2  t2_c2_s1  t2_c2_s2  t2_c3_s1  t2_c3_s2  \\\n",
       "0    ...        Smite     Flash     Flash      Heal     Ghost     Flash   \n",
       "\n",
       "   t2_c4_s1  t2_c4_s2  t2_c5_s1  t2_c5_s2  \n",
       "0    Ignite     Flash     Flash   Exhaust  \n",
       "\n",
       "[1 rows x 59 columns]"
      ]
     },
     "execution_count": 59,
     "metadata": {},
     "output_type": "execute_result"
    }
   ],
   "source": [
    "# Una vez que se tiene el dataset correctamente hecho, se procede como en la vez anterior para poner los nombres en vez de los códigos\n",
    "\n",
    "games = games.merge(summonerSpells, left_on='t1_champ1_sum1', right_on='id', how='left' )\n",
    "games = games.merge(summonerSpells, left_on='t1_champ1_sum2', right_on='id', how='left' )\n",
    "\n",
    "games = games.rename(columns={\"name_x\": \"t1_c1_s1\", \"name_y\": \"t1_c1_s2\"})\n",
    "\n",
    "games = games.merge(summonerSpells, left_on='t1_champ2_sum1', right_on='id', how='left' )\n",
    "games = games.merge(summonerSpells, left_on='t1_champ2_sum2', right_on='id', how='left' )\n",
    "\n",
    "games = games.rename(columns={\"name_x\": \"t1_c2_s1\", \"name_y\": \"t1_c2_s2\"})\n",
    "\n",
    "games = games.merge(summonerSpells, left_on='t1_champ3_sum1', right_on='id', how='left' )\n",
    "games = games.merge(summonerSpells, left_on='t1_champ3_sum2', right_on='id', how='left' )\n",
    "\n",
    "games = games.rename(columns={\"name_x\": \"t1_c3_s1\", \"name_y\": \"t1_c3_s2\"})\n",
    "\n",
    "games = games.merge(summonerSpells, left_on='t1_champ4_sum1', right_on='id', how='left' )\n",
    "games = games.merge(summonerSpells, left_on='t1_champ4_sum2', right_on='id', how='left' )\n",
    "\n",
    "games = games.rename(columns={\"name_x\": \"t1_c4_s1\", \"name_y\": \"t1_c4_s2\"})\n",
    "\n",
    "games = games.merge(summonerSpells, left_on='t1_champ5_sum1', right_on='id', how='left' )\n",
    "games = games.merge(summonerSpells, left_on='t1_champ5_sum2', right_on='id', how='left' )\n",
    "\n",
    "games = games.rename(columns={\"name_x\": \"t1_c5_s1\", \"name_y\": \"t1_c5_s2\"})\n",
    "\n",
    "games = games.merge(summonerSpells, left_on='t2_champ1_sum1', right_on='id', how='left' )\n",
    "games = games.merge(summonerSpells, left_on='t2_champ1_sum2', right_on='id', how='left' )\n",
    "\n",
    "games = games.rename(columns={\"name_x\": \"t2_c1_s1\", \"name_y\": \"t2_c1_s2\"})\n",
    "\n",
    "games = games.merge(summonerSpells, left_on='t2_champ2_sum1', right_on='id', how='left' )\n",
    "games = games.merge(summonerSpells, left_on='t2_champ2_sum2', right_on='id', how='left' )\n",
    "\n",
    "games = games.rename(columns={\"name_x\": \"t2_c2_s1\", \"name_y\": \"t2_c2_s2\"})\n",
    "\n",
    "games = games.merge(summonerSpells, left_on='t2_champ3_sum1', right_on='id', how='left' )\n",
    "games = games.merge(summonerSpells, left_on='t2_champ3_sum2', right_on='id', how='left' )\n",
    "\n",
    "games = games.rename(columns={\"name_x\": \"t2_c3_s1\", \"name_y\": \"t2_c3_s2\"})\n",
    "\n",
    "games = games.merge(summonerSpells, left_on='t2_champ4_sum1', right_on='id', how='left' )\n",
    "games = games.merge(summonerSpells, left_on='t2_champ4_sum2', right_on='id', how='left' )\n",
    "\n",
    "games = games.rename(columns={\"name_x\": \"t2_c4_s1\", \"name_y\": \"t2_c4_s2\"})\n",
    "\n",
    "games = games.merge(summonerSpells, left_on='t2_champ5_sum1', right_on='id', how='left' )\n",
    "games = games.merge(summonerSpells, left_on='t2_champ5_sum2', right_on='id', how='left' )\n",
    "\n",
    "games = games.rename(columns={\"name_x\": \"t2_c5_s1\", \"name_y\": \"t2_c5_s2\"})\n",
    "\n",
    "# Ahora que se tiene todo renombrado y bonito, se pueden eliminar las columnas que nos han servido para joinear\n",
    "\n",
    "games = games.drop(['t1_champ1_sum1', 't1_champ1_sum2', 't1_champ2_sum1', 't1_champ2_sum2',\n",
    "                    't1_champ3_sum1', 't1_champ3_sum2', 't1_champ4_sum1', 't1_champ4_sum2',\n",
    "                    't1_champ5_sum1', 't1_champ5_sum2', 't2_champ1_sum1', 't2_champ1_sum2',\n",
    "                    't2_champ2_sum1', 't2_champ2_sum2', 't2_champ3_sum1', 't2_champ3_sum2',\n",
    "                    't2_champ4_sum1', 't2_champ4_sum2', 't2_champ5_sum1', 't2_champ5_sum2'],\n",
    "                   axis=1)\n",
    "\n",
    "games.head(1)"
   ]
  },
  {
   "cell_type": "markdown",
   "metadata": {},
   "source": [
    "Ahora hay que hacer lo mismo con los bans de ambos equipos, volviendo al dataframe de los champs"
   ]
  },
  {
   "cell_type": "code",
   "execution_count": 60,
   "metadata": {},
   "outputs": [
    {
     "data": {
      "text/html": [
       "<div>\n",
       "<style scoped>\n",
       "    .dataframe tbody tr th:only-of-type {\n",
       "        vertical-align: middle;\n",
       "    }\n",
       "\n",
       "    .dataframe tbody tr th {\n",
       "        vertical-align: top;\n",
       "    }\n",
       "\n",
       "    .dataframe thead th {\n",
       "        text-align: right;\n",
       "    }\n",
       "</style>\n",
       "<table border=\"1\" class=\"dataframe\">\n",
       "  <thead>\n",
       "    <tr style=\"text-align: right;\">\n",
       "      <th></th>\n",
       "      <th>creationTime</th>\n",
       "      <th>gameDuration</th>\n",
       "      <th>winner</th>\n",
       "      <th>firstBlood</th>\n",
       "      <th>firstTower</th>\n",
       "      <th>firstInhibitor</th>\n",
       "      <th>firstBaron</th>\n",
       "      <th>firstDragon</th>\n",
       "      <th>firstRiftHerald</th>\n",
       "      <th>t1_towerKills</th>\n",
       "      <th>...</th>\n",
       "      <th>t1_b1</th>\n",
       "      <th>t1_b2</th>\n",
       "      <th>t1_b3</th>\n",
       "      <th>t1_b4</th>\n",
       "      <th>t1_b5</th>\n",
       "      <th>t2_b1</th>\n",
       "      <th>t2_b2</th>\n",
       "      <th>t2_b3</th>\n",
       "      <th>t2_b4</th>\n",
       "      <th>t2_b5</th>\n",
       "    </tr>\n",
       "  </thead>\n",
       "  <tbody>\n",
       "    <tr>\n",
       "      <th>0</th>\n",
       "      <td>2017-09-01 15:24:17.970</td>\n",
       "      <td>1949</td>\n",
       "      <td>1</td>\n",
       "      <td>2</td>\n",
       "      <td>1</td>\n",
       "      <td>1</td>\n",
       "      <td>1</td>\n",
       "      <td>1</td>\n",
       "      <td>2</td>\n",
       "      <td>11</td>\n",
       "      <td>...</td>\n",
       "      <td>Riven</td>\n",
       "      <td>Janna</td>\n",
       "      <td>Cassiopeia</td>\n",
       "      <td>Draven</td>\n",
       "      <td>Kayn</td>\n",
       "      <td>Fiora</td>\n",
       "      <td>Vayne</td>\n",
       "      <td>Karma</td>\n",
       "      <td>Soraka</td>\n",
       "      <td>Caitlyn</td>\n",
       "    </tr>\n",
       "  </tbody>\n",
       "</table>\n",
       "<p>1 rows × 59 columns</p>\n",
       "</div>"
      ],
      "text/plain": [
       "             creationTime  gameDuration  winner  firstBlood  firstTower  \\\n",
       "0 2017-09-01 15:24:17.970          1949       1           2           1   \n",
       "\n",
       "   firstInhibitor  firstBaron  firstDragon  firstRiftHerald  t1_towerKills  \\\n",
       "0               1           1            1                2             11   \n",
       "\n",
       "    ...     t1_b1  t1_b2       t1_b3   t1_b4  t1_b5  t2_b1  t2_b2  t2_b3  \\\n",
       "0   ...     Riven  Janna  Cassiopeia  Draven   Kayn  Fiora  Vayne  Karma   \n",
       "\n",
       "    t2_b4    t2_b5  \n",
       "0  Soraka  Caitlyn  \n",
       "\n",
       "[1 rows x 59 columns]"
      ]
     },
     "execution_count": 60,
     "metadata": {},
     "output_type": "execute_result"
    }
   ],
   "source": [
    "games = games.merge(champs, left_on='t1_ban1', right_on='id', how='left' )\n",
    "games = games.merge(champs, left_on='t1_ban2', right_on='id', how='left' )\n",
    "\n",
    "games = games.rename(columns={\"name_x\": \"t1_b1\", \"name_y\": \"t1_b2\"})\n",
    "\n",
    "games = games.merge(champs, left_on='t1_ban3', right_on='id', how='left' ) \n",
    "games = games.merge(champs, left_on='t1_ban4', right_on='id', how='left' )\n",
    "\n",
    "games = games.rename(columns={\"name_x\": \"t1_b3\", \"name_y\": \"t1_b4\"})\n",
    "\n",
    "games = games.merge(champs, left_on='t1_ban5', right_on='id', how='left' )\n",
    "games = games.merge(champs, left_on='t2_ban1', right_on='id', how='left' )\n",
    "\n",
    "games = games.rename(columns={\"name_x\": \"t1_b5\", \"name_y\": \"t2_b1\"})\n",
    "\n",
    "games = games.merge(champs, left_on='t2_ban2', right_on='id', how='left' ) \n",
    "games = games.merge(champs, left_on='t2_ban3', right_on='id', how='left' )\n",
    "\n",
    "games = games.rename(columns={\"name_x\": \"t2_b2\", \"name_y\": \"t2_b3\"})\n",
    "\n",
    "games = games.merge(champs, left_on='t2_ban4', right_on='id', how='left' ) \n",
    "games = games.merge(champs, left_on='t2_ban5', right_on='id', how='left' )\n",
    "\n",
    "games = games.rename(columns={\"name_x\": \"t2_b4\", \"name_y\": \"t2_b5\"})\n",
    "\n",
    "# Ahora que tenemos todo renombrado y bonito, podemos eliminar las columnas que nos han servido para joinear\n",
    "\n",
    "games = games.drop(['t1_ban1', 't1_ban2', 't1_ban3', 't1_ban4', 't1_ban5',\n",
    "                    't2_ban1', 't2_ban2', 't2_ban3', 't2_ban4', 't2_ban5'],\n",
    "                   axis=1)\n",
    "\n",
    "games.head(1)"
   ]
  },
  {
   "cell_type": "markdown",
   "metadata": {},
   "source": [
    "Conversión de los datos categóricos en dicho tipo"
   ]
  },
  {
   "cell_type": "code",
   "execution_count": 61,
   "metadata": {},
   "outputs": [
    {
     "data": {
      "text/plain": [
       "creationTime          datetime64[ns]\n",
       "gameDuration                   int64\n",
       "winner                      category\n",
       "firstBlood                  category\n",
       "firstTower                  category\n",
       "firstInhibitor              category\n",
       "firstBaron                  category\n",
       "firstDragon                 category\n",
       "firstRiftHerald             category\n",
       "t1_towerKills                  int64\n",
       "t1_inhibitorKills              int64\n",
       "t1_baronKills                  int64\n",
       "t1_dragonKills                 int64\n",
       "t1_riftHeraldKills             int64\n",
       "t2_towerKills                  int64\n",
       "t2_inhibitorKills              int64\n",
       "t2_baronKills                  int64\n",
       "t2_dragonKills                 int64\n",
       "t2_riftHeraldKills             int64\n",
       "t1_c1                       category\n",
       "t1_c2                       category\n",
       "t1_c3                       category\n",
       "t1_c4                       category\n",
       "t1_c5                       category\n",
       "t2_c1                       category\n",
       "t2_c2                       category\n",
       "t2_c3                       category\n",
       "t2_c4                       category\n",
       "t2_c5                       category\n",
       "t1_c1_s1                    category\n",
       "t1_c1_s2                    category\n",
       "t1_c2_s1                    category\n",
       "t1_c2_s2                    category\n",
       "t1_c3_s1                    category\n",
       "t1_c3_s2                    category\n",
       "t1_c4_s1                    category\n",
       "t1_c4_s2                    category\n",
       "t1_c5_s1                    category\n",
       "t1_c5_s2                    category\n",
       "t2_c1_s1                    category\n",
       "t2_c1_s2                    category\n",
       "t2_c2_s1                    category\n",
       "t2_c2_s2                    category\n",
       "t2_c3_s1                    category\n",
       "t2_c3_s2                    category\n",
       "t2_c4_s1                    category\n",
       "t2_c4_s2                    category\n",
       "t2_c5_s1                    category\n",
       "t2_c5_s2                    category\n",
       "t1_b1                       category\n",
       "t1_b2                       category\n",
       "t1_b3                       category\n",
       "t1_b4                       category\n",
       "t1_b5                       category\n",
       "t2_b1                       category\n",
       "t2_b2                       category\n",
       "t2_b3                       category\n",
       "t2_b4                       category\n",
       "t2_b5                       category\n",
       "dtype: object"
      ]
     },
     "execution_count": 61,
     "metadata": {},
     "output_type": "execute_result"
    }
   ],
   "source": [
    "for col in ['winner', 'firstBlood', 'firstTower', 'firstInhibitor', 'firstBaron', 'firstDragon', 'firstRiftHerald',\n",
    "            't1_c1', 't1_c2', 't1_c3', 't1_c4', 't1_c5', 't2_c1', 't2_c2', 't2_c3', 't2_c4', 't2_c5',\n",
    "            't1_b1', 't1_b2', 't1_b3', 't1_b4', 't1_b5', 't2_b1', 't2_b2', 't2_b3', 't2_b4', 't2_b5',\n",
    "            't1_c1_s1', 't1_c1_s2', 't1_c2_s1', 't1_c2_s2', 't1_c3_s1', 't1_c3_s2', 't1_c4_s1', 't1_c4_s2', 't1_c5_s1', 't1_c5_s2',\n",
    "            't2_c1_s1', 't2_c1_s2', 't2_c2_s1', 't2_c2_s2', 't2_c3_s1', 't2_c3_s2', 't2_c4_s1', 't2_c4_s2', 't2_c5_s1', 't2_c5_s2']:\n",
    "    \n",
    "    games[col] = games[col].astype('category')\n",
    "    \n",
    "games.dtypes"
   ]
  },
  {
   "cell_type": "markdown",
   "metadata": {},
   "source": [
    "Los datos ahora están correctamente categorizados"
   ]
  },
  {
   "cell_type": "code",
   "execution_count": 62,
   "metadata": {},
   "outputs": [],
   "source": [
    "games.to_csv(r'data/games_clean.csv')"
   ]
  },
  {
   "cell_type": "markdown",
   "metadata": {},
   "source": [
    "ANÁLISIS DE LOS DATOS"
   ]
  },
  {
   "cell_type": "markdown",
   "metadata": {},
   "source": [
    "1) Campeones más utilizados"
   ]
  },
  {
   "cell_type": "code",
   "execution_count": 124,
   "metadata": {},
   "outputs": [
    {
     "data": {
      "text/plain": [
       "Aatrox      753\n",
       "Ahri       6316\n",
       "Akali      2949\n",
       "Alistar    3476\n",
       "Amumu      2312\n",
       "dtype: int64"
      ]
     },
     "execution_count": 124,
     "metadata": {},
     "output_type": "execute_result"
    }
   ],
   "source": [
    "dict = {}\n",
    "for columna in games.columns[19: 29]:\n",
    "    dict[columna] = games[columna].value_counts()\n",
    "\n",
    "champs_used = dict[\"t1_c1\"] + dict[\"t1_c2\"] + dict[\"t1_c3\"] + dict[\"t1_c4\"] + dict[\"t1_c5\"] + dict[\"t2_c1\"] + dict[\"t2_c2\"] + dict[\"t2_c3\"] + dict[\"t2_c4\"] + dict[\"t2_c5\"]\n",
    "    \n",
    "champs_used.head()"
   ]
  },
  {
   "cell_type": "code",
   "execution_count": 64,
   "metadata": {},
   "outputs": [
    {
     "name": "stdout",
     "output_type": "stream",
     "text": [
      "El campeón que más se ha usado se ha escogido 22.65 veces más que el menos usado\n"
     ]
    }
   ],
   "source": [
    "print(\"El campeón que más se ha usado se ha escogido {:.2f} veces más que el menos usado\" .format(champs_used.values.max() / champs_used.values.min()) )"
   ]
  },
  {
   "cell_type": "code",
   "execution_count": 65,
   "metadata": {},
   "outputs": [
    {
     "data": {
      "text/plain": [
       "Thresh    13002\n",
       "dtype: int64"
      ]
     },
     "execution_count": 65,
     "metadata": {},
     "output_type": "execute_result"
    }
   ],
   "source": [
    "# Cálculo del campeón más usado\n",
    "champs_used[champs_used.values == champs_used.values.max()]"
   ]
  },
  {
   "cell_type": "code",
   "execution_count": 66,
   "metadata": {},
   "outputs": [
    {
     "data": {
      "text/plain": [
       "Skarner    574\n",
       "dtype: int64"
      ]
     },
     "execution_count": 66,
     "metadata": {},
     "output_type": "execute_result"
    }
   ],
   "source": [
    "# Cálculo del campeón menos usado\n",
    "champs_used[champs_used.values == champs_used.values.min()]"
   ]
  },
  {
   "cell_type": "code",
   "execution_count": 70,
   "metadata": {},
   "outputs": [],
   "source": [
    "# Para la visualización de esto se puede sacar un WordCloud\n",
    "\n",
    "# import sys\n",
    "#!{sys.executable} -m pip install wordcloud\n",
    "\n",
    "from wordcloud import WordCloud, STOPWORDS, ImageColorGenerator\n",
    "from PIL import Image\n",
    "import matplotlib.pyplot as plt"
   ]
  },
  {
   "cell_type": "code",
   "execution_count": 81,
   "metadata": {},
   "outputs": [
    {
     "data": {
      "text/plain": [
       "<matplotlib.image.AxesImage at 0x24de690f5c0>"
      ]
     },
     "execution_count": 81,
     "metadata": {},
     "output_type": "execute_result"
    },
    {
     "data": {
      "image/png": "[encoded data removed]",
      "text/plain": [
       "<Figure size 432x288 with 1 Axes>"
      ]
     },
     "metadata": {
      "needs_background": "light"
     },
     "output_type": "display_data"
    }
   ],
   "source": [
    "wc_picks = WordCloud(background_color=\"white\", width=3000,height=3000, max_words=100,relative_scaling=1,normalize_plurals=False).generate_from_frequencies(champs_used)\n",
    "plt.imshow(wc_picks)"
   ]
  },
  {
   "cell_type": "code",
   "execution_count": 82,
   "metadata": {},
   "outputs": [
    {
     "data": {
      "text/plain": [
       "<wordcloud.wordcloud.WordCloud at 0x24de68d9940>"
      ]
     },
     "execution_count": 82,
     "metadata": {},
     "output_type": "execute_result"
    }
   ],
   "source": [
    "wc_picks.to_file(\"imagenes/wordcloudPicks.png\")"
   ]
  },
  {
   "cell_type": "code",
   "execution_count": 121,
   "metadata": {},
   "outputs": [
    {
     "data": {
      "image/png": "[encoded data removed]",
      "text/plain": [
       "<Figure size 3960x720 with 1 Axes>"
      ]
     },
     "metadata": {
      "needs_background": "light"
     },
     "output_type": "display_data"
    }
   ],
   "source": [
    "# A continuación, un gráfico de barras para mostrarlo más detalladamente:\n",
    "\n",
    "plt.bar(range(len(champs_used)), list(champs_used.get_values()), align='center')\n",
    "plt.rcParams[\"figure.figsize\"] = [55,10]\n",
    "plt.xticks(range(len(champs_used)), list(champs_used.keys()), rotation='vertical')\n",
    "plt.savefig('imagenes/barplot Campeones Usados.png')\n",
    "\n",
    "plt.show()"
   ]
  },
  {
   "cell_type": "markdown",
   "metadata": {},
   "source": [
    "Finalmente, voy a calcular el porcentaje de picks por partida del campeón más usado: Thresh"
   ]
  },
  {
   "cell_type": "code",
   "execution_count": 122,
   "metadata": {},
   "outputs": [
    {
     "data": {
      "text/plain": [
       "0.25251505146630415"
      ]
     },
     "execution_count": 122,
     "metadata": {},
     "output_type": "execute_result"
    }
   ],
   "source": [
    "champs_used.values.max() / len(games)"
   ]
  },
  {
   "cell_type": "markdown",
   "metadata": {},
   "source": [
    "De este primer apartado se pueden sacar una serie de conclusiones:\n",
    "\n",
    "1. Thresh es el campeón más utilizado\n",
    "\n",
    "2. Se usa a Thresh en una de cada cuatro partidas\n",
    "\n",
    "3. Thresh y Tristana son cogidos con diferencia por encima del resto, de tal manera que en la botlane normalemente habrá uno de los dos al menos"
   ]
  },
  {
   "cell_type": "markdown",
   "metadata": {},
   "source": [
    "2) Camepones más baneados"
   ]
  },
  {
   "cell_type": "markdown",
   "metadata": {},
   "source": [
    "Para el análisis de esta segunda parte seguiré una forma similar, puesto que en este caso es descubrir cuales son los campeones más prohibidos en las partidas.\n",
    "Dada la gran afluencia de Thresh y Tristana, parece ser que la gente le gusta mucho jugarles, de tal manera que puede ser que sean bastante prohibidos en la pre partida con tal de perjudicar al equipo rival."
   ]
  },
  {
   "cell_type": "code",
   "execution_count": 127,
   "metadata": {},
   "outputs": [
    {
     "data": {
      "text/plain": [
       "Aatrox      712\n",
       "Ahri       4481\n",
       "Akali      4501\n",
       "Alistar     696\n",
       "Amumu       587\n",
       "dtype: int64"
      ]
     },
     "execution_count": 127,
     "metadata": {},
     "output_type": "execute_result"
    }
   ],
   "source": [
    "# Primer paso: Obtención de la cantidad de bans por campeón:\n",
    "\n",
    "dict_bans = {}\n",
    "for columna in games.columns[49: 59]:\n",
    "    dict_bans[columna] = games[columna].value_counts()\n",
    "\n",
    "champs_banned = dict_bans[\"t1_b1\"] + dict_bans[\"t1_b2\"] + dict_bans[\"t1_b3\"] + dict_bans[\"t1_b4\"] + dict_bans[\"t1_b5\"] + dict_bans[\"t2_b1\"] + dict_bans[\"t2_b2\"] + dict_bans[\"t2_b3\"] + dict_bans[\"t2_b4\"] + dict_bans[\"t2_b5\"]\n",
    "    \n",
    "champs_banned.head()"
   ]
  },
  {
   "cell_type": "code",
   "execution_count": 130,
   "metadata": {},
   "outputs": [
    {
     "data": {
      "text/plain": [
       "Yasuo    33015\n",
       "dtype: int64"
      ]
     },
     "execution_count": 130,
     "metadata": {},
     "output_type": "execute_result"
    }
   ],
   "source": [
    "# Comprobación del campeón más baneado\n",
    "\n",
    "champs_banned[champs_banned.values == champs_banned.values.max()]"
   ]
  },
  {
   "cell_type": "markdown",
   "metadata": {},
   "source": [
    "No es sorpresa que Yasuo sea uno de los campeones más baneados, puesto que es uno de los campeones más odiados por la comunidad de jugadores"
   ]
  },
  {
   "cell_type": "code",
   "execution_count": 131,
   "metadata": {},
   "outputs": [
    {
     "data": {
      "text/plain": [
       "Skarner    70\n",
       "dtype: int64"
      ]
     },
     "execution_count": 131,
     "metadata": {},
     "output_type": "execute_result"
    }
   ],
   "source": [
    "# Comprobación del campeón menos baneado\n",
    "\n",
    "champs_banned[champs_banned.values == champs_banned.values.min()]"
   ]
  },
  {
   "cell_type": "code",
   "execution_count": 132,
   "metadata": {},
   "outputs": [
    {
     "name": "stdout",
     "output_type": "stream",
     "text": [
      "El campeón que más se ha baneado se ha prohibido 471.64 veces más que el menos usado\n"
     ]
    }
   ],
   "source": [
    "# Ratio entre el más y el menos baneado\n",
    "\n",
    "print(\"El campeón que más se ha baneado se ha prohibido {:.2f} veces más que el menos usado\" .format(champs_banned.values.max() / champs_banned.values.min()) )"
   ]
  },
  {
   "cell_type": "markdown",
   "metadata": {},
   "source": [
    "Es interesante que no sean ni Thresh ni Tristana los más baneados. Veamos a ver cuantos bans tienen"
   ]
  },
  {
   "cell_type": "code",
   "execution_count": 133,
   "metadata": {},
   "outputs": [
    {
     "data": {
      "text/plain": [
       "5867"
      ]
     },
     "execution_count": 133,
     "metadata": {},
     "output_type": "execute_result"
    }
   ],
   "source": [
    "champs_banned['Thresh']"
   ]
  },
  {
   "cell_type": "code",
   "execution_count": 134,
   "metadata": {},
   "outputs": [
    {
     "data": {
      "text/plain": [
       "13067"
      ]
     },
     "execution_count": 134,
     "metadata": {},
     "output_type": "execute_result"
    }
   ],
   "source": [
    "champs_banned['Tristana']"
   ]
  },
  {
   "cell_type": "markdown",
   "metadata": {},
   "source": [
    "Veamos en wordclouds y en gráficos como está la cantidad de bans"
   ]
  },
  {
   "cell_type": "markdown",
   "metadata": {},
   "source": [
    "wc_bans = WordCloud(background_color=\"white\", width=3000,height=3000, max_words=100,relative_scaling=1,normalize_plurals=False).generate_from_frequencies(champs_banned)\n",
    "plt.imshow(wc_bans)"
   ]
  },
  {
   "cell_type": "code",
   "execution_count": 150,
   "metadata": {},
   "outputs": [
    {
     "data": {
      "text/plain": [
       "<wordcloud.wordcloud.WordCloud at 0x24df928c3c8>"
      ]
     },
     "execution_count": 150,
     "metadata": {},
     "output_type": "execute_result"
    }
   ],
   "source": [
    "wc_bans.to_file(\"imagenes/wordcloudBans.png\")"
   ]
  },
  {
   "cell_type": "code",
   "execution_count": 151,
   "metadata": {},
   "outputs": [
    {
     "data": {
      "image/png": "[encoded data removed]",
      "text/plain": [
       "<Figure size 3960x720 with 1 Axes>"
      ]
     },
     "metadata": {
      "needs_background": "light"
     },
     "output_type": "display_data"
    }
   ],
   "source": [
    "plt.bar(range(len(champs_banned)), list(champs_banned.get_values()), align='center')\n",
    "plt.rcParams[\"figure.figsize\"] = [55,10]\n",
    "plt.xticks(range(len(champs_banned)), list(champs_banned.keys()), rotation='vertical')\n",
    "plt.savefig('imagenes/barplot Campeones Baneados.png')\n",
    "\n",
    "plt.show()"
   ]
  },
  {
   "cell_type": "markdown",
   "metadata": {},
   "source": [
    "3) Ratio Victoria de Campeones"
   ]
  },
  {
   "cell_type": "markdown",
   "metadata": {},
   "source": [
    "Una de las cosas más a tener en cuenta es con qué campeones se suelen ganar más partidas. Esto debería de tener relación con los picks y los bans de la gente, puesto que\n",
    "se supone que intentar escoger campeones que deban de ganar un alto porcentaje de partidas y deberían de prohibir (banear) hacia el otro equipo campeones que tengan otro \n",
    "alto porcenaje de partidas ganadas. De esta forma, vamos a ver si esto se cumple o no."
   ]
  },
  {
   "cell_type": "code",
   "execution_count": 222,
   "metadata": {},
   "outputs": [],
   "source": [
    "# Para hacer este paso, hay que comprobar qué equipo ganó la partida, y según eso comprobar los campeones que la formaban.\n",
    "# Posteriormente, sumaremos la cantidad de victorias que tiene cada campeón partido por las partidas que haya jugado, y obtendremos los porcentajes.\n",
    "\n",
    "# Paso 1: Obtención de las partidas en las que ganó el equipo 1 y en las que ganó el equipo 2\n",
    "\n",
    "df_t1 = games[games.winner == 1]\n",
    "df_t2 = games[games.winner == 2]\n"
   ]
  },
  {
   "cell_type": "code",
   "execution_count": 171,
   "metadata": {},
   "outputs": [
    {
     "data": {
      "text/html": [
       "<div>\n",
       "<style scoped>\n",
       "    .dataframe tbody tr th:only-of-type {\n",
       "        vertical-align: middle;\n",
       "    }\n",
       "\n",
       "    .dataframe tbody tr th {\n",
       "        vertical-align: top;\n",
       "    }\n",
       "\n",
       "    .dataframe thead th {\n",
       "        text-align: right;\n",
       "    }\n",
       "</style>\n",
       "<table border=\"1\" class=\"dataframe\">\n",
       "  <thead>\n",
       "    <tr style=\"text-align: right;\">\n",
       "      <th></th>\n",
       "      <th>t1_c1</th>\n",
       "      <th>t1_c2</th>\n",
       "      <th>t1_c3</th>\n",
       "      <th>t1_c4</th>\n",
       "      <th>t1_c5</th>\n",
       "    </tr>\n",
       "  </thead>\n",
       "  <tbody>\n",
       "    <tr>\n",
       "      <th>0</th>\n",
       "      <td>Vladimir</td>\n",
       "      <td>Bard</td>\n",
       "      <td>KogMaw</td>\n",
       "      <td>Master Yi</td>\n",
       "      <td>Viktor</td>\n",
       "    </tr>\n",
       "    <tr>\n",
       "      <th>1</th>\n",
       "      <td>Draven</td>\n",
       "      <td>Irelia</td>\n",
       "      <td>Nidalee</td>\n",
       "      <td>Kayle</td>\n",
       "      <td>Shaco</td>\n",
       "    </tr>\n",
       "  </tbody>\n",
       "</table>\n",
       "</div>"
      ],
      "text/plain": [
       "      t1_c1   t1_c2    t1_c3      t1_c4   t1_c5\n",
       "0  Vladimir    Bard   KogMaw  Master Yi  Viktor\n",
       "1    Draven  Irelia  Nidalee      Kayle   Shaco"
      ]
     },
     "execution_count": 171,
     "metadata": {},
     "output_type": "execute_result"
    }
   ],
   "source": [
    "# Una vez hecho esto, me quedo con las columnas de los campeones usados en dichas partidas por dicho equipo\n",
    "\n",
    "df_t1_champs = df_t1[['t1_c1', 't1_c2', 't1_c3', 't1_c4', 't1_c5']]\n",
    "df_t1_champs.head(2)"
   ]
  },
  {
   "cell_type": "code",
   "execution_count": 172,
   "metadata": {},
   "outputs": [
    {
     "data": {
      "text/html": [
       "<div>\n",
       "<style scoped>\n",
       "    .dataframe tbody tr th:only-of-type {\n",
       "        vertical-align: middle;\n",
       "    }\n",
       "\n",
       "    .dataframe tbody tr th {\n",
       "        vertical-align: top;\n",
       "    }\n",
       "\n",
       "    .dataframe thead th {\n",
       "        text-align: right;\n",
       "    }\n",
       "</style>\n",
       "<table border=\"1\" class=\"dataframe\">\n",
       "  <thead>\n",
       "    <tr style=\"text-align: right;\">\n",
       "      <th></th>\n",
       "      <th>t2_c1</th>\n",
       "      <th>t2_c2</th>\n",
       "      <th>t2_c3</th>\n",
       "      <th>t2_c4</th>\n",
       "      <th>t2_c5</th>\n",
       "    </tr>\n",
       "  </thead>\n",
       "  <tbody>\n",
       "    <tr>\n",
       "      <th>8</th>\n",
       "      <td>Twitch</td>\n",
       "      <td>Jarvan IV</td>\n",
       "      <td>Lux</td>\n",
       "      <td>Kayn</td>\n",
       "      <td>Brand</td>\n",
       "    </tr>\n",
       "    <tr>\n",
       "      <th>9</th>\n",
       "      <td>Shaco</td>\n",
       "      <td>Varus</td>\n",
       "      <td>Heimerdinger</td>\n",
       "      <td>Lux</td>\n",
       "      <td>Garen</td>\n",
       "    </tr>\n",
       "  </tbody>\n",
       "</table>\n",
       "</div>"
      ],
      "text/plain": [
       "    t2_c1      t2_c2         t2_c3 t2_c4  t2_c5\n",
       "8  Twitch  Jarvan IV           Lux  Kayn  Brand\n",
       "9   Shaco      Varus  Heimerdinger   Lux  Garen"
      ]
     },
     "execution_count": 172,
     "metadata": {},
     "output_type": "execute_result"
    }
   ],
   "source": [
    "df_t2_champs = df_t2[['t2_c1', 't2_c2', 't2_c3', 't2_c4', 't2_c5']]\n",
    "df_t2_champs.head(2)"
   ]
  },
  {
   "cell_type": "code",
   "execution_count": 224,
   "metadata": {},
   "outputs": [
    {
     "data": {
      "text/plain": [
       "Aatrox      183\n",
       "Ahri       1702\n",
       "Akali       734\n",
       "Alistar     883\n",
       "Amumu       578\n",
       "dtype: int64"
      ]
     },
     "execution_count": 224,
     "metadata": {},
     "output_type": "execute_result"
    }
   ],
   "source": [
    "# Cuantas veces aparecen los nombres en cada dataframe\n",
    "\n",
    "dict_names_win_t1 = {}\n",
    "for columna in df_t1_champs.columns:\n",
    "    dict_names_win_t1[columna] = df_t1_champs[columna].value_counts()\n",
    "\n",
    "champs_win_t1 = dict_names_win_t1[\"t1_c1\"] + dict_names_win_t1[\"t1_c2\"] + dict_names_win_t1[\"t1_c3\"] + dict_names_win_t1[\"t1_c4\"] + dict_names_win_t1[\"t1_c5\"]\n",
    "    \n",
    "champs_win_t1.head()"
   ]
  },
  {
   "cell_type": "code",
   "execution_count": 225,
   "metadata": {},
   "outputs": [
    {
     "data": {
      "text/plain": [
       "Aatrox      171\n",
       "Ahri       1593\n",
       "Akali       750\n",
       "Alistar     841\n",
       "Amumu       600\n",
       "dtype: int64"
      ]
     },
     "execution_count": 225,
     "metadata": {},
     "output_type": "execute_result"
    }
   ],
   "source": [
    "dict_names_win_t2 = {}\n",
    "for columna in df_t2_champs.columns:\n",
    "    dict_names_win_t2[columna] = df_t2_champs[columna].value_counts()\n",
    "\n",
    "champs_win_t2 = dict_names_win_t2[\"t2_c1\"] + dict_names_win_t2[\"t2_c2\"] + dict_names_win_t2[\"t2_c3\"] + dict_names_win_t2[\"t2_c4\"] + dict_names_win_t2[\"t2_c5\"]\n",
    "    \n",
    "champs_win_t2.head()"
   ]
  },
  {
   "cell_type": "code",
   "execution_count": 226,
   "metadata": {},
   "outputs": [
    {
     "data": {
      "text/plain": [
       "Aatrox      354\n",
       "Ahri       3295\n",
       "Akali      1484\n",
       "Alistar    1724\n",
       "Amumu      1178\n",
       "dtype: int64"
      ]
     },
     "execution_count": 226,
     "metadata": {},
     "output_type": "execute_result"
    }
   ],
   "source": [
    "# una vez que se tienen estas cantidades, vamos a sumarlas para ver cuantas victorias tienen en total los campeones\n",
    "\n",
    "champs_win_total = champs_win_t1 + champs_win_t2\n",
    "champs_win_total.head()"
   ]
  },
  {
   "cell_type": "code",
   "execution_count": 227,
   "metadata": {},
   "outputs": [
    {
     "data": {
      "text/plain": [
       "Aatrox     0.470120\n",
       "Ahri       0.521691\n",
       "Akali      0.503221\n",
       "Alistar    0.495972\n",
       "Amumu      0.509516\n",
       "dtype: float64"
      ]
     },
     "execution_count": 227,
     "metadata": {},
     "output_type": "execute_result"
    }
   ],
   "source": [
    "# Como algunos campeones se han usado más que otros, es normal que algunos tengan más wins que otros. Para ponerlos todos al mismo nivel,\n",
    "# lo justo es calcular el winrate de cada campeón para así ver cuales tienen mayores posibilidades de ganar\n",
    "\n",
    "winrate_champs = champs_win_total / champs_used\n",
    "winrate_champs.head()"
   ]
  },
  {
   "cell_type": "code",
   "execution_count": 239,
   "metadata": {},
   "outputs": [
    {
     "data": {
      "text/plain": [
       "Janna    0.555287\n",
       "dtype: float64"
      ]
     },
     "execution_count": 239,
     "metadata": {},
     "output_type": "execute_result"
    }
   ],
   "source": [
    "# Campeón que más gana\n",
    "winrate_champs[winrate_champs.values == winrate_champs.values.max()]"
   ]
  },
  {
   "cell_type": "code",
   "execution_count": 241,
   "metadata": {},
   "outputs": [
    {
     "data": {
      "text/plain": [
       "Ryze    0.407946\n",
       "dtype: float64"
      ]
     },
     "execution_count": 241,
     "metadata": {},
     "output_type": "execute_result"
    }
   ],
   "source": [
    "# Campeón que menos gana\n",
    "winrate_champs[winrate_champs.values == winrate_champs.values.min()]"
   ]
  },
  {
   "cell_type": "code",
   "execution_count": 242,
   "metadata": {},
   "outputs": [
    {
     "data": {
      "image/png": "[encoded data removed]",
      "text/plain": [
       "<Figure size 3960x720 with 1 Axes>"
      ]
     },
     "metadata": {
      "needs_background": "light"
     },
     "output_type": "display_data"
    }
   ],
   "source": [
    "# Ahora saco los ratios en plot\n",
    "\n",
    "plt.bar(range(len(winrate_champs)), list(winrate_champs.get_values()), align='center')\n",
    "plt.rcParams[\"figure.figsize\"] = [55,10]\n",
    "plt.xticks(range(len(winrate_champs)), list(winrate_champs.keys()), rotation='vertical')\n",
    "plt.savefig('imagenes/barplot Winrate Champs.png')\n",
    "\n",
    "plt.show()"
   ]
  },
  {
   "cell_type": "markdown",
   "metadata": {},
   "source": [
    "Como se puede observar, la diferencia de winrate no es demasiado grande"
   ]
  },
  {
   "cell_type": "markdown",
   "metadata": {},
   "source": [
    "3) ¿El lado afecta?"
   ]
  },
  {
   "cell_type": "markdown",
   "metadata": {},
   "source": [
    "Una creencia muy extendida por la comunidad es que si se empieza en el lado de arriba (equipo rojo, 2) se tiene más propensión a perder la partida por tener una peor visión.\n",
    "Ahora, con las 51490 partidas, vamos a ver si esto es verdad de una manera muy sencilla"
   ]
  },
  {
   "cell_type": "code",
   "execution_count": 244,
   "metadata": {},
   "outputs": [
    {
     "data": {
      "text/plain": [
       "1.0261283595010429"
      ]
     },
     "execution_count": 244,
     "metadata": {},
     "output_type": "execute_result"
    }
   ],
   "source": [
    "df_t1.shape[0] / df_t2.shape[0]"
   ]
  },
  {
   "cell_type": "markdown",
   "metadata": {},
   "source": [
    "Como se puede observar, los que juegan en el equipo 1 tienen una ligerísima ventaja respecto a los del equipo 2"
   ]
  },
  {
   "cell_type": "code",
   "execution_count": 275,
   "metadata": {},
   "outputs": [
    {
     "data": {
      "image/png": "[encoded data removed]",
      "text/plain": [
       "<Figure size 1440x720 with 1 Axes>"
      ]
     },
     "metadata": {
      "needs_background": "light"
     },
     "output_type": "display_data"
    }
   ],
   "source": [
    "# Visualización de las partidas ganadas en gráfico:\n",
    "import numpy as np\n",
    "\n",
    "bars = ('Equipo 1', 'Equipo 2')\n",
    "y_pos = np.arange(len(bars))\n",
    "plt.xticks(y_pos, bars)\n",
    "plt.rcParams[\"figure.figsize\"] = [20,10]\n",
    "plt.bar(y_pos, [df_t1.shape[0], df_t2.shape[0]])\n",
    "\n",
    "plt.savefig('imagenes/winrate por equipo.png')"
   ]
  },
  {
   "cell_type": "markdown",
   "metadata": {},
   "source": [
    "4) ¿Como de importantes son los primeros objetivos para los equipos?"
   ]
  },
  {
   "cell_type": "markdown",
   "metadata": {},
   "source": [
    "El League of Legends en el fondo es un juego donde hay que conseguir derribar el nexo enemigo, y para ello primero hay que conseguir una serie de objetivos. Algunos son obligatorios,\n",
    "como las torres, mientras que otros son opcionales pero ayudan a aumentar el poder del personaje, como los dragones por ejemplo.\n",
    "Por lo tanto, considero importante ver si a algún equipo le resulta especialmente interesante el derribar algún objetivo porque ello lleve a la victoria."
   ]
  },
  {
   "cell_type": "markdown",
   "metadata": {},
   "source": [
    "4.1 Torres"
   ]
  },
  {
   "cell_type": "code",
   "execution_count": 294,
   "metadata": {},
   "outputs": [
    {
     "data": {
      "text/html": [
       "<div>\n",
       "<style scoped>\n",
       "    .dataframe tbody tr th:only-of-type {\n",
       "        vertical-align: middle;\n",
       "    }\n",
       "\n",
       "    .dataframe tbody tr th {\n",
       "        vertical-align: top;\n",
       "    }\n",
       "\n",
       "    .dataframe thead th {\n",
       "        text-align: right;\n",
       "    }\n",
       "</style>\n",
       "<table border=\"1\" class=\"dataframe\">\n",
       "  <thead>\n",
       "    <tr style=\"text-align: right;\">\n",
       "      <th></th>\n",
       "      <th>Tower1</th>\n",
       "      <th>Tower2</th>\n",
       "      <th>Winner</th>\n",
       "    </tr>\n",
       "  </thead>\n",
       "  <tbody>\n",
       "    <tr>\n",
       "      <th>0</th>\n",
       "      <td>11</td>\n",
       "      <td>5</td>\n",
       "      <td>1</td>\n",
       "    </tr>\n",
       "    <tr>\n",
       "      <th>1</th>\n",
       "      <td>10</td>\n",
       "      <td>2</td>\n",
       "      <td>1</td>\n",
       "    </tr>\n",
       "    <tr>\n",
       "      <th>2</th>\n",
       "      <td>8</td>\n",
       "      <td>2</td>\n",
       "      <td>1</td>\n",
       "    </tr>\n",
       "    <tr>\n",
       "      <th>3</th>\n",
       "      <td>9</td>\n",
       "      <td>0</td>\n",
       "      <td>1</td>\n",
       "    </tr>\n",
       "    <tr>\n",
       "      <th>4</th>\n",
       "      <td>9</td>\n",
       "      <td>3</td>\n",
       "      <td>1</td>\n",
       "    </tr>\n",
       "  </tbody>\n",
       "</table>\n",
       "</div>"
      ],
      "text/plain": [
       "   Tower1  Tower2 Winner\n",
       "0      11       5      1\n",
       "1      10       2      1\n",
       "2       8       2      1\n",
       "3       9       0      1\n",
       "4       9       3      1"
      ]
     },
     "execution_count": 294,
     "metadata": {},
     "output_type": "execute_result"
    }
   ],
   "source": [
    "#Hacemos un dataframe nuevo con las torres de cada partida y el ganador\n",
    "\n",
    "df_torres_winner = pd.DataFrame()\n",
    "\n",
    "df_torres_winner['Tower1'] = games.t1_towerKills\n",
    "df_torres_winner['Tower2'] = games.t2_towerKills\n",
    "df_torres_winner['Winner'] = games.winner\n",
    "\n",
    "df_torres_winner.head()"
   ]
  },
  {
   "cell_type": "code",
   "execution_count": 297,
   "metadata": {},
   "outputs": [
    {
     "data": {
      "text/html": [
       "<style  type=\"text/css\" >\n",
       "    #T_c5a6c02e_48ec_11e9_bf92_74d435ea1c75row0_col0 {\n",
       "            background-color:  #b40426;\n",
       "        }    #T_c5a6c02e_48ec_11e9_bf92_74d435ea1c75row0_col1 {\n",
       "            background-color:  #3b4cc0;\n",
       "        }    #T_c5a6c02e_48ec_11e9_bf92_74d435ea1c75row0_col2 {\n",
       "            background-color:  #3b4cc0;\n",
       "        }    #T_c5a6c02e_48ec_11e9_bf92_74d435ea1c75row1_col0 {\n",
       "            background-color:  #6282ea;\n",
       "        }    #T_c5a6c02e_48ec_11e9_bf92_74d435ea1c75row1_col1 {\n",
       "            background-color:  #b40426;\n",
       "        }    #T_c5a6c02e_48ec_11e9_bf92_74d435ea1c75row1_col2 {\n",
       "            background-color:  #dc5d4a;\n",
       "        }    #T_c5a6c02e_48ec_11e9_bf92_74d435ea1c75row2_col0 {\n",
       "            background-color:  #3b4cc0;\n",
       "        }    #T_c5a6c02e_48ec_11e9_bf92_74d435ea1c75row2_col1 {\n",
       "            background-color:  #e16751;\n",
       "        }    #T_c5a6c02e_48ec_11e9_bf92_74d435ea1c75row2_col2 {\n",
       "            background-color:  #b40426;\n",
       "        }</style>  \n",
       "<table id=\"T_c5a6c02e_48ec_11e9_bf92_74d435ea1c75\" > \n",
       "<thead>    <tr> \n",
       "        <th class=\"blank level0\" ></th> \n",
       "        <th class=\"col_heading level0 col0\" >Tower1</th> \n",
       "        <th class=\"col_heading level0 col1\" >Tower2</th> \n",
       "        <th class=\"col_heading level0 col2\" >Winner</th> \n",
       "    </tr></thead> \n",
       "<tbody>    <tr> \n",
       "        <th id=\"T_c5a6c02e_48ec_11e9_bf92_74d435ea1c75level0_row0\" class=\"row_heading level0 row0\" >Tower1</th> \n",
       "        <td id=\"T_c5a6c02e_48ec_11e9_bf92_74d435ea1c75row0_col0\" class=\"data row0 col0\" >1</td> \n",
       "        <td id=\"T_c5a6c02e_48ec_11e9_bf92_74d435ea1c75row0_col1\" class=\"data row0 col1\" >-0.549123</td> \n",
       "        <td id=\"T_c5a6c02e_48ec_11e9_bf92_74d435ea1c75row0_col2\" class=\"data row0 col2\" >-0.771541</td> \n",
       "    </tr>    <tr> \n",
       "        <th id=\"T_c5a6c02e_48ec_11e9_bf92_74d435ea1c75level0_row1\" class=\"row_heading level0 row1\" >Tower2</th> \n",
       "        <td id=\"T_c5a6c02e_48ec_11e9_bf92_74d435ea1c75row1_col0\" class=\"data row1 col0\" >-0.549123</td> \n",
       "        <td id=\"T_c5a6c02e_48ec_11e9_bf92_74d435ea1c75row1_col1\" class=\"data row1 col1\" >1</td> \n",
       "        <td id=\"T_c5a6c02e_48ec_11e9_bf92_74d435ea1c75row1_col2\" class=\"data row1 col2\" >0.785813</td> \n",
       "    </tr>    <tr> \n",
       "        <th id=\"T_c5a6c02e_48ec_11e9_bf92_74d435ea1c75level0_row2\" class=\"row_heading level0 row2\" >Winner</th> \n",
       "        <td id=\"T_c5a6c02e_48ec_11e9_bf92_74d435ea1c75row2_col0\" class=\"data row2 col0\" >-0.771541</td> \n",
       "        <td id=\"T_c5a6c02e_48ec_11e9_bf92_74d435ea1c75row2_col1\" class=\"data row2 col1\" >0.785813</td> \n",
       "        <td id=\"T_c5a6c02e_48ec_11e9_bf92_74d435ea1c75row2_col2\" class=\"data row2 col2\" >1</td> \n",
       "    </tr></tbody> \n",
       "</table> "
      ],
      "text/plain": [
       "<pandas.io.formats.style.Styler at 0x24d902217f0>"
      ]
     },
     "execution_count": 297,
     "metadata": {},
     "output_type": "execute_result"
    }
   ],
   "source": [
    "# Ahora que tengo esto, vamos con las correlaciones entre estas 3...\n",
    "# Como winner es categórica no me la correlaciona, por lo que la convierto antes\n",
    "\n",
    "df_torres_winner['Winner'] = df_torres_winner['Winner'].astype('float')\n",
    "\n",
    "df_torres_winner.corr().style.background_gradient(cmap='coolwarm')"
   ]
  },
  {
   "cell_type": "markdown",
   "metadata": {},
   "source": [
    "Como se puede observar, la correlación entre tirar tú más torres y ganar está en ambos casos en un 77-78%, lo cual es normal porque es en lo que se basa el juego y tirando menos torres\n",
    "rara vez se gana"
   ]
  },
  {
   "cell_type": "markdown",
   "metadata": {},
   "source": [
    "4.2 Inhibidores"
   ]
  },
  {
   "cell_type": "markdown",
   "metadata": {},
   "source": [
    "Si tirar muchas torres es importante, destruir inhibidores no se queda atrás, puesto que eso significa que llevas bastante delantera en la partida, además de darte beneficios.\n",
    "Veamos las correlaciones entre ello con un nuevo dataframe"
   ]
  },
  {
   "cell_type": "code",
   "execution_count": 300,
   "metadata": {},
   "outputs": [
    {
     "data": {
      "text/html": [
       "<div>\n",
       "<style scoped>\n",
       "    .dataframe tbody tr th:only-of-type {\n",
       "        vertical-align: middle;\n",
       "    }\n",
       "\n",
       "    .dataframe tbody tr th {\n",
       "        vertical-align: top;\n",
       "    }\n",
       "\n",
       "    .dataframe thead th {\n",
       "        text-align: right;\n",
       "    }\n",
       "</style>\n",
       "<table border=\"1\" class=\"dataframe\">\n",
       "  <thead>\n",
       "    <tr style=\"text-align: right;\">\n",
       "      <th></th>\n",
       "      <th>Inh1</th>\n",
       "      <th>Inh2</th>\n",
       "      <th>Winner</th>\n",
       "    </tr>\n",
       "  </thead>\n",
       "  <tbody>\n",
       "    <tr>\n",
       "      <th>0</th>\n",
       "      <td>1</td>\n",
       "      <td>0</td>\n",
       "      <td>1</td>\n",
       "    </tr>\n",
       "    <tr>\n",
       "      <th>1</th>\n",
       "      <td>4</td>\n",
       "      <td>0</td>\n",
       "      <td>1</td>\n",
       "    </tr>\n",
       "    <tr>\n",
       "      <th>2</th>\n",
       "      <td>1</td>\n",
       "      <td>0</td>\n",
       "      <td>1</td>\n",
       "    </tr>\n",
       "    <tr>\n",
       "      <th>3</th>\n",
       "      <td>2</td>\n",
       "      <td>0</td>\n",
       "      <td>1</td>\n",
       "    </tr>\n",
       "    <tr>\n",
       "      <th>4</th>\n",
       "      <td>2</td>\n",
       "      <td>0</td>\n",
       "      <td>1</td>\n",
       "    </tr>\n",
       "  </tbody>\n",
       "</table>\n",
       "</div>"
      ],
      "text/plain": [
       "   Inh1  Inh2 Winner\n",
       "0     1     0      1\n",
       "1     4     0      1\n",
       "2     1     0      1\n",
       "3     2     0      1\n",
       "4     2     0      1"
      ]
     },
     "execution_count": 300,
     "metadata": {},
     "output_type": "execute_result"
    }
   ],
   "source": [
    "df_inh_winner = pd.DataFrame()\n",
    "\n",
    "df_inh_winner['Inh1'] = games.t1_inhibitorKills\n",
    "df_inh_winner['Inh2'] = games.t2_inhibitorKills\n",
    "df_inh_winner['Winner'] = games.winner\n",
    "\n",
    "df_inh_winner.head()"
   ]
  },
  {
   "cell_type": "code",
   "execution_count": 303,
   "metadata": {},
   "outputs": [
    {
     "data": {
      "text/html": [
       "<style  type=\"text/css\" >\n",
       "    #T_55fb82ca_48ed_11e9_978e_74d435ea1c75row0_col0 {\n",
       "            background-color:  #b40426;\n",
       "        }    #T_55fb82ca_48ed_11e9_978e_74d435ea1c75row0_col1 {\n",
       "            background-color:  #3b4cc0;\n",
       "        }    #T_55fb82ca_48ed_11e9_978e_74d435ea1c75row0_col2 {\n",
       "            background-color:  #3b4cc0;\n",
       "        }    #T_55fb82ca_48ed_11e9_978e_74d435ea1c75row1_col0 {\n",
       "            background-color:  #688aef;\n",
       "        }    #T_55fb82ca_48ed_11e9_978e_74d435ea1c75row1_col1 {\n",
       "            background-color:  #b40426;\n",
       "        }    #T_55fb82ca_48ed_11e9_978e_74d435ea1c75row1_col2 {\n",
       "            background-color:  #ee8669;\n",
       "        }    #T_55fb82ca_48ed_11e9_978e_74d435ea1c75row2_col0 {\n",
       "            background-color:  #3b4cc0;\n",
       "        }    #T_55fb82ca_48ed_11e9_978e_74d435ea1c75row2_col1 {\n",
       "            background-color:  #f39577;\n",
       "        }    #T_55fb82ca_48ed_11e9_978e_74d435ea1c75row2_col2 {\n",
       "            background-color:  #b40426;\n",
       "        }</style>  \n",
       "<table id=\"T_55fb82ca_48ed_11e9_978e_74d435ea1c75\" > \n",
       "<thead>    <tr> \n",
       "        <th class=\"blank level0\" ></th> \n",
       "        <th class=\"col_heading level0 col0\" >Inh1</th> \n",
       "        <th class=\"col_heading level0 col1\" >Inh2</th> \n",
       "        <th class=\"col_heading level0 col2\" >Winner</th> \n",
       "    </tr></thead> \n",
       "<tbody>    <tr> \n",
       "        <th id=\"T_55fb82ca_48ed_11e9_978e_74d435ea1c75level0_row0\" class=\"row_heading level0 row0\" >Inh1</th> \n",
       "        <td id=\"T_55fb82ca_48ed_11e9_978e_74d435ea1c75row0_col0\" class=\"data row0 col0\" >1</td> \n",
       "        <td id=\"T_55fb82ca_48ed_11e9_978e_74d435ea1c75row0_col1\" class=\"data row0 col1\" >-0.408924</td> \n",
       "        <td id=\"T_55fb82ca_48ed_11e9_978e_74d435ea1c75row0_col2\" class=\"data row0 col2\" >-0.649405</td> \n",
       "    </tr>    <tr> \n",
       "        <th id=\"T_55fb82ca_48ed_11e9_978e_74d435ea1c75level0_row1\" class=\"row_heading level0 row1\" >Inh2</th> \n",
       "        <td id=\"T_55fb82ca_48ed_11e9_978e_74d435ea1c75row1_col0\" class=\"data row1 col0\" >-0.408924</td> \n",
       "        <td id=\"T_55fb82ca_48ed_11e9_978e_74d435ea1c75row1_col1\" class=\"data row1 col1\" >1</td> \n",
       "        <td id=\"T_55fb82ca_48ed_11e9_978e_74d435ea1c75row1_col2\" class=\"data row1 col2\" >0.660452</td> \n",
       "    </tr>    <tr> \n",
       "        <th id=\"T_55fb82ca_48ed_11e9_978e_74d435ea1c75level0_row2\" class=\"row_heading level0 row2\" >Winner</th> \n",
       "        <td id=\"T_55fb82ca_48ed_11e9_978e_74d435ea1c75row2_col0\" class=\"data row2 col0\" >-0.649405</td> \n",
       "        <td id=\"T_55fb82ca_48ed_11e9_978e_74d435ea1c75row2_col1\" class=\"data row2 col1\" >0.660452</td> \n",
       "        <td id=\"T_55fb82ca_48ed_11e9_978e_74d435ea1c75row2_col2\" class=\"data row2 col2\" >1</td> \n",
       "    </tr></tbody> \n",
       "</table> "
      ],
      "text/plain": [
       "<pandas.io.formats.style.Styler at 0x24d90262fd0>"
      ]
     },
     "execution_count": 303,
     "metadata": {},
     "output_type": "execute_result"
    }
   ],
   "source": [
    "df_inh_winner['Winner'] = df_torres_winner['Winner'].astype('float')\n",
    "df_inh_winner.corr().style.background_gradient(cmap='coolwarm')"
   ]
  },
  {
   "cell_type": "markdown",
   "metadata": {},
   "source": [
    "Destruir más inhibidores tiene menor impacto en la partida que destruir muchas torres.\n",
    "Será interesante ver las relaciones entre inhibidores y torres..."
   ]
  },
  {
   "cell_type": "code",
   "execution_count": 305,
   "metadata": {},
   "outputs": [
    {
     "data": {
      "text/html": [
       "<div>\n",
       "<style scoped>\n",
       "    .dataframe tbody tr th:only-of-type {\n",
       "        vertical-align: middle;\n",
       "    }\n",
       "\n",
       "    .dataframe tbody tr th {\n",
       "        vertical-align: top;\n",
       "    }\n",
       "\n",
       "    .dataframe thead th {\n",
       "        text-align: right;\n",
       "    }\n",
       "</style>\n",
       "<table border=\"1\" class=\"dataframe\">\n",
       "  <thead>\n",
       "    <tr style=\"text-align: right;\">\n",
       "      <th></th>\n",
       "      <th>Inh1</th>\n",
       "      <th>Inh2</th>\n",
       "      <th>Tower1</th>\n",
       "      <th>Tower2</th>\n",
       "      <th>Winner</th>\n",
       "    </tr>\n",
       "  </thead>\n",
       "  <tbody>\n",
       "    <tr>\n",
       "      <th>0</th>\n",
       "      <td>1</td>\n",
       "      <td>0</td>\n",
       "      <td>11</td>\n",
       "      <td>5</td>\n",
       "      <td>1</td>\n",
       "    </tr>\n",
       "  </tbody>\n",
       "</table>\n",
       "</div>"
      ],
      "text/plain": [
       "   Inh1  Inh2  Tower1  Tower2 Winner\n",
       "0     1     0      11       5      1"
      ]
     },
     "execution_count": 305,
     "metadata": {},
     "output_type": "execute_result"
    }
   ],
   "source": [
    "df_inh_turret_winner = pd.DataFrame()\n",
    "\n",
    "df_inh_turret_winner['Inh1'] = games.t1_inhibitorKills\n",
    "df_inh_turret_winner['Inh2'] = games.t2_inhibitorKills\n",
    "df_inh_turret_winner['Tower1'] = games.t1_towerKills\n",
    "df_inh_turret_winner['Tower2'] = games.t2_towerKills\n",
    "df_inh_turret_winner['Winner'] = games.winner\n",
    "\n",
    "df_inh_turret_winner.head(1)"
   ]
  },
  {
   "cell_type": "code",
   "execution_count": 307,
   "metadata": {},
   "outputs": [
    {
     "data": {
      "text/html": [
       "<style  type=\"text/css\" >\n",
       "    #T_eeaa346e_48ed_11e9_863f_74d435ea1c75row0_col0 {\n",
       "            background-color:  #b40426;\n",
       "        }    #T_eeaa346e_48ed_11e9_863f_74d435ea1c75row0_col1 {\n",
       "            background-color:  #465ecf;\n",
       "        }    #T_eeaa346e_48ed_11e9_863f_74d435ea1c75row0_col2 {\n",
       "            background-color:  #d65244;\n",
       "        }    #T_eeaa346e_48ed_11e9_863f_74d435ea1c75row0_col3 {\n",
       "            background-color:  #4a63d3;\n",
       "        }    #T_eeaa346e_48ed_11e9_863f_74d435ea1c75row0_col4 {\n",
       "            background-color:  #4f69d9;\n",
       "        }    #T_eeaa346e_48ed_11e9_863f_74d435ea1c75row1_col0 {\n",
       "            background-color:  #688aef;\n",
       "        }    #T_eeaa346e_48ed_11e9_863f_74d435ea1c75row1_col1 {\n",
       "            background-color:  #b40426;\n",
       "        }    #T_eeaa346e_48ed_11e9_863f_74d435ea1c75row1_col2 {\n",
       "            background-color:  #7093f3;\n",
       "        }    #T_eeaa346e_48ed_11e9_863f_74d435ea1c75row1_col3 {\n",
       "            background-color:  #d95847;\n",
       "        }    #T_eeaa346e_48ed_11e9_863f_74d435ea1c75row1_col4 {\n",
       "            background-color:  #ec8165;\n",
       "        }    #T_eeaa346e_48ed_11e9_863f_74d435ea1c75row2_col0 {\n",
       "            background-color:  #d85646;\n",
       "        }    #T_eeaa346e_48ed_11e9_863f_74d435ea1c75row2_col1 {\n",
       "            background-color:  #3b4cc0;\n",
       "        }    #T_eeaa346e_48ed_11e9_863f_74d435ea1c75row2_col2 {\n",
       "            background-color:  #b40426;\n",
       "        }    #T_eeaa346e_48ed_11e9_863f_74d435ea1c75row2_col3 {\n",
       "            background-color:  #3b4cc0;\n",
       "        }    #T_eeaa346e_48ed_11e9_863f_74d435ea1c75row2_col4 {\n",
       "            background-color:  #3b4cc0;\n",
       "        }    #T_eeaa346e_48ed_11e9_863f_74d435ea1c75row3_col0 {\n",
       "            background-color:  #5d7ce6;\n",
       "        }    #T_eeaa346e_48ed_11e9_863f_74d435ea1c75row3_col1 {\n",
       "            background-color:  #dc5d4a;\n",
       "        }    #T_eeaa346e_48ed_11e9_863f_74d435ea1c75row3_col2 {\n",
       "            background-color:  #6282ea;\n",
       "        }    #T_eeaa346e_48ed_11e9_863f_74d435ea1c75row3_col3 {\n",
       "            background-color:  #b40426;\n",
       "        }    #T_eeaa346e_48ed_11e9_863f_74d435ea1c75row3_col4 {\n",
       "            background-color:  #dc5d4a;\n",
       "        }    #T_eeaa346e_48ed_11e9_863f_74d435ea1c75row4_col0 {\n",
       "            background-color:  #3b4cc0;\n",
       "        }    #T_eeaa346e_48ed_11e9_863f_74d435ea1c75row4_col1 {\n",
       "            background-color:  #f29274;\n",
       "        }    #T_eeaa346e_48ed_11e9_863f_74d435ea1c75row4_col2 {\n",
       "            background-color:  #3b4cc0;\n",
       "        }    #T_eeaa346e_48ed_11e9_863f_74d435ea1c75row4_col3 {\n",
       "            background-color:  #e16751;\n",
       "        }    #T_eeaa346e_48ed_11e9_863f_74d435ea1c75row4_col4 {\n",
       "            background-color:  #b40426;\n",
       "        }</style>  \n",
       "<table id=\"T_eeaa346e_48ed_11e9_863f_74d435ea1c75\" > \n",
       "<thead>    <tr> \n",
       "        <th class=\"blank level0\" ></th> \n",
       "        <th class=\"col_heading level0 col0\" >Inh1</th> \n",
       "        <th class=\"col_heading level0 col1\" >Inh2</th> \n",
       "        <th class=\"col_heading level0 col2\" >Tower1</th> \n",
       "        <th class=\"col_heading level0 col3\" >Tower2</th> \n",
       "        <th class=\"col_heading level0 col4\" >Winner</th> \n",
       "    </tr></thead> \n",
       "<tbody>    <tr> \n",
       "        <th id=\"T_eeaa346e_48ed_11e9_863f_74d435ea1c75level0_row0\" class=\"row_heading level0 row0\" >Inh1</th> \n",
       "        <td id=\"T_eeaa346e_48ed_11e9_863f_74d435ea1c75row0_col0\" class=\"data row0 col0\" >1</td> \n",
       "        <td id=\"T_eeaa346e_48ed_11e9_863f_74d435ea1c75row0_col1\" class=\"data row0 col1\" >-0.408924</td> \n",
       "        <td id=\"T_eeaa346e_48ed_11e9_863f_74d435ea1c75row0_col2\" class=\"data row0 col2\" >0.824471</td> \n",
       "        <td id=\"T_eeaa346e_48ed_11e9_863f_74d435ea1c75row0_col3\" class=\"data row0 col3\" >-0.467867</td> \n",
       "        <td id=\"T_eeaa346e_48ed_11e9_863f_74d435ea1c75row0_col4\" class=\"data row0 col4\" >-0.649405</td> \n",
       "    </tr>    <tr> \n",
       "        <th id=\"T_eeaa346e_48ed_11e9_863f_74d435ea1c75level0_row1\" class=\"row_heading level0 row1\" >Inh2</th> \n",
       "        <td id=\"T_eeaa346e_48ed_11e9_863f_74d435ea1c75row1_col0\" class=\"data row1 col0\" >-0.408924</td> \n",
       "        <td id=\"T_eeaa346e_48ed_11e9_863f_74d435ea1c75row1_col1\" class=\"data row1 col1\" >1</td> \n",
       "        <td id=\"T_eeaa346e_48ed_11e9_863f_74d435ea1c75row1_col2\" class=\"data row1 col2\" >-0.4696</td> \n",
       "        <td id=\"T_eeaa346e_48ed_11e9_863f_74d435ea1c75row1_col3\" class=\"data row1 col3\" >0.825834</td> \n",
       "        <td id=\"T_eeaa346e_48ed_11e9_863f_74d435ea1c75row1_col4\" class=\"data row1 col4\" >0.660452</td> \n",
       "    </tr>    <tr> \n",
       "        <th id=\"T_eeaa346e_48ed_11e9_863f_74d435ea1c75level0_row2\" class=\"row_heading level0 row2\" >Tower1</th> \n",
       "        <td id=\"T_eeaa346e_48ed_11e9_863f_74d435ea1c75row2_col0\" class=\"data row2 col0\" >0.824471</td> \n",
       "        <td id=\"T_eeaa346e_48ed_11e9_863f_74d435ea1c75row2_col1\" class=\"data row2 col1\" >-0.4696</td> \n",
       "        <td id=\"T_eeaa346e_48ed_11e9_863f_74d435ea1c75row2_col2\" class=\"data row2 col2\" >1</td> \n",
       "        <td id=\"T_eeaa346e_48ed_11e9_863f_74d435ea1c75row2_col3\" class=\"data row2 col3\" >-0.549123</td> \n",
       "        <td id=\"T_eeaa346e_48ed_11e9_863f_74d435ea1c75row2_col4\" class=\"data row2 col4\" >-0.771541</td> \n",
       "    </tr>    <tr> \n",
       "        <th id=\"T_eeaa346e_48ed_11e9_863f_74d435ea1c75level0_row3\" class=\"row_heading level0 row3\" >Tower2</th> \n",
       "        <td id=\"T_eeaa346e_48ed_11e9_863f_74d435ea1c75row3_col0\" class=\"data row3 col0\" >-0.467867</td> \n",
       "        <td id=\"T_eeaa346e_48ed_11e9_863f_74d435ea1c75row3_col1\" class=\"data row3 col1\" >0.825834</td> \n",
       "        <td id=\"T_eeaa346e_48ed_11e9_863f_74d435ea1c75row3_col2\" class=\"data row3 col2\" >-0.549123</td> \n",
       "        <td id=\"T_eeaa346e_48ed_11e9_863f_74d435ea1c75row3_col3\" class=\"data row3 col3\" >1</td> \n",
       "        <td id=\"T_eeaa346e_48ed_11e9_863f_74d435ea1c75row3_col4\" class=\"data row3 col4\" >0.785813</td> \n",
       "    </tr>    <tr> \n",
       "        <th id=\"T_eeaa346e_48ed_11e9_863f_74d435ea1c75level0_row4\" class=\"row_heading level0 row4\" >Winner</th> \n",
       "        <td id=\"T_eeaa346e_48ed_11e9_863f_74d435ea1c75row4_col0\" class=\"data row4 col0\" >-0.649405</td> \n",
       "        <td id=\"T_eeaa346e_48ed_11e9_863f_74d435ea1c75row4_col1\" class=\"data row4 col1\" >0.660452</td> \n",
       "        <td id=\"T_eeaa346e_48ed_11e9_863f_74d435ea1c75row4_col2\" class=\"data row4 col2\" >-0.771541</td> \n",
       "        <td id=\"T_eeaa346e_48ed_11e9_863f_74d435ea1c75row4_col3\" class=\"data row4 col3\" >0.785813</td> \n",
       "        <td id=\"T_eeaa346e_48ed_11e9_863f_74d435ea1c75row4_col4\" class=\"data row4 col4\" >1</td> \n",
       "    </tr></tbody> \n",
       "</table> "
      ],
      "text/plain": [
       "<pandas.io.formats.style.Styler at 0x24d90262da0>"
      ]
     },
     "execution_count": 307,
     "metadata": {},
     "output_type": "execute_result"
    }
   ],
   "source": [
    "df_inh_turret_winner['Winner'] = df_torres_winner['Winner'].astype('float')\n",
    "df_inh_turret_winner.corr().style.background_gradient(cmap='coolwarm')"
   ]
  },
  {
   "cell_type": "markdown",
   "metadata": {},
   "source": [
    "Se puede apreciar una relación muy fuerte entre quien destruye más inhibidores y quien destruye más torres, lo cual coincide con la mecánica del juego."
   ]
  },
  {
   "cell_type": "markdown",
   "metadata": {},
   "source": [
    "Pero ahora, saliendo de lo más obvio, vamos a ver si tiene correlación el hecho de LA PRIMERA TORRE o EL PRIMER INHIBIDOR en el resultado de la partida"
   ]
  },
  {
   "cell_type": "markdown",
   "metadata": {},
   "source": [
    "4.3) Primera Torre Vs Primer Inhibidor"
   ]
  },
  {
   "cell_type": "code",
   "execution_count": 315,
   "metadata": {},
   "outputs": [
    {
     "data": {
      "text/html": [
       "<div>\n",
       "<style scoped>\n",
       "    .dataframe tbody tr th:only-of-type {\n",
       "        vertical-align: middle;\n",
       "    }\n",
       "\n",
       "    .dataframe tbody tr th {\n",
       "        vertical-align: top;\n",
       "    }\n",
       "\n",
       "    .dataframe thead th {\n",
       "        text-align: right;\n",
       "    }\n",
       "</style>\n",
       "<table border=\"1\" class=\"dataframe\">\n",
       "  <thead>\n",
       "    <tr style=\"text-align: right;\">\n",
       "      <th></th>\n",
       "      <th>Tower</th>\n",
       "      <th>Inh</th>\n",
       "      <th>Win</th>\n",
       "    </tr>\n",
       "  </thead>\n",
       "  <tbody>\n",
       "    <tr>\n",
       "      <th>0</th>\n",
       "      <td>1</td>\n",
       "      <td>1</td>\n",
       "      <td>1</td>\n",
       "    </tr>\n",
       "  </tbody>\n",
       "</table>\n",
       "</div>"
      ],
      "text/plain": [
       "  Tower Inh Win\n",
       "0     1   1   1"
      ]
     },
     "execution_count": 315,
     "metadata": {},
     "output_type": "execute_result"
    }
   ],
   "source": [
    "df_first_inh_turret_winner = pd.DataFrame()\n",
    "\n",
    "df_first_inh_turret_winner['Tower'] = games.firstTower\n",
    "df_first_inh_turret_winner['Inh'] = games.firstInhibitor\n",
    "df_first_inh_turret_winner['Win'] = games.winner\n",
    "\n",
    "df_first_inh_turret_winner.head(1)"
   ]
  },
  {
   "cell_type": "code",
   "execution_count": 317,
   "metadata": {},
   "outputs": [
    {
     "data": {
      "text/html": [
       "<style  type=\"text/css\" >\n",
       "    #T_a484608c_48ee_11e9_98f9_74d435ea1c75row0_col0 {\n",
       "            background-color:  #b40426;\n",
       "        }    #T_a484608c_48ee_11e9_98f9_74d435ea1c75row0_col1 {\n",
       "            background-color:  #3b4cc0;\n",
       "        }    #T_a484608c_48ee_11e9_98f9_74d435ea1c75row0_col2 {\n",
       "            background-color:  #3b4cc0;\n",
       "        }    #T_a484608c_48ee_11e9_98f9_74d435ea1c75row1_col0 {\n",
       "            background-color:  #3c4ec2;\n",
       "        }    #T_a484608c_48ee_11e9_98f9_74d435ea1c75row1_col1 {\n",
       "            background-color:  #b40426;\n",
       "        }    #T_a484608c_48ee_11e9_98f9_74d435ea1c75row1_col2 {\n",
       "            background-color:  #8fb1fe;\n",
       "        }    #T_a484608c_48ee_11e9_98f9_74d435ea1c75row2_col0 {\n",
       "            background-color:  #3b4cc0;\n",
       "        }    #T_a484608c_48ee_11e9_98f9_74d435ea1c75row2_col1 {\n",
       "            background-color:  #8db0fe;\n",
       "        }    #T_a484608c_48ee_11e9_98f9_74d435ea1c75row2_col2 {\n",
       "            background-color:  #b40426;\n",
       "        }</style>  \n",
       "<table id=\"T_a484608c_48ee_11e9_98f9_74d435ea1c75\" > \n",
       "<thead>    <tr> \n",
       "        <th class=\"blank level0\" ></th> \n",
       "        <th class=\"col_heading level0 col0\" >Tower</th> \n",
       "        <th class=\"col_heading level0 col1\" >Inh</th> \n",
       "        <th class=\"col_heading level0 col2\" >Win</th> \n",
       "    </tr></thead> \n",
       "<tbody>    <tr> \n",
       "        <th id=\"T_a484608c_48ee_11e9_98f9_74d435ea1c75level0_row0\" class=\"row_heading level0 row0\" >Tower</th> \n",
       "        <td id=\"T_a484608c_48ee_11e9_98f9_74d435ea1c75row0_col0\" class=\"data row0 col0\" >1</td> \n",
       "        <td id=\"T_a484608c_48ee_11e9_98f9_74d435ea1c75row0_col1\" class=\"data row0 col1\" >0.380326</td> \n",
       "        <td id=\"T_a484608c_48ee_11e9_98f9_74d435ea1c75row0_col2\" class=\"data row0 col2\" >0.375697</td> \n",
       "    </tr>    <tr> \n",
       "        <th id=\"T_a484608c_48ee_11e9_98f9_74d435ea1c75level0_row1\" class=\"row_heading level0 row1\" >Inh</th> \n",
       "        <td id=\"T_a484608c_48ee_11e9_98f9_74d435ea1c75row1_col0\" class=\"data row1 col0\" >0.380326</td> \n",
       "        <td id=\"T_a484608c_48ee_11e9_98f9_74d435ea1c75row1_col1\" class=\"data row1 col1\" >1</td> \n",
       "        <td id=\"T_a484608c_48ee_11e9_98f9_74d435ea1c75row1_col2\" class=\"data row1 col2\" >0.536437</td> \n",
       "    </tr>    <tr> \n",
       "        <th id=\"T_a484608c_48ee_11e9_98f9_74d435ea1c75level0_row2\" class=\"row_heading level0 row2\" >Win</th> \n",
       "        <td id=\"T_a484608c_48ee_11e9_98f9_74d435ea1c75row2_col0\" class=\"data row2 col0\" >0.375697</td> \n",
       "        <td id=\"T_a484608c_48ee_11e9_98f9_74d435ea1c75row2_col1\" class=\"data row2 col1\" >0.536437</td> \n",
       "        <td id=\"T_a484608c_48ee_11e9_98f9_74d435ea1c75row2_col2\" class=\"data row2 col2\" >1</td> \n",
       "    </tr></tbody> \n",
       "</table> "
      ],
      "text/plain": [
       "<pandas.io.formats.style.Styler at 0x24d9021c518>"
      ]
     },
     "execution_count": 317,
     "metadata": {},
     "output_type": "execute_result"
    }
   ],
   "source": [
    "df_first_inh_turret_winner['Win'] = df_first_inh_turret_winner['Win'].astype('float')\n",
    "df_first_inh_turret_winner['Inh'] = df_first_inh_turret_winner['Inh'].astype('float')\n",
    "df_first_inh_turret_winner['Tower'] = df_first_inh_turret_winner['Tower'].astype('float')\n",
    "df_first_inh_turret_winner.corr().style.background_gradient(cmap='coolwarm')"
   ]
  },
  {
   "cell_type": "markdown",
   "metadata": {},
   "source": [
    "Como se puede observar, tirar la primera torre tiene una correlación del 37% únicamente, mientras que tirar el primer inhibidor tiene una correlación del 53%.\n",
    "Esto lo que nos indica es la débil correlación de empezar ganando, pero la fuerza que tiene la correlación si se tira el primer inhibidor"
   ]
  },
  {
   "cell_type": "markdown",
   "metadata": {},
   "source": [
    "4.4) Dragones, Barones y Heraldo"
   ]
  },
  {
   "cell_type": "code",
   "execution_count": null,
   "metadata": {},
   "outputs": [],
   "source": []
  }
 ],
 "metadata": {
  "kernelspec": {
   "display_name": "Python 3",
   "language": "python",
   "name": "python3"
  },
  "language_info": {
   "codemirror_mode": {
    "name": "ipython",
    "version": 3
   },
   "file_extension": ".py",
   "mimetype": "text/x-python",
   "name": "python",
   "nbconvert_exporter": "python",
   "pygments_lexer": "ipython3",
   "version": "3.7.1"
  }
 },
 "nbformat": 4,
 "nbformat_minor": 2
}
