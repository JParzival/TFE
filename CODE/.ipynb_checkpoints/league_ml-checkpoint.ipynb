{
 "cells": [
  {
   "cell_type": "markdown",
   "metadata": {},
   "source": [
    "                                                                                MACHINE LEARNING"
   ]
  },
  {
   "cell_type": "markdown",
   "metadata": {},
   "source": [
    "Lo primero que se debe de hacer es un centrado y escalado de los datos, eliminando previamente datos que no necesito para ML:"
   ]
  },
  {
   "cell_type": "code",
   "execution_count": 1,
   "metadata": {},
   "outputs": [],
   "source": [
    "from sklearn.preprocessing import StandardScaler\n",
    "import pandas as pd\n",
    "import numpy as np\n",
    "from sklearn.model_selection import GridSearchCV"
   ]
  },
  {
   "cell_type": "code",
   "execution_count": 2,
   "metadata": {},
   "outputs": [],
   "source": [
    "#Dataframe para predecir\n",
    "\n",
    "games = pd.read_csv(\"data/games_clean.csv\")\n",
    "\n",
    "games_ml = games.iloc[:, -56:]\n",
    "games_ml['Duration'] = games.gameDuration\n",
    "columnas = games_ml.columns\n",
    "\n",
    "#Mi variable a predecir (target)\n",
    "\n",
    "winner_ml = games.iloc[:, 3]"
   ]
  },
  {
   "cell_type": "code",
   "execution_count": 3,
   "metadata": {},
   "outputs": [
    {
     "name": "stderr",
     "output_type": "stream",
     "text": [
      "D:\\Users\\Jorge\\Anaconda3\\lib\\site-packages\\ipykernel_launcher.py:8: DataConversionWarning: Data with input dtype uint8, int64 were all converted to float64 by the scale function.\n",
      "  \n"
     ]
    }
   ],
   "source": [
    "# Ahora el primer paso es convertir todas las variables de campeones y spells a dummies, puesto que son texto\n",
    "\n",
    "games_ml = pd.get_dummies(games_ml)\n",
    "\n",
    "# Ahora que lo tengo tengo que hacer el centrado y escalado para evitar condicionar a la red con valores grandes\n",
    "\n",
    "from sklearn.preprocessing import scale\n",
    "games_ml_scaled = scale(games_ml, axis=0, with_mean=True, with_std=True, copy=True)"
   ]
  },
  {
   "cell_type": "code",
   "execution_count": 4,
   "metadata": {},
   "outputs": [
    {
     "data": {
      "text/html": [
       "<div>\n",
       "<style scoped>\n",
       "    .dataframe tbody tr th:only-of-type {\n",
       "        vertical-align: middle;\n",
       "    }\n",
       "\n",
       "    .dataframe tbody tr th {\n",
       "        vertical-align: top;\n",
       "    }\n",
       "\n",
       "    .dataframe thead th {\n",
       "        text-align: right;\n",
       "    }\n",
       "</style>\n",
       "<table border=\"1\" class=\"dataframe\">\n",
       "  <thead>\n",
       "    <tr style=\"text-align: right;\">\n",
       "      <th></th>\n",
       "      <th>firstBlood</th>\n",
       "      <th>firstTower</th>\n",
       "      <th>firstInhibitor</th>\n",
       "      <th>firstBaron</th>\n",
       "      <th>firstDragon</th>\n",
       "      <th>firstRiftHerald</th>\n",
       "      <th>t1_towerKills</th>\n",
       "      <th>t1_inhibitorKills</th>\n",
       "      <th>t1_baronKills</th>\n",
       "      <th>t1_dragonKills</th>\n",
       "      <th>t1_riftHeraldKills</th>\n",
       "      <th>t2_towerKills</th>\n",
       "      <th>t2_inhibitorKills</th>\n",
       "      <th>t2_baronKills</th>\n",
       "      <th>t2_dragonKills</th>\n",
       "      <th>t2_riftHeraldKills</th>\n",
       "      <th>Duration</th>\n",
       "    </tr>\n",
       "  </thead>\n",
       "  <tbody>\n",
       "    <tr>\n",
       "      <th>0</th>\n",
       "      <td>2</td>\n",
       "      <td>1</td>\n",
       "      <td>1</td>\n",
       "      <td>1</td>\n",
       "      <td>1</td>\n",
       "      <td>2</td>\n",
       "      <td>11</td>\n",
       "      <td>1</td>\n",
       "      <td>2</td>\n",
       "      <td>3</td>\n",
       "      <td>0</td>\n",
       "      <td>5</td>\n",
       "      <td>0</td>\n",
       "      <td>0</td>\n",
       "      <td>1</td>\n",
       "      <td>1</td>\n",
       "      <td>1949</td>\n",
       "    </tr>\n",
       "    <tr>\n",
       "      <th>1</th>\n",
       "      <td>1</td>\n",
       "      <td>1</td>\n",
       "      <td>1</td>\n",
       "      <td>0</td>\n",
       "      <td>1</td>\n",
       "      <td>1</td>\n",
       "      <td>10</td>\n",
       "      <td>4</td>\n",
       "      <td>0</td>\n",
       "      <td>2</td>\n",
       "      <td>1</td>\n",
       "      <td>2</td>\n",
       "      <td>0</td>\n",
       "      <td>0</td>\n",
       "      <td>0</td>\n",
       "      <td>0</td>\n",
       "      <td>1851</td>\n",
       "    </tr>\n",
       "    <tr>\n",
       "      <th>2</th>\n",
       "      <td>2</td>\n",
       "      <td>1</td>\n",
       "      <td>1</td>\n",
       "      <td>1</td>\n",
       "      <td>2</td>\n",
       "      <td>0</td>\n",
       "      <td>8</td>\n",
       "      <td>1</td>\n",
       "      <td>1</td>\n",
       "      <td>1</td>\n",
       "      <td>0</td>\n",
       "      <td>2</td>\n",
       "      <td>0</td>\n",
       "      <td>0</td>\n",
       "      <td>1</td>\n",
       "      <td>0</td>\n",
       "      <td>1493</td>\n",
       "    </tr>\n",
       "    <tr>\n",
       "      <th>3</th>\n",
       "      <td>1</td>\n",
       "      <td>1</td>\n",
       "      <td>1</td>\n",
       "      <td>1</td>\n",
       "      <td>1</td>\n",
       "      <td>0</td>\n",
       "      <td>9</td>\n",
       "      <td>2</td>\n",
       "      <td>1</td>\n",
       "      <td>2</td>\n",
       "      <td>0</td>\n",
       "      <td>0</td>\n",
       "      <td>0</td>\n",
       "      <td>0</td>\n",
       "      <td>0</td>\n",
       "      <td>0</td>\n",
       "      <td>1758</td>\n",
       "    </tr>\n",
       "    <tr>\n",
       "      <th>4</th>\n",
       "      <td>2</td>\n",
       "      <td>1</td>\n",
       "      <td>1</td>\n",
       "      <td>1</td>\n",
       "      <td>1</td>\n",
       "      <td>0</td>\n",
       "      <td>9</td>\n",
       "      <td>2</td>\n",
       "      <td>1</td>\n",
       "      <td>3</td>\n",
       "      <td>0</td>\n",
       "      <td>3</td>\n",
       "      <td>0</td>\n",
       "      <td>0</td>\n",
       "      <td>1</td>\n",
       "      <td>0</td>\n",
       "      <td>2094</td>\n",
       "    </tr>\n",
       "  </tbody>\n",
       "</table>\n",
       "</div>"
      ],
      "text/plain": [
       "   firstBlood  firstTower  firstInhibitor  firstBaron  firstDragon  \\\n",
       "0           2           1               1           1            1   \n",
       "1           1           1               1           0            1   \n",
       "2           2           1               1           1            2   \n",
       "3           1           1               1           1            1   \n",
       "4           2           1               1           1            1   \n",
       "\n",
       "   firstRiftHerald  t1_towerKills  t1_inhibitorKills  t1_baronKills  \\\n",
       "0                2             11                  1              2   \n",
       "1                1             10                  4              0   \n",
       "2                0              8                  1              1   \n",
       "3                0              9                  2              1   \n",
       "4                0              9                  2              1   \n",
       "\n",
       "   t1_dragonKills  t1_riftHeraldKills  t2_towerKills  t2_inhibitorKills  \\\n",
       "0               3                   0              5                  0   \n",
       "1               2                   1              2                  0   \n",
       "2               1                   0              2                  0   \n",
       "3               2                   0              0                  0   \n",
       "4               3                   0              3                  0   \n",
       "\n",
       "   t2_baronKills  t2_dragonKills  t2_riftHeraldKills  Duration  \n",
       "0              0               1                   1      1949  \n",
       "1              0               0                   0      1851  \n",
       "2              0               1                   0      1493  \n",
       "3              0               0                   0      1758  \n",
       "4              0               1                   0      2094  "
      ]
     },
     "execution_count": 4,
     "metadata": {},
     "output_type": "execute_result"
    }
   ],
   "source": [
    "games_ml_nc = games_ml.iloc[:, :17]\n",
    "games_ml_nc.head()"
   ]
  },
  {
   "cell_type": "code",
   "execution_count": 5,
   "metadata": {},
   "outputs": [],
   "source": [
    "from sklearn.decomposition import PCA"
   ]
  },
  {
   "cell_type": "code",
   "execution_count": 6,
   "metadata": {},
   "outputs": [],
   "source": [
    "pca = PCA().fit(games_ml_scaled) # Calculamos la varianza de las componentes principales"
   ]
  },
  {
   "cell_type": "code",
   "execution_count": 7,
   "metadata": {},
   "outputs": [
    {
     "data": {
      "text/plain": [
       "<Figure size 640x480 with 1 Axes>"
      ]
     },
     "metadata": {},
     "output_type": "display_data"
    }
   ],
   "source": [
    "# Lo mostramos \n",
    "\n",
    "import matplotlib.pyplot as plt\n",
    "\n",
    "plt.figure()\n",
    "plt.plot(np.cumsum(pca.explained_variance_ratio_))\n",
    "plt.xlabel('Número de componentes')\n",
    "plt.ylabel('Varianza en porcentaje (%)')\n",
    "plt.title('Varianza explicada')\n",
    "plt.savefig(\"imagenes/PCA.png\")\n",
    "plt.show()"
   ]
  },
  {
   "cell_type": "markdown",
   "metadata": {},
   "source": [
    "Se puede ver que nos podemos quitar 500 dimensiones sin problemas siguiendo con una varianza bastante decente...\n",
    "\n",
    "Lo dejaré en que con el 90% de explicación me vale"
   ]
  },
  {
   "cell_type": "code",
   "execution_count": 8,
   "metadata": {},
   "outputs": [],
   "source": [
    "list = []\n",
    "\n",
    "pca = PCA(0.9)\n",
    "\n",
    "componentes_principales = pca.fit_transform(games_ml_scaled)"
   ]
  },
  {
   "cell_type": "code",
   "execution_count": 9,
   "metadata": {},
   "outputs": [],
   "source": [
    "from sklearn.model_selection import train_test_split\n",
    "\n",
    "for n in range(componentes_principales.shape[1]):\n",
    "    list.append(\"PC {:.0f}\".format(n))\n",
    "    \n",
    "dataframe_ml_09 = pd.DataFrame(data = componentes_principales, columns = list)\n",
    "dataframe_ml_09.head(2)\n",
    "\n",
    "x_train, x_test, y_train, y_test = train_test_split(dataframe_ml_09, games.winner, test_size=0.30, random_state=97)"
   ]
  },
  {
   "cell_type": "markdown",
   "metadata": {},
   "source": [
    "Crearé también un PCA con 50% de variación para las grandes reducciones de dimensionalidad"
   ]
  },
  {
   "cell_type": "code",
   "execution_count": 10,
   "metadata": {},
   "outputs": [],
   "source": [
    "list_2 = []\n",
    "\n",
    "pca_low = PCA(0.5)\n",
    "\n",
    "componentes_principales_low = pca_low.fit_transform(games_ml_scaled)\n",
    "\n",
    "for n in range(componentes_principales_low.shape[1]):\n",
    "    list_2.append(\"PC {:.0f}\".format(n))\n",
    "    \n",
    "dataframe_ml_low = pd.DataFrame(data = componentes_principales_low, columns = list_2)\n",
    "\n",
    "dataframe_ml_low.head(2)\n",
    "\n",
    "x_train_low, x_test_low, y_train_low, y_test_low = train_test_split(dataframe_ml_low, games.winner, test_size=0.30, random_state=97)"
   ]
  },
  {
   "cell_type": "markdown",
   "metadata": {},
   "source": [
    "Ahora crearé una matriz difusa a partir de los datos originales (tras el dummy), para mejorar la eficiencia computacional"
   ]
  },
  {
   "cell_type": "code",
   "execution_count": 11,
   "metadata": {},
   "outputs": [
    {
     "name": "stdout",
     "output_type": "stream",
     "text": [
      "La difusión de la matriz en tanto por uno es de: 0.017\n"
     ]
    }
   ],
   "source": [
    "print(\"La difusión de la matriz en tanto por uno es de: {:.3f}\".format(games_ml.astype(bool).sum(axis=1).sum(axis=0)/(games_ml.shape[0]*games_ml.shape[1])))"
   ]
  },
  {
   "cell_type": "code",
   "execution_count": 12,
   "metadata": {},
   "outputs": [
    {
     "name": "stderr",
     "output_type": "stream",
     "text": [
      "D:\\Users\\Jorge\\Anaconda3\\lib\\site-packages\\ipykernel_launcher.py:5: DataConversionWarning: Data with input dtype int64 were all converted to float64 by the scale function.\n",
      "  \"\"\"\n"
     ]
    }
   ],
   "source": [
    "# Ahora tengo que hacer el centerscale, y luego la división entre train y test\n",
    "\n",
    "from sklearn.preprocessing import scale\n",
    "\n",
    "games_ml_scaled_nc = scale(games_ml_nc, axis=0, with_mean=True, with_std=True, copy=True)\n",
    "\n",
    "x_train_nc, x_test_nc, y_train_nc, y_test_nc = train_test_split(games_ml_scaled_nc, games.winner, test_size=0.30, random_state=97)"
   ]
  },
  {
   "cell_type": "markdown",
   "metadata": {},
   "source": [
    "Es decir, se podría decir que en la matriz prácticamente todos los elementos son cero"
   ]
  },
  {
   "cell_type": "code",
   "execution_count": 13,
   "metadata": {},
   "outputs": [],
   "source": [
    "# Creación de la matriz difusa\n",
    "\n",
    "from scipy.sparse import csr_matrix\n",
    "\n",
    "sparse_matrix = csr_matrix(games_ml)\n",
    "sparse_matrix\n",
    "\n",
    "x_train_sparse, x_test_sparse, y_train_sparse, y_test_sparse = train_test_split(sparse_matrix, games.winner, test_size=0.30, random_state=97)"
   ]
  },
  {
   "cell_type": "markdown",
   "metadata": {},
   "source": [
    "Ahora que tengo el centrado y escalado y el PCA, es momento de empezar con los algoritmos clasificadores y regresores:"
   ]
  },
  {
   "cell_type": "markdown",
   "metadata": {},
   "source": [
    "                                                                \n",
    "                                                                \n",
    "                                                                1) Redes Neuronales - Perceptrón Multicapa"
   ]
  },
  {
   "cell_type": "code",
   "execution_count": 25,
   "metadata": {},
   "outputs": [],
   "source": [
    "from sklearn.neural_network import MLPClassifier\n",
    "from sklearn.metrics import classification_report,confusion_matrix\n",
    "\n",
    "df_resultados = pd.DataFrame()"
   ]
  },
  {
   "cell_type": "code",
   "execution_count": 14,
   "metadata": {},
   "outputs": [],
   "source": [
    "#lbfgs para datasets pequeños, converge mejor. adam para grandes, converge peor\n",
    "\n",
    "# Solver lento pero mejor, alpha (decay) pequeño, seed en 1, activación por ReLU y 50 neuronas en la capa intermedia\n",
    "\n",
    "red_multicapa_50 = MLPClassifier(solver='lbfgs', alpha=0.001, random_state=1, activation = 'relu', hidden_layer_sizes=(50,))\n",
    "red_multicapa_50.fit(x_train, y_train)\n",
    "prediccion_red_multicapa_50 = red_multicapa_50.predict(x_test)"
   ]
  },
  {
   "cell_type": "code",
   "execution_count": 15,
   "metadata": {},
   "outputs": [
    {
     "name": "stdout",
     "output_type": "stream",
     "text": [
      "50 NEURONAS\n",
      "La puntuación del entrenamiento en tanto por 1 es de: 1.000\n",
      "La puntuación del test en tanto por 1 es de: 0.917\n"
     ]
    }
   ],
   "source": [
    "print(\"50 NEURONAS\")\n",
    "print(\"La puntuación del entrenamiento en tanto por 1 es de: {:.3f}\".format(red_multicapa_50.score(x_train, y_train)))\n",
    "print(\"La puntuación del test en tanto por 1 es de: {:.3f}\".format(red_multicapa_50.score(x_test, y_test)))\n",
    "\n",
    "df_resultados['50 Neuronas_Train'] = red_multicapa_50.score(x_train, y_train)\n",
    "df_resultados['50 Neuronas_Test'] = red_multicapa_50.score(x_test, y_test)"
   ]
  },
  {
   "cell_type": "code",
   "execution_count": 16,
   "metadata": {},
   "outputs": [
    {
     "name": "stdout",
     "output_type": "stream",
     "text": [
      "Matriz de confusión\n",
      "[[7188  598]\n",
      " [ 686 6975]]\n"
     ]
    }
   ],
   "source": [
    "print(\"Matriz de confusión\")\n",
    "print(confusion_matrix(y_test,prediccion_red_multicapa_50))"
   ]
  },
  {
   "cell_type": "code",
   "execution_count": 17,
   "metadata": {},
   "outputs": [
    {
     "name": "stdout",
     "output_type": "stream",
     "text": [
      "              precision    recall  f1-score   support\n",
      "\n",
      "           1       0.91      0.92      0.92      7786\n",
      "           2       0.92      0.91      0.92      7661\n",
      "\n",
      "   micro avg       0.92      0.92      0.92     15447\n",
      "   macro avg       0.92      0.92      0.92     15447\n",
      "weighted avg       0.92      0.92      0.92     15447\n",
      "\n"
     ]
    }
   ],
   "source": [
    "print(classification_report(y_test,prediccion_red_multicapa_50))"
   ]
  },
  {
   "cell_type": "markdown",
   "metadata": {},
   "source": [
    "Se está cayendo en overfitting. Reducción de las neuronas de la capa intermedia:"
   ]
  },
  {
   "cell_type": "code",
   "execution_count": 18,
   "metadata": {},
   "outputs": [],
   "source": [
    "red_multicapa_20 = MLPClassifier(solver='lbfgs', alpha=0.001, random_state=1, activation = 'relu', hidden_layer_sizes=(20,))\n",
    "red_multicapa_20.fit(x_train, y_train)\n",
    "prediccion_red_multicapa_20 = red_multicapa_20.predict(x_test)"
   ]
  },
  {
   "cell_type": "code",
   "execution_count": 19,
   "metadata": {},
   "outputs": [
    {
     "name": "stdout",
     "output_type": "stream",
     "text": [
      "20 NEURONAS\n",
      "La puntuación del entrenamiento en tanto por 1 es de: 1.000\n",
      "La puntuación del test en tanto por 1 es de: 0.914\n"
     ]
    }
   ],
   "source": [
    "print(\"20 NEURONAS\")\n",
    "print(\"La puntuación del entrenamiento en tanto por 1 es de: {:.3f}\".format(red_multicapa_20.score(x_train, y_train)))\n",
    "print(\"La puntuación del test en tanto por 1 es de: {:.3f}\".format(red_multicapa_20.score(x_test, y_test)))\n",
    "\n",
    "df_resultados['20 Neuronas_Train'] = red_multicapa_20.score(x_train, y_train)\n",
    "df_resultados['20 Neuronas_Test'] = red_multicapa_20.score(x_test, y_test)"
   ]
  },
  {
   "cell_type": "code",
   "execution_count": null,
   "metadata": {},
   "outputs": [
    {
     "name": "stdout",
     "output_type": "stream",
     "text": [
      "Matriz de confusión\n",
      "[[7150  636]\n",
      " [ 698 6963]]\n"
     ]
    }
   ],
   "source": [
    "print(\"Matriz de confusión\")\n",
    "print(confusion_matrix(y_test,prediccion_red_multicapa_20))"
   ]
  },
  {
   "cell_type": "code",
   "execution_count": null,
   "metadata": {},
   "outputs": [
    {
     "name": "stdout",
     "output_type": "stream",
     "text": [
      "              precision    recall  f1-score   support\n",
      "\n",
      "           1       0.91      0.92      0.91      7786\n",
      "           2       0.92      0.91      0.91      7661\n",
      "\n",
      "   micro avg       0.91      0.91      0.91     15447\n",
      "   macro avg       0.91      0.91      0.91     15447\n",
      "weighted avg       0.91      0.91      0.91     15447\n",
      "\n"
     ]
    }
   ],
   "source": [
    "print(classification_report(y_test,prediccion_red_multicapa_20))"
   ]
  },
  {
   "cell_type": "markdown",
   "metadata": {},
   "source": [
    "Sigue estando el entrenamiento demasiado alto, demasiado overfitting"
   ]
  },
  {
   "cell_type": "code",
   "execution_count": null,
   "metadata": {},
   "outputs": [],
   "source": [
    "red_multicapa_10 = MLPClassifier(solver='lbfgs', alpha=0.001, random_state=1, activation = 'relu', hidden_layer_sizes=(10,))\n",
    "red_multicapa_10.fit(x_train, y_train)\n",
    "prediccion_red_multicapa_10 = red_multicapa_10.predict(x_test)"
   ]
  },
  {
   "cell_type": "code",
   "execution_count": null,
   "metadata": {},
   "outputs": [
    {
     "name": "stdout",
     "output_type": "stream",
     "text": [
      "10 NEURONAS\n",
      "La puntuación del entrenamiento en tanto por 1 es de: 0.997\n",
      "La puntuación del test en tanto por 1 es de: 0.912\n"
     ]
    }
   ],
   "source": [
    "print(\"10 NEURONAS\")\n",
    "print(\"La puntuación del entrenamiento en tanto por 1 es de: {:.3f}\".format(red_multicapa_10.score(x_train, y_train)))\n",
    "print(\"La puntuación del test en tanto por 1 es de: {:.3f}\".format(red_multicapa_10.score(x_test, y_test)))\n",
    "\n",
    "df_resultados['10 Neuronas_Train'] = red_multicapa_10.score(x_train, y_train)\n",
    "df_resultados['10 Neuronas_Test'] = red_multicapa_10.score(x_test, y_test)"
   ]
  },
  {
   "cell_type": "code",
   "execution_count": null,
   "metadata": {},
   "outputs": [
    {
     "name": "stdout",
     "output_type": "stream",
     "text": [
      "Matriz de confusión\n",
      "[[7113  673]\n",
      " [ 689 6972]]\n"
     ]
    }
   ],
   "source": [
    "print(\"Matriz de confusión\")\n",
    "print(confusion_matrix(y_test,prediccion_red_multicapa_10))"
   ]
  },
  {
   "cell_type": "code",
   "execution_count": null,
   "metadata": {},
   "outputs": [
    {
     "name": "stdout",
     "output_type": "stream",
     "text": [
      "              precision    recall  f1-score   support\n",
      "\n",
      "           1       0.91      0.91      0.91      7786\n",
      "           2       0.91      0.91      0.91      7661\n",
      "\n",
      "   micro avg       0.91      0.91      0.91     15447\n",
      "   macro avg       0.91      0.91      0.91     15447\n",
      "weighted avg       0.91      0.91      0.91     15447\n",
      "\n"
     ]
    }
   ],
   "source": [
    "print(classification_report(y_test,prediccion_red_multicapa_10))"
   ]
  },
  {
   "cell_type": "code",
   "execution_count": null,
   "metadata": {},
   "outputs": [],
   "source": [
    "red_multicapa_10_d01 = MLPClassifier(solver='adam', alpha=0.001, random_state=1, activation = 'relu', hidden_layer_sizes=(10,), learning_rate_init=0.1)\n",
    "red_multicapa_10_d01.fit(x_train, y_train)\n",
    "prediccion_red_multicapa_10_d01 = red_multicapa_10_d01.predict(x_test)"
   ]
  },
  {
   "cell_type": "code",
   "execution_count": null,
   "metadata": {},
   "outputs": [
    {
     "name": "stdout",
     "output_type": "stream",
     "text": [
      "10 NEURONAS, DECAY 0.1\n",
      "La puntuación del entrenamiento en tanto por 1 es de: 0.957\n",
      "La puntuación del test en tanto por 1 es de: 0.904\n"
     ]
    }
   ],
   "source": [
    "print(\"10 NEURONAS, DECAY 0.1\")\n",
    "print(\"La puntuación del entrenamiento en tanto por 1 es de: {:.3f}\".format(red_multicapa_10_d01.score(x_train, y_train)))\n",
    "print(\"La puntuación del test en tanto por 1 es de: {:.3f}\".format(red_multicapa_10_d01.score(x_test, y_test)))\n",
    "\n",
    "df_resultados['10 Neuronas-Decay 0.1_Train'] = red_multicapa_10_d01.score(x_train, y_train)\n",
    "df_resultados['10 Neuronas-Decay 0.1_Test'] = red_multicapa_10_d01.score(x_test, y_test)"
   ]
  },
  {
   "cell_type": "code",
   "execution_count": null,
   "metadata": {},
   "outputs": [
    {
     "name": "stdout",
     "output_type": "stream",
     "text": [
      "Matriz de confusión\n",
      "[[7189  597]\n",
      " [ 885 6776]]\n"
     ]
    }
   ],
   "source": [
    "print(\"Matriz de confusión\")\n",
    "print(confusion_matrix(y_test,prediccion_red_multicapa_10_d01))"
   ]
  },
  {
   "cell_type": "code",
   "execution_count": null,
   "metadata": {},
   "outputs": [
    {
     "name": "stdout",
     "output_type": "stream",
     "text": [
      "              precision    recall  f1-score   support\n",
      "\n",
      "           1       0.89      0.92      0.91      7786\n",
      "           2       0.92      0.88      0.90      7661\n",
      "\n",
      "   micro avg       0.90      0.90      0.90     15447\n",
      "   macro avg       0.90      0.90      0.90     15447\n",
      "weighted avg       0.90      0.90      0.90     15447\n",
      "\n"
     ]
    }
   ],
   "source": [
    "print(classification_report(y_test,prediccion_red_multicapa_10_d01))"
   ]
  },
  {
   "cell_type": "markdown",
   "metadata": {},
   "source": [
    "                                             2) KNN - K Nearest Neighbors"
   ]
  },
  {
   "cell_type": "markdown",
   "metadata": {},
   "source": [
    "KNN tiene un problema con la alta dimensionalidad, puesto que se basa en distancias euclídeas. Debido a esto, tengo que hacer una reducción de la dimensionalidad aún más grande a costa de sacrificar precisión"
   ]
  },
  {
   "cell_type": "code",
   "execution_count": 16,
   "metadata": {},
   "outputs": [],
   "source": [
    "from sklearn.neighbors import KNeighborsClassifier"
   ]
  },
  {
   "cell_type": "markdown",
   "metadata": {},
   "source": [
    "Como tenemos dos tipos de partidas (ganadas por T1 y ganadas por T2), vamos a clasificar en dos...\n",
    "\n",
    "Para empezar, iré con K = 5, aunque seguramente acabe en overfitting y haya que subir"
   ]
  },
  {
   "cell_type": "code",
   "execution_count": null,
   "metadata": {},
   "outputs": [],
   "source": [
    "knn = KNeighborsClassifier(n_neighbors=5, weights='uniform')\n",
    "knn.fit(x_train_sparse, y_train_sparse)\n",
    "prediccion_knn5 = knn.predict(x_test_sparse)"
   ]
  },
  {
   "cell_type": "code",
   "execution_count": null,
   "metadata": {},
   "outputs": [
    {
     "name": "stdout",
     "output_type": "stream",
     "text": [
      "KNN con K = 5\n",
      "La puntuación del entrenamiento en tanto por 1 es de: 0.967\n",
      "La puntuación del test en tanto por 1 es de: 0.948\n"
     ]
    }
   ],
   "source": [
    "print(\"KNN con K = 5\")\n",
    "\n",
    "score_train_knn_5 = knn.score(x_train_sparse, y_train_sparse)\n",
    "print(\"La puntuación del entrenamiento en tanto por 1 es de: {:.3f}\".format(score_train_knn_5))\n",
    "\n",
    "score_test_knn_5  = knn.score(x_test_sparse, y_test_sparse)\n",
    "print(\"La puntuación del test en tanto por 1 es de: {:.3f}\".format(score_test_knn_5))"
   ]
  },
  {
   "cell_type": "code",
   "execution_count": null,
   "metadata": {},
   "outputs": [
    {
     "name": "stdout",
     "output_type": "stream",
     "text": [
      "[[7401  385]\n",
      " [ 425 7236]]\n"
     ]
    }
   ],
   "source": [
    "df_resultados['knn5_train'] = score_train_knn_5\n",
    "df_resultados['knn5_test'] = score_test_knn_5\n",
    "print(confusion_matrix(y_test_sparse, prediccion_knn5))"
   ]
  },
  {
   "cell_type": "markdown",
   "metadata": {},
   "source": [
    "La teoría dice que el K perfecto suele ser sqrt(total). Veamos a ver"
   ]
  },
  {
   "cell_type": "code",
   "execution_count": null,
   "metadata": {},
   "outputs": [],
   "source": [
    "import math as m\n",
    "\n",
    "knn_sqrt = KNeighborsClassifier(n_neighbors=m.trunc(m.sqrt(x_train.shape[0])), weights='uniform')\n",
    "knn_sqrt.fit(x_train_sparse, y_train_sparse)\n",
    "prediccion_knn_sqrt = knn_sqrt.predict(x_test_sparse)"
   ]
  },
  {
   "cell_type": "code",
   "execution_count": null,
   "metadata": {},
   "outputs": [
    {
     "name": "stdout",
     "output_type": "stream",
     "text": [
      "KNN con K = 190\n",
      "La puntuación del entrenamiento en tanto por 1 es de: 0.928\n",
      "La puntuación del test en tanto por 1 es de: 0.921\n"
     ]
    }
   ],
   "source": [
    "print(\"KNN con K = {:.0f}\".format(m.sqrt(x_train.shape[0])))\n",
    "\n",
    "score_train_knn_sqrt = knn_sqrt.score(x_train_sparse, y_train_sparse)\n",
    "print(\"La puntuación del entrenamiento en tanto por 1 es de: {:.3f}\".format(score_train_knn_sqrt))\n",
    "\n",
    "score_test_knn_sqrt  = knn_sqrt.score(x_test_sparse, y_test_sparse)\n",
    "print(\"La puntuación del test en tanto por 1 es de: {:.3f}\".format(score_test_knn_sqrt))"
   ]
  },
  {
   "cell_type": "code",
   "execution_count": null,
   "metadata": {},
   "outputs": [
    {
     "name": "stdout",
     "output_type": "stream",
     "text": [
      "[[7307  479]\n",
      " [ 738 6923]]\n"
     ]
    }
   ],
   "source": [
    "df_resultados['knn_sqrt_train'] = score_train_knn_sqrt\n",
    "df_resultados['knn_sqrt_test'] = score_test_knn_sqrt\n",
    "print(confusion_matrix(y_test_sparse, prediccion_knn_sqrt))"
   ]
  },
  {
   "cell_type": "markdown",
   "metadata": {},
   "source": [
    "Como se puede ver, en este caso la precisión es inferior con sqrt."
   ]
  },
  {
   "cell_type": "markdown",
   "metadata": {},
   "source": [
    "Ya que se ve que con K = 5 se obtienen buenos resultados, pivotemos alrededor.\n",
    "\n",
    "K = 3 -> Tiene riesgo de caer en overfitting, pero quizás mejore los resultados de test\n",
    "\n",
    "K = 7 -> Mayor generalización. ¿Predecirá mejor?"
   ]
  },
  {
   "cell_type": "code",
   "execution_count": null,
   "metadata": {},
   "outputs": [],
   "source": [
    "knn_3 = KNeighborsClassifier(n_neighbors=3, weights='uniform')\n",
    "knn_3.fit(x_train_sparse, y_train_sparse)\n",
    "prediccion_knn3 = knn_3.predict(x_test_sparse)"
   ]
  },
  {
   "cell_type": "code",
   "execution_count": null,
   "metadata": {},
   "outputs": [
    {
     "name": "stdout",
     "output_type": "stream",
     "text": [
      "KNN con K = 3\n",
      "La puntuación del entrenamiento en tanto por 1 es de: 0.973\n",
      "La puntuación del test en tanto por 1 es de: 0.946\n"
     ]
    }
   ],
   "source": [
    "print(\"KNN con K = 3\")\n",
    "\n",
    "score_train_knn_3 = knn_3.score(x_train_sparse, y_train_sparse)\n",
    "print(\"La puntuación del entrenamiento en tanto por 1 es de: {:.3f}\".format(score_train_knn_3))\n",
    "\n",
    "score_test_knn_3 = knn_3.score(x_test_sparse, y_test_sparse)\n",
    "print(\"La puntuación del test en tanto por 1 es de: {:.3f}\".format(score_test_knn_3))"
   ]
  },
  {
   "cell_type": "code",
   "execution_count": null,
   "metadata": {},
   "outputs": [
    {
     "name": "stdout",
     "output_type": "stream",
     "text": [
      "[[7377  409]\n",
      " [ 428 7233]]\n"
     ]
    }
   ],
   "source": [
    "df_resultados['knn3_train'] = score_train_knn_3\n",
    "df_resultados['knn3_test'] = score_test_knn_3\n",
    "print(confusion_matrix(y_test_sparse, prediccion_knn3))"
   ]
  },
  {
   "cell_type": "code",
   "execution_count": null,
   "metadata": {},
   "outputs": [],
   "source": [
    "knn_7 = KNeighborsClassifier(n_neighbors=7, weights='uniform')\n",
    "knn_7.fit(x_train_sparse, y_train_sparse)\n",
    "prediccion_knn7 = knn_7.predict(x_test_sparse)"
   ]
  },
  {
   "cell_type": "code",
   "execution_count": null,
   "metadata": {},
   "outputs": [
    {
     "name": "stdout",
     "output_type": "stream",
     "text": [
      "KNN con K = 7\n",
      "La puntuación del entrenamiento en tanto por 1 es de: 0.965\n",
      "La puntuación del test en tanto por 1 es de: 0.949\n"
     ]
    }
   ],
   "source": [
    "print(\"KNN con K = 7\")\n",
    "\n",
    "score_train_knn_7 = knn_7.score(x_train_sparse, y_train_sparse)\n",
    "print(\"La puntuación del entrenamiento en tanto por 1 es de: {:.3f}\".format(score_train_knn_7))\n",
    "\n",
    "score_test_knn_7 = knn_7.score(x_test_sparse, y_test_sparse)\n",
    "print(\"La puntuación del test en tanto por 1 es de: {:.3f}\".format(score_test_knn_7))"
   ]
  },
  {
   "cell_type": "code",
   "execution_count": null,
   "metadata": {},
   "outputs": [
    {
     "name": "stdout",
     "output_type": "stream",
     "text": [
      "[[7417  369]\n",
      " [ 413 7248]]\n"
     ]
    }
   ],
   "source": [
    "df_resultados['knn7_train'] = score_train_knn_7\n",
    "df_resultados['knn7_test'] = score_test_knn_7\n",
    "print(confusion_matrix(y_test_sparse, prediccion_knn7))"
   ]
  },
  {
   "cell_type": "markdown",
   "metadata": {},
   "source": [
    "Finalmente, voy a hacer con GridSearch una búsqueda del mejor K"
   ]
  },
  {
   "cell_type": "code",
   "execution_count": 14,
   "metadata": {},
   "outputs": [
    {
     "data": {
      "text/plain": [
       "GridSearchCV(cv=3, error_score='raise-deprecating',\n",
       "       estimator=KNeighborsClassifier(algorithm='auto', leaf_size=30, metric='minkowski',\n",
       "           metric_params=None, n_jobs=None, n_neighbors=5, p=2,\n",
       "           weights='uniform'),\n",
       "       fit_params=None, iid='warn', n_jobs=None,\n",
       "       param_grid={'n_neighbors': range(3, 10)}, pre_dispatch='2*n_jobs',\n",
       "       refit=True, return_train_score='warn', scoring='accuracy',\n",
       "       verbose=0)"
      ]
     },
     "execution_count": 14,
     "metadata": {},
     "output_type": "execute_result"
    }
   ],
   "source": [
    "knn_grid = KNeighborsClassifier()\n",
    "k_range = range(3, 10)\n",
    "parametros_grid = dict(n_neighbors=k_range)\n",
    "\n",
    "grid_knn = GridSearchCV(knn_grid, parametros_grid, cv=3, scoring='accuracy')\n",
    "\n",
    "grid_knn.fit(x_train_sparse, y_train_sparse)"
   ]
  },
  {
   "cell_type": "code",
   "execution_count": 16,
   "metadata": {},
   "outputs": [
    {
     "name": "stderr",
     "output_type": "stream",
     "text": [
      "D:\\Users\\jorge\\Anaconda3\\lib\\site-packages\\sklearn\\utils\\deprecation.py:125: FutureWarning: You are accessing a training score ('split0_train_score'), which will not be available by default any more in 0.21. If you need training scores, please set return_train_score=True\n",
      "  warnings.warn(*warn_args, **warn_kwargs)\n",
      "D:\\Users\\jorge\\Anaconda3\\lib\\site-packages\\sklearn\\utils\\deprecation.py:125: FutureWarning: You are accessing a training score ('split1_train_score'), which will not be available by default any more in 0.21. If you need training scores, please set return_train_score=True\n",
      "  warnings.warn(*warn_args, **warn_kwargs)\n",
      "D:\\Users\\jorge\\Anaconda3\\lib\\site-packages\\sklearn\\utils\\deprecation.py:125: FutureWarning: You are accessing a training score ('split2_train_score'), which will not be available by default any more in 0.21. If you need training scores, please set return_train_score=True\n",
      "  warnings.warn(*warn_args, **warn_kwargs)\n",
      "D:\\Users\\jorge\\Anaconda3\\lib\\site-packages\\sklearn\\utils\\deprecation.py:125: FutureWarning: You are accessing a training score ('mean_train_score'), which will not be available by default any more in 0.21. If you need training scores, please set return_train_score=True\n",
      "  warnings.warn(*warn_args, **warn_kwargs)\n",
      "D:\\Users\\jorge\\Anaconda3\\lib\\site-packages\\sklearn\\utils\\deprecation.py:125: FutureWarning: You are accessing a training score ('std_train_score'), which will not be available by default any more in 0.21. If you need training scores, please set return_train_score=True\n",
      "  warnings.warn(*warn_args, **warn_kwargs)\n"
     ]
    },
    {
     "data": {
      "text/plain": [
       "{'mean_fit_time': array([0.02065412, 0.01898456, 0.01932526, 0.0209868 , 0.01966914,\n",
       "        0.01965809, 0.02098854]),\n",
       " 'std_fit_time': array([4.70016266e-04, 6.57562879e-06, 4.72046148e-04, 2.15961208e-03,\n",
       "        4.68108731e-04, 4.70358829e-04, 1.41354944e-03]),\n",
       " 'mean_score_time': array([14.13528546, 14.53236977, 14.71659096, 15.87792913, 14.93379728,\n",
       "        14.87450067, 15.05140193]),\n",
       " 'std_score_time': array([0.07521686, 0.25402035, 0.15673464, 0.44688844, 0.47390882,\n",
       "        0.24355856, 0.30218583]),\n",
       " 'param_n_neighbors': masked_array(data=[3, 4, 5, 6, 7, 8, 9],\n",
       "              mask=[False, False, False, False, False, False, False],\n",
       "        fill_value='?',\n",
       "             dtype=object),\n",
       " 'params': [{'n_neighbors': 3},\n",
       "  {'n_neighbors': 4},\n",
       "  {'n_neighbors': 5},\n",
       "  {'n_neighbors': 6},\n",
       "  {'n_neighbors': 7},\n",
       "  {'n_neighbors': 8},\n",
       "  {'n_neighbors': 9}],\n",
       " 'split0_test_score': array([0.9497295 , 0.94648356, 0.95189347, 0.95014565, 0.95289222,\n",
       "        0.95172701, 0.95272576]),\n",
       " 'split1_test_score': array([0.94606293, 0.94639587, 0.94980856, 0.94747794, 0.94889296,\n",
       "        0.94814383, 0.94789412]),\n",
       " 'split2_test_score': array([0.9492259 , 0.9480606 , 0.95147328, 0.94980856, 0.9510571 ,\n",
       "        0.95039121, 0.9519727 ]),\n",
       " 'mean_test_score': array([0.94833948, 0.94698   , 0.95105846, 0.94914408, 0.95094748,\n",
       "        0.9500874 , 0.95086425]),\n",
       " 'std_test_score': array([0.00162281, 0.00076492, 0.00090029, 0.00118612, 0.00163454,\n",
       "        0.00147853, 0.00212253]),\n",
       " 'rank_test_score': array([6, 7, 1, 5, 2, 4, 3]),\n",
       " 'split0_train_score': array([0.97136674, 0.96504079, 0.96732978, 0.96350092, 0.96574829,\n",
       "        0.96171134, 0.96283503]),\n",
       " 'split1_train_score': array([0.97432269, 0.96687336, 0.96841317, 0.96437638, 0.96504224,\n",
       "        0.96275334, 0.96354405]),\n",
       " 'split2_train_score': array([0.97353198, 0.96708144, 0.96695659, 0.96379375, 0.96450123,\n",
       "        0.96175455, 0.96167131]),\n",
       " 'mean_train_score': array([0.9730738 , 0.96633186, 0.96756651, 0.96389035, 0.96509725,\n",
       "        0.96207307, 0.96268346]),\n",
       " 'std_train_score': array([0.0012495 , 0.00091687, 0.00061776, 0.00036387, 0.0005106 ,\n",
       "        0.00048134, 0.00077202])}"
      ]
     },
     "execution_count": 16,
     "metadata": {},
     "output_type": "execute_result"
    }
   ],
   "source": [
    "grid_knn.cv_results_"
   ]
  },
  {
   "cell_type": "markdown",
   "metadata": {},
   "source": [
    "El mejor resultado es de 95.1% obtenido con K = 5"
   ]
  },
  {
   "cell_type": "markdown",
   "metadata": {},
   "source": [
    "Ahora haré knn pero sin los campeones ni las spells"
   ]
  },
  {
   "cell_type": "code",
   "execution_count": 18,
   "metadata": {},
   "outputs": [
    {
     "name": "stderr",
     "output_type": "stream",
     "text": [
      "D:\\Users\\Jorge\\Anaconda3\\lib\\site-packages\\sklearn\\utils\\deprecation.py:125: FutureWarning: You are accessing a training score ('split0_train_score'), which will not be available by default any more in 0.21. If you need training scores, please set return_train_score=True\n",
      "  warnings.warn(*warn_args, **warn_kwargs)\n",
      "D:\\Users\\Jorge\\Anaconda3\\lib\\site-packages\\sklearn\\utils\\deprecation.py:125: FutureWarning: You are accessing a training score ('split1_train_score'), which will not be available by default any more in 0.21. If you need training scores, please set return_train_score=True\n",
      "  warnings.warn(*warn_args, **warn_kwargs)\n",
      "D:\\Users\\Jorge\\Anaconda3\\lib\\site-packages\\sklearn\\utils\\deprecation.py:125: FutureWarning: You are accessing a training score ('split2_train_score'), which will not be available by default any more in 0.21. If you need training scores, please set return_train_score=True\n",
      "  warnings.warn(*warn_args, **warn_kwargs)\n",
      "D:\\Users\\Jorge\\Anaconda3\\lib\\site-packages\\sklearn\\utils\\deprecation.py:125: FutureWarning: You are accessing a training score ('mean_train_score'), which will not be available by default any more in 0.21. If you need training scores, please set return_train_score=True\n",
      "  warnings.warn(*warn_args, **warn_kwargs)\n",
      "D:\\Users\\Jorge\\Anaconda3\\lib\\site-packages\\sklearn\\utils\\deprecation.py:125: FutureWarning: You are accessing a training score ('std_train_score'), which will not be available by default any more in 0.21. If you need training scores, please set return_train_score=True\n",
      "  warnings.warn(*warn_args, **warn_kwargs)\n"
     ]
    },
    {
     "data": {
      "text/plain": [
       "{'mean_fit_time': array([0.14993461, 0.15025878, 0.1479315 , 0.15159488, 0.14660939,\n",
       "        0.14759056, 0.15060703]),\n",
       " 'std_fit_time': array([0.07316248, 0.07576789, 0.07815576, 0.07696102, 0.07971722,\n",
       "        0.07785784, 0.07619654]),\n",
       " 'mean_score_time': array([0.97370664, 1.0601507 , 1.12497568, 1.18846639, 1.24366021,\n",
       "        1.32079625, 1.34570948]),\n",
       " 'std_score_time': array([0.01754959, 0.02331143, 0.02470078, 0.02708483, 0.02077227,\n",
       "        0.0057789 , 0.01233172]),\n",
       " 'param_n_neighbors': masked_array(data=[3, 4, 5, 6, 7, 8, 9],\n",
       "              mask=[False, False, False, False, False, False, False],\n",
       "        fill_value='?',\n",
       "             dtype=object),\n",
       " 'params': [{'n_neighbors': 3},\n",
       "  {'n_neighbors': 4},\n",
       "  {'n_neighbors': 5},\n",
       "  {'n_neighbors': 6},\n",
       "  {'n_neighbors': 7},\n",
       "  {'n_neighbors': 8},\n",
       "  {'n_neighbors': 9}],\n",
       " 'split0_test_score': array([0.9511444 , 0.94997919, 0.95322514, 0.95339159, 0.95472326,\n",
       "        0.95372451, 0.9553891 ]),\n",
       " 'split1_test_score': array([0.95471949, 0.95446979, 0.95438655, 0.95422008, 0.95305477,\n",
       "        0.9540536 , 0.95513568]),\n",
       " 'split2_test_score': array([0.95446979, 0.95180623, 0.95438655, 0.95280506, 0.95446979,\n",
       "        0.95422008, 0.95513568]),\n",
       " 'mean_test_score': array([0.9534445 , 0.95208501, 0.95399939, 0.95347224, 0.95408262,\n",
       "        0.95399939, 0.95522015]),\n",
       " 'std_test_score': array([0.00162967, 0.00184386, 0.0005475 , 0.00058048, 0.00073412,\n",
       "        0.00020591, 0.00011947]),\n",
       " 'rank_test_score': array([6, 7, 3, 5, 2, 3, 1]),\n",
       " 'split0_train_score': array([0.97070085, 0.96583153, 0.96633095, 0.96420842, 0.9639171 ,\n",
       "        0.9620859 , 0.96275179]),\n",
       " 'split1_train_score': array([0.97211703, 0.96812185, 0.96812185, 0.96554164, 0.96437638,\n",
       "        0.96400183, 0.96400183]),\n",
       " 'split2_train_score': array([0.971035  , 0.96629073, 0.96679013, 0.96441799, 0.96479254,\n",
       "        0.96325274, 0.96300304]),\n",
       " 'mean_train_score': array([0.97128429, 0.96674804, 0.96708098, 0.96472269, 0.96436201,\n",
       "        0.96311349, 0.96325222]),\n",
       " 'std_train_score': array([0.00060443, 0.00098936, 0.00075951, 0.00058537, 0.00035754,\n",
       "        0.00078835, 0.00053989])}"
      ]
     },
     "execution_count": 18,
     "metadata": {},
     "output_type": "execute_result"
    }
   ],
   "source": [
    "knn_grid = KNeighborsClassifier()\n",
    "k_range = range(3, 10)\n",
    "parametros_grid = dict(n_neighbors=k_range)\n",
    "\n",
    "grid_knn = GridSearchCV(knn_grid, parametros_grid, cv=3, scoring='accuracy')\n",
    "\n",
    "grid_knn.fit(x_train_nc, y_train_nc)\n",
    "\n",
    "grid_knn.cv_results_"
   ]
  },
  {
   "cell_type": "markdown",
   "metadata": {},
   "source": [
    "Como se puede ver, el mejor está con K = 8, donde se consiguen unos aciertos de hasta el 95.1%, y de media un 95%"
   ]
  },
  {
   "cell_type": "markdown",
   "metadata": {},
   "source": [
    "En cambio, sin los campeones tenemos K = 9 donde se consiguen unos aciertos de hasta 95.5% de media"
   ]
  },
  {
   "cell_type": "markdown",
   "metadata": {},
   "source": [
    "                                                                3) SVM - Support Vector Machines"
   ]
  },
  {
   "cell_type": "markdown",
   "metadata": {},
   "source": [
    "SVM, al ser un método tan pesado, hace que recurra directamente a hacerlo sin la matriz difusa, debido a los altísimos tiempos de ejecución"
   ]
  },
  {
   "cell_type": "code",
   "execution_count": 20,
   "metadata": {},
   "outputs": [],
   "source": [
    "from sklearn import svm"
   ]
  },
  {
   "cell_type": "code",
   "execution_count": 21,
   "metadata": {},
   "outputs": [
    {
     "name": "stdout",
     "output_type": "stream",
     "text": [
      "[LibSVM]"
     ]
    }
   ],
   "source": [
    "svm_classification = svm.SVC(kernel='linear', verbose = True)\n",
    "svm_classification.fit(x_train_nc, y_train_nc)\n",
    "prediccion_svm_clas = svm_classification.predict(x_test_nc)"
   ]
  },
  {
   "cell_type": "code",
   "execution_count": 22,
   "metadata": {},
   "outputs": [
    {
     "name": "stdout",
     "output_type": "stream",
     "text": [
      "Clasificación SVM\n",
      "La puntuación del entrenamiento en tanto por 1 es de: 0.961\n",
      "La puntuación del test en tanto por 1 es de: 0.959\n"
     ]
    }
   ],
   "source": [
    "print(\"Clasificación SVM\")\n",
    "\n",
    "score_train_svm_classification = svm_classification.score(x_train_nc, y_train_nc)\n",
    "print(\"La puntuación del entrenamiento en tanto por 1 es de: {:.3f}\".format(score_train_svm_classification))\n",
    "\n",
    "score_test_svm_classification = svm_classification.score(x_test_nc, y_test_nc)\n",
    "print(\"La puntuación del test en tanto por 1 es de: {:.3f}\".format(score_test_svm_classification))"
   ]
  },
  {
   "cell_type": "code",
   "execution_count": 26,
   "metadata": {},
   "outputs": [
    {
     "name": "stdout",
     "output_type": "stream",
     "text": [
      "[[7379  407]\n",
      " [ 230 7431]]\n"
     ]
    }
   ],
   "source": [
    "print(confusion_matrix(y_test_nc, prediccion_svm_clas))"
   ]
  },
  {
   "cell_type": "markdown",
   "metadata": {},
   "source": [
    "    Ahora con kernel radial (rbf)"
   ]
  },
  {
   "cell_type": "code",
   "execution_count": 27,
   "metadata": {},
   "outputs": [
    {
     "name": "stderr",
     "output_type": "stream",
     "text": [
      "D:\\Users\\Jorge\\Anaconda3\\lib\\site-packages\\sklearn\\svm\\base.py:196: FutureWarning: The default value of gamma will change from 'auto' to 'scale' in version 0.22 to account better for unscaled features. Set gamma explicitly to 'auto' or 'scale' to avoid this warning.\n",
      "  \"avoid this warning.\", FutureWarning)\n"
     ]
    }
   ],
   "source": [
    "svm_classification_rbf = svm.SVC(kernel='rbf')\n",
    "svm_classification_rbf.fit(x_train_nc, y_train_nc)\n",
    "prediccion_svm_clas_rbf = svm_classification_rbf.predict(x_test_nc)"
   ]
  },
  {
   "cell_type": "code",
   "execution_count": 28,
   "metadata": {},
   "outputs": [
    {
     "name": "stdout",
     "output_type": "stream",
     "text": [
      "Clasificación SVM con Kernel RBF\n",
      "La puntuación del entrenamiento en tanto por 1 es de: 0.974\n",
      "La puntuación del test en tanto por 1 es de: 0.970\n"
     ]
    }
   ],
   "source": [
    "print(\"Clasificación SVM con Kernel RBF\")\n",
    "\n",
    "score_train_svm_classification_rbf = svm_classification_rbf.score(x_train_nc, y_train_nc)\n",
    "print(\"La puntuación del entrenamiento en tanto por 1 es de: {:.3f}\".format(score_train_svm_classification_rbf))\n",
    "\n",
    "score_test_svm_classification_rbf = svm_classification_rbf.score(x_test_nc, y_test_nc)\n",
    "print(\"La puntuación del test en tanto por 1 es de: {:.3f}\".format(score_test_svm_classification_rbf))"
   ]
  },
  {
   "cell_type": "code",
   "execution_count": 29,
   "metadata": {},
   "outputs": [
    {
     "name": "stdout",
     "output_type": "stream",
     "text": [
      "[[7596  190]\n",
      " [ 273 7388]]\n"
     ]
    }
   ],
   "source": [
    "df_resultados['svm_clas_rbf_train'] = score_train_svm_classification_rbf\n",
    "df_resultados['svm_clas_rbf_test'] = score_test_svm_classification_rbf\n",
    "print(confusion_matrix(y_test_nc, prediccion_svm_clas_rbf))"
   ]
  },
  {
   "cell_type": "markdown",
   "metadata": {},
   "source": [
    "    Finalmente con Kernel Polinómico"
   ]
  },
  {
   "cell_type": "code",
   "execution_count": 30,
   "metadata": {},
   "outputs": [
    {
     "name": "stderr",
     "output_type": "stream",
     "text": [
      "D:\\Users\\Jorge\\Anaconda3\\lib\\site-packages\\sklearn\\svm\\base.py:196: FutureWarning: The default value of gamma will change from 'auto' to 'scale' in version 0.22 to account better for unscaled features. Set gamma explicitly to 'auto' or 'scale' to avoid this warning.\n",
      "  \"avoid this warning.\", FutureWarning)\n"
     ]
    }
   ],
   "source": [
    "svm_classification_poly = svm.SVC(kernel='poly', degree=3)\n",
    "svm_classification_poly.fit(x_train_nc, y_train_nc)\n",
    "prediccion_svm_clas_poly = svm_classification_poly.predict(x_test_nc)"
   ]
  },
  {
   "cell_type": "code",
   "execution_count": 31,
   "metadata": {},
   "outputs": [
    {
     "name": "stdout",
     "output_type": "stream",
     "text": [
      "Clasificación SVM con Kernel Polinómico de Grado 3\n",
      "La puntuación del entrenamiento en tanto por 1 es de: 0.971\n",
      "La puntuación del test en tanto por 1 es de: 0.968\n"
     ]
    }
   ],
   "source": [
    "print(\"Clasificación SVM con Kernel Polinómico de Grado 3\")\n",
    "\n",
    "score_train_svm_classification_poly = svm_classification_poly.score(x_train_nc, y_train_nc)\n",
    "print(\"La puntuación del entrenamiento en tanto por 1 es de: {:.3f}\".format(score_train_svm_classification_poly))\n",
    "\n",
    "score_test_svm_classification_poly = svm_classification_poly.score(x_test_nc, y_test_nc)\n",
    "print(\"La puntuación del test en tanto por 1 es de: {:.3f}\".format(score_test_svm_classification_poly))"
   ]
  },
  {
   "cell_type": "code",
   "execution_count": 32,
   "metadata": {},
   "outputs": [
    {
     "name": "stdout",
     "output_type": "stream",
     "text": [
      "[[7568  218]\n",
      " [ 280 7381]]\n"
     ]
    }
   ],
   "source": [
    "print(confusion_matrix(y_test_nc, prediccion_svm_clas_poly))"
   ]
  },
  {
   "cell_type": "markdown",
   "metadata": {},
   "source": [
    "Ahora con Malla para ver cuales son los mejores parámetros (o lineal o RBF)"
   ]
  },
  {
   "cell_type": "code",
   "execution_count": 37,
   "metadata": {},
   "outputs": [
    {
     "data": {
      "text/plain": [
       "GridSearchCV(cv=3, error_score='raise-deprecating',\n",
       "       estimator=SVC(C=1.0, cache_size=200, class_weight=None, coef0=0.0,\n",
       "  decision_function_shape='ovr', degree=3, gamma='scale', kernel='rbf',\n",
       "  max_iter=-1, probability=False, random_state=None, shrinking=True,\n",
       "  tol=0.001, verbose=False),\n",
       "       fit_params=None, iid='warn', n_jobs=None,\n",
       "       param_grid={'kernel': ('linear', 'rbf', 'poly'), 'C': range(1, 5), 'degree': range(2, 4)},\n",
       "       pre_dispatch='2*n_jobs', refit=True, return_train_score='warn',\n",
       "       scoring=None, verbose=0)"
      ]
     },
     "execution_count": 37,
     "metadata": {},
     "output_type": "execute_result"
    }
   ],
   "source": [
    "parametros = {\n",
    "    'kernel':('linear', 'rbf', 'poly'),\n",
    "    'C': range(1, 5),\n",
    "    'degree': range(2, 4)\n",
    "}\n",
    "\n",
    "svc_grid = svm.SVC(gamma=\"scale\")\n",
    "svc_grid = GridSearchCV(svc_grid, parametros, cv=3)\n",
    "svc_grid.fit(x_train_nc, y_train_nc)"
   ]
  },
  {
   "cell_type": "code",
   "execution_count": 38,
   "metadata": {},
   "outputs": [
    {
     "data": {
      "text/plain": [
       "SVC(C=2, cache_size=200, class_weight=None, coef0=0.0,\n",
       "  decision_function_shape='ovr', degree=2, gamma='scale', kernel='rbf',\n",
       "  max_iter=-1, probability=False, random_state=None, shrinking=True,\n",
       "  tol=0.001, verbose=False)"
      ]
     },
     "execution_count": 38,
     "metadata": {},
     "output_type": "execute_result"
    }
   ],
   "source": [
    "prediccion_svm_grid = svc_grid.predict(x_test_nc)\n",
    "\n",
    "svc_grid.best_estimator_"
   ]
  },
  {
   "cell_type": "code",
   "execution_count": 44,
   "metadata": {},
   "outputs": [
    {
     "name": "stdout",
     "output_type": "stream",
     "text": [
      "Clasificación SVM con Grid - Sin campeones ni spells\n",
      "La puntuación del entrenamiento en tanto por 1 es de: 0.976\n",
      "La puntuación del test en tanto por 1 es de: 0.970\n"
     ]
    }
   ],
   "source": [
    "print(\"Clasificación SVM con Grid - Sin campeones ni spells\")\n",
    "\n",
    "score_train_svm_grid = svc_grid.score(x_train_nc, y_train_nc)\n",
    "print(\"La puntuación del entrenamiento en tanto por 1 es de: {:.3f}\".format(score_train_svm_grid))\n",
    "\n",
    "score_test_svm_grid = svc_grid.score(x_test_nc, y_test_nc)\n",
    "print(\"La puntuación del test en tanto por 1 es de: {:.3f}\".format(score_test_svm_grid))"
   ]
  },
  {
   "cell_type": "markdown",
   "metadata": {},
   "source": [
    "                                                     4) Árbol de decisión"
   ]
  },
  {
   "cell_type": "code",
   "execution_count": 41,
   "metadata": {},
   "outputs": [],
   "source": [
    "from sklearn import tree"
   ]
  },
  {
   "cell_type": "markdown",
   "metadata": {},
   "source": [
    "                Sin Cross Validation"
   ]
  },
  {
   "cell_type": "code",
   "execution_count": 15,
   "metadata": {},
   "outputs": [],
   "source": [
    "tree_alg = tree.DecisionTreeClassifier()\n",
    "tree_model = tree_alg.fit(x_train, y_train)"
   ]
  },
  {
   "cell_type": "code",
   "execution_count": 16,
   "metadata": {},
   "outputs": [],
   "source": [
    "prediccion_tree = tree_model.predict(x_test)"
   ]
  },
  {
   "cell_type": "code",
   "execution_count": 18,
   "metadata": {},
   "outputs": [
    {
     "name": "stdout",
     "output_type": "stream",
     "text": [
      "Clasificación Tree sin CV\n",
      "La puntuación del entrenamiento en tanto por 1 es de: 1.000\n",
      "La puntuación del test en tanto por 1 es de: 0.843\n"
     ]
    }
   ],
   "source": [
    "print(\"Clasificación Tree sin CV\")\n",
    "\n",
    "score_train_tree_classification = tree_model.score(x_train, y_train)\n",
    "print(\"La puntuación del entrenamiento en tanto por 1 es de: {:.3f}\".format(score_train_tree_classification))\n",
    "\n",
    "score_test_tree_classification = tree_model.score(x_test, y_test)\n",
    "print(\"La puntuación del test en tanto por 1 es de: {:.3f}\".format(score_test_tree_classification))"
   ]
  },
  {
   "cell_type": "markdown",
   "metadata": {},
   "source": [
    "                Con Cross Validation"
   ]
  },
  {
   "cell_type": "code",
   "execution_count": 25,
   "metadata": {},
   "outputs": [
    {
     "data": {
      "text/plain": [
       "[0.9654368932038835,\n",
       " 0.9638834951456311,\n",
       " 0.9636752136752137,\n",
       " 0.9632938434647504,\n",
       " 0.9632867132867133,\n",
       " 0.9630924630924631,\n",
       " 0.9615459312487862,\n",
       " 0.9613517187803456,\n",
       " 0.9588349514563107,\n",
       " 0.9564964070693338]"
      ]
     },
     "execution_count": 25,
     "metadata": {},
     "output_type": "execute_result"
    }
   ],
   "source": [
    "from sklearn.model_selection import cross_val_score\n",
    "tree_cv = tree.DecisionTreeClassifier(random_state=97)\n",
    "sorted(cross_val_score(tree_cv, games_ml, games.winner, cv=10), reverse=True)"
   ]
  },
  {
   "cell_type": "markdown",
   "metadata": {},
   "source": [
    "Como se puede ver:\n",
    "    \n",
    "Sin CV se ha obtenido un overfitting que ha hecho que la puntuación de test baje hasta 84%\n",
    "\n",
    "Con CV se obtiene hasta un 96.5% de exactitud"
   ]
  },
  {
   "cell_type": "markdown",
   "metadata": {},
   "source": [
    "Ahora sin los campeones"
   ]
  },
  {
   "cell_type": "code",
   "execution_count": 42,
   "metadata": {},
   "outputs": [
    {
     "data": {
      "text/plain": [
       "[0.9663947163947164,\n",
       " 0.9658119658119658,\n",
       " 0.9632867132867133,\n",
       " 0.9625169935909885,\n",
       " 0.9623227811225481,\n",
       " 0.9621285686541076,\n",
       " 0.9619417475728156,\n",
       " 0.9596116504854368,\n",
       " 0.9596116504854368,\n",
       " 0.955719557195572]"
      ]
     },
     "execution_count": 42,
     "metadata": {},
     "output_type": "execute_result"
    }
   ],
   "source": [
    "from sklearn.model_selection import cross_val_score\n",
    "\n",
    "tree_cv = tree.DecisionTreeClassifier(random_state=97)\n",
    "sorted(cross_val_score(tree_cv, games_ml_nc, games.winner, cv=10), reverse=True)"
   ]
  },
  {
   "cell_type": "markdown",
   "metadata": {},
   "source": [
    "Sin los campeones se obtiene hasta un 96.6% de exactitud"
   ]
  },
  {
   "cell_type": "markdown",
   "metadata": {},
   "source": [
    "                                                   5) Random Forest"
   ]
  },
  {
   "cell_type": "code",
   "execution_count": 14,
   "metadata": {},
   "outputs": [],
   "source": [
    "from sklearn.ensemble import RandomForestClassifier"
   ]
  },
  {
   "cell_type": "code",
   "execution_count": 32,
   "metadata": {},
   "outputs": [
    {
     "name": "stdout",
     "output_type": "stream",
     "text": [
      "[0.10705208 0.02685478 0.00135981 ... 0.00013135 0.00021605 0.00020362]\n"
     ]
    }
   ],
   "source": [
    "randomForest = RandomForestClassifier(n_estimators=1000, max_depth=3, random_state=97)\n",
    "randomForest_model = randomForest.fit(x_train, y_train)\n",
    "\n",
    "print(randomForest_model.feature_importances_)"
   ]
  },
  {
   "cell_type": "code",
   "execution_count": 33,
   "metadata": {},
   "outputs": [],
   "source": [
    "prediccion_randomForest = randomForest_model.predict(x_test)"
   ]
  },
  {
   "cell_type": "code",
   "execution_count": 34,
   "metadata": {},
   "outputs": [
    {
     "name": "stdout",
     "output_type": "stream",
     "text": [
      "Clasificación Random Forest\n",
      "La puntuación del entrenamiento en tanto por 1 es de: 0.897\n",
      "La puntuación del test en tanto por 1 es de: 0.886\n"
     ]
    }
   ],
   "source": [
    "print(\"Clasificación Random Forest\")\n",
    "\n",
    "score_train_rf_classification = randomForest_model.score(x_train, y_train)\n",
    "print(\"La puntuación del entrenamiento en tanto por 1 es de: {:.3f}\".format(score_train_rf_classification))\n",
    "\n",
    "score_test_rf_classification = randomForest_model.score(x_test, y_test)\n",
    "print(\"La puntuación del test en tanto por 1 es de: {:.3f}\".format(score_test_rf_classification))"
   ]
  },
  {
   "cell_type": "markdown",
   "metadata": {},
   "source": [
    "Aumentemos la profundidad de los árboles. Esto puede dar lugar a overfitting, pero hay margen todavía"
   ]
  },
  {
   "cell_type": "code",
   "execution_count": 35,
   "metadata": {},
   "outputs": [
    {
     "name": "stdout",
     "output_type": "stream",
     "text": [
      "[2.40818655e-01 1.80825709e-02 7.51341570e-04 ... 5.31014883e-05\n",
      " 3.14990556e-04 1.06526721e-04]\n"
     ]
    }
   ],
   "source": [
    "randomForest = RandomForestClassifier(n_estimators=1000, max_depth=5, random_state=97)\n",
    "randomForest_model = randomForest.fit(x_train, y_train)\n",
    "\n",
    "print(randomForest_model.feature_importances_)"
   ]
  },
  {
   "cell_type": "code",
   "execution_count": 36,
   "metadata": {},
   "outputs": [],
   "source": [
    "prediccion_randomForest = randomForest_model.predict(x_test)"
   ]
  },
  {
   "cell_type": "code",
   "execution_count": 37,
   "metadata": {},
   "outputs": [
    {
     "name": "stdout",
     "output_type": "stream",
     "text": [
      "Clasificación Random Forest Mayor Profundidad\n",
      "La puntuación del entrenamiento en tanto por 1 es de: 0.900\n",
      "La puntuación del test en tanto por 1 es de: 0.887\n"
     ]
    }
   ],
   "source": [
    "print(\"Clasificación Random Forest Mayor Profundidad\")\n",
    "\n",
    "score_train_rf_classification = randomForest_model.score(x_train, y_train)\n",
    "print(\"La puntuación del entrenamiento en tanto por 1 es de: {:.3f}\".format(score_train_rf_classification))\n",
    "\n",
    "score_test_rf_classification = randomForest_model.score(x_test, y_test)\n",
    "print(\"La puntuación del test en tanto por 1 es de: {:.3f}\".format(score_test_rf_classification))"
   ]
  },
  {
   "cell_type": "markdown",
   "metadata": {},
   "source": [
    "Para asegurarse de que se coge la mejor opción, se puede hacer una búsqueda a través de una malla para obtener los mejores valores, y entonces aplicarlos al algoritmo"
   ]
  },
  {
   "cell_type": "code",
   "execution_count": 14,
   "metadata": {},
   "outputs": [],
   "source": [
    "randomForest_grid = RandomForestClassifier(random_state=97)\n",
    "\n",
    "grid = { \n",
    "    'n_estimators': [2000, 2500],\n",
    "    'max_features': ['auto', 'sqrt'],\n",
    "    'max_depth' : [7,8,9,10],\n",
    "    'criterion' :['gini', 'entropy']\n",
    "}\n",
    "\n",
    "#CV por defecto de 3\n",
    "randomForest = GridSearchCV(estimator=randomForest_grid, param_grid=grid)"
   ]
  },
  {
   "cell_type": "code",
   "execution_count": 15,
   "metadata": {},
   "outputs": [
    {
     "name": "stderr",
     "output_type": "stream",
     "text": [
      "D:\\Users\\jorge\\Anaconda3\\lib\\site-packages\\sklearn\\model_selection\\_split.py:2053: FutureWarning: You should specify a value for 'cv' instead of relying on the default value. The default value will change from 3 to 5 in version 0.22.\n",
      "  warnings.warn(CV_WARNING, FutureWarning)\n"
     ]
    },
    {
     "data": {
      "text/plain": [
       "{'criterion': 'gini',\n",
       " 'max_depth': 10,\n",
       " 'max_features': 'auto',\n",
       " 'n_estimators': 2500}"
      ]
     },
     "execution_count": 15,
     "metadata": {},
     "output_type": "execute_result"
    }
   ],
   "source": [
    "randomForest.fit(x_train_sparse, y_train_sparse)\n",
    "\n",
    "randomForest.best_params_"
   ]
  },
  {
   "cell_type": "code",
   "execution_count": 16,
   "metadata": {},
   "outputs": [
    {
     "name": "stdout",
     "output_type": "stream",
     "text": [
      "Clasificación Random Forest Grid CV 3\n",
      "La puntuación del entrenamiento en tanto por 1 es de: 0.944\n",
      "La puntuación del test en tanto por 1 es de: 0.937\n"
     ]
    },
    {
     "name": "stderr",
     "output_type": "stream",
     "text": [
      "D:\\Users\\jorge\\Anaconda3\\lib\\site-packages\\sklearn\\utils\\deprecation.py:125: FutureWarning: You are accessing a training score ('split0_train_score'), which will not be available by default any more in 0.21. If you need training scores, please set return_train_score=True\n",
      "  warnings.warn(*warn_args, **warn_kwargs)\n",
      "D:\\Users\\jorge\\Anaconda3\\lib\\site-packages\\sklearn\\utils\\deprecation.py:125: FutureWarning: You are accessing a training score ('split1_train_score'), which will not be available by default any more in 0.21. If you need training scores, please set return_train_score=True\n",
      "  warnings.warn(*warn_args, **warn_kwargs)\n",
      "D:\\Users\\jorge\\Anaconda3\\lib\\site-packages\\sklearn\\utils\\deprecation.py:125: FutureWarning: You are accessing a training score ('split2_train_score'), which will not be available by default any more in 0.21. If you need training scores, please set return_train_score=True\n",
      "  warnings.warn(*warn_args, **warn_kwargs)\n",
      "D:\\Users\\jorge\\Anaconda3\\lib\\site-packages\\sklearn\\utils\\deprecation.py:125: FutureWarning: You are accessing a training score ('mean_train_score'), which will not be available by default any more in 0.21. If you need training scores, please set return_train_score=True\n",
      "  warnings.warn(*warn_args, **warn_kwargs)\n",
      "D:\\Users\\jorge\\Anaconda3\\lib\\site-packages\\sklearn\\utils\\deprecation.py:125: FutureWarning: You are accessing a training score ('std_train_score'), which will not be available by default any more in 0.21. If you need training scores, please set return_train_score=True\n",
      "  warnings.warn(*warn_args, **warn_kwargs)\n"
     ]
    },
    {
     "data": {
      "text/plain": [
       "{'mean_fit_time': array([13.46597401, 16.62716913, 13.56192072, 16.68047277, 16.13811501,\n",
       "        20.18316452, 16.22740102, 20.2044584 , 19.30630445, 23.98796399,\n",
       "        19.36161192, 23.9999605 , 22.83528813, 28.48206425, 22.82363002,\n",
       "        28.34082103, 13.47263583, 16.75709128, 13.46464157, 16.73444017,\n",
       "        16.18408823, 20.03689615, 16.2428685 , 20.17414252, 19.25166599,\n",
       "        24.01727684, 19.23967298, 23.98396905, 22.67805346, 28.33248814,\n",
       "        22.72070217, 28.23386312]),\n",
       " 'std_fit_time': array([0.18627821, 0.3514176 , 0.3421116 , 0.37910962, 0.25923039,\n",
       "        0.43771108, 0.36347484, 0.26932085, 0.36051934, 0.33371684,\n",
       "        0.34919615, 0.38404307, 0.21648717, 0.30588337, 0.45977704,\n",
       "        0.44393693, 0.18358662, 0.29355298, 0.30414542, 0.27312208,\n",
       "        0.3215699 , 0.34823741, 0.27518928, 0.36701549, 0.28277839,\n",
       "        0.47369124, 0.31238269, 0.3127709 , 0.25307887, 0.34178722,\n",
       "        0.1919976 , 0.3559623 ]),\n",
       " 'mean_score_time': array([2.69612622, 3.28812496, 2.64616172, 3.37307493, 2.82971398,\n",
       "        3.42737977, 2.7137835 , 3.38006949, 2.79374186, 3.48700857,\n",
       "        2.80706668, 3.45635907, 2.84571234, 3.62793501, 2.9209977 ,\n",
       "        3.65390881, 2.68946926, 3.41438643, 2.7251099 , 3.37540181,\n",
       "        2.73643327, 3.41038338, 2.77274585, 3.44103408, 2.79773577,\n",
       "        3.50100088, 2.82372006, 3.5179925 , 2.91733344, 3.65757704,\n",
       "        2.90100177, 3.61894035]),\n",
       " 'std_score_time': array([0.03060183, 0.04099457, 0.0118875 , 0.02639834, 0.07115587,\n",
       "        0.03398177, 0.02888697, 0.0253752 , 0.02287766, 0.0139205 ,\n",
       "        0.04091427, 0.03435284, 0.01032858, 0.03642472, 0.08430413,\n",
       "        0.0661532 , 0.02529204, 0.06612514, 0.01928253, 0.02359809,\n",
       "        0.03731926, 0.0365248 , 0.0506288 , 0.01066284, 0.0221435 ,\n",
       "        0.03724389, 0.01306422, 0.01881601, 0.00588453, 0.0540806 ,\n",
       "        0.02421712, 0.05482405]),\n",
       " 'param_criterion': masked_array(data=['gini', 'gini', 'gini', 'gini', 'gini', 'gini', 'gini',\n",
       "                    'gini', 'gini', 'gini', 'gini', 'gini', 'gini', 'gini',\n",
       "                    'gini', 'gini', 'entropy', 'entropy', 'entropy',\n",
       "                    'entropy', 'entropy', 'entropy', 'entropy', 'entropy',\n",
       "                    'entropy', 'entropy', 'entropy', 'entropy', 'entropy',\n",
       "                    'entropy', 'entropy', 'entropy'],\n",
       "              mask=[False, False, False, False, False, False, False, False,\n",
       "                    False, False, False, False, False, False, False, False,\n",
       "                    False, False, False, False, False, False, False, False,\n",
       "                    False, False, False, False, False, False, False, False],\n",
       "        fill_value='?',\n",
       "             dtype=object),\n",
       " 'param_max_depth': masked_array(data=[7, 7, 7, 7, 8, 8, 8, 8, 9, 9, 9, 9, 10, 10, 10, 10, 7,\n",
       "                    7, 7, 7, 8, 8, 8, 8, 9, 9, 9, 9, 10, 10, 10, 10],\n",
       "              mask=[False, False, False, False, False, False, False, False,\n",
       "                    False, False, False, False, False, False, False, False,\n",
       "                    False, False, False, False, False, False, False, False,\n",
       "                    False, False, False, False, False, False, False, False],\n",
       "        fill_value='?',\n",
       "             dtype=object),\n",
       " 'param_max_features': masked_array(data=['auto', 'auto', 'sqrt', 'sqrt', 'auto', 'auto', 'sqrt',\n",
       "                    'sqrt', 'auto', 'auto', 'sqrt', 'sqrt', 'auto', 'auto',\n",
       "                    'sqrt', 'sqrt', 'auto', 'auto', 'sqrt', 'sqrt', 'auto',\n",
       "                    'auto', 'sqrt', 'sqrt', 'auto', 'auto', 'sqrt', 'sqrt',\n",
       "                    'auto', 'auto', 'sqrt', 'sqrt'],\n",
       "              mask=[False, False, False, False, False, False, False, False,\n",
       "                    False, False, False, False, False, False, False, False,\n",
       "                    False, False, False, False, False, False, False, False,\n",
       "                    False, False, False, False, False, False, False, False],\n",
       "        fill_value='?',\n",
       "             dtype=object),\n",
       " 'param_n_estimators': masked_array(data=[2000, 2500, 2000, 2500, 2000, 2500, 2000, 2500, 2000,\n",
       "                    2500, 2000, 2500, 2000, 2500, 2000, 2500, 2000, 2500,\n",
       "                    2000, 2500, 2000, 2500, 2000, 2500, 2000, 2500, 2000,\n",
       "                    2500, 2000, 2500, 2000, 2500],\n",
       "              mask=[False, False, False, False, False, False, False, False,\n",
       "                    False, False, False, False, False, False, False, False,\n",
       "                    False, False, False, False, False, False, False, False,\n",
       "                    False, False, False, False, False, False, False, False],\n",
       "        fill_value='?',\n",
       "             dtype=object),\n",
       " 'params': [{'criterion': 'gini',\n",
       "   'max_depth': 7,\n",
       "   'max_features': 'auto',\n",
       "   'n_estimators': 2000},\n",
       "  {'criterion': 'gini',\n",
       "   'max_depth': 7,\n",
       "   'max_features': 'auto',\n",
       "   'n_estimators': 2500},\n",
       "  {'criterion': 'gini',\n",
       "   'max_depth': 7,\n",
       "   'max_features': 'sqrt',\n",
       "   'n_estimators': 2000},\n",
       "  {'criterion': 'gini',\n",
       "   'max_depth': 7,\n",
       "   'max_features': 'sqrt',\n",
       "   'n_estimators': 2500},\n",
       "  {'criterion': 'gini',\n",
       "   'max_depth': 8,\n",
       "   'max_features': 'auto',\n",
       "   'n_estimators': 2000},\n",
       "  {'criterion': 'gini',\n",
       "   'max_depth': 8,\n",
       "   'max_features': 'auto',\n",
       "   'n_estimators': 2500},\n",
       "  {'criterion': 'gini',\n",
       "   'max_depth': 8,\n",
       "   'max_features': 'sqrt',\n",
       "   'n_estimators': 2000},\n",
       "  {'criterion': 'gini',\n",
       "   'max_depth': 8,\n",
       "   'max_features': 'sqrt',\n",
       "   'n_estimators': 2500},\n",
       "  {'criterion': 'gini',\n",
       "   'max_depth': 9,\n",
       "   'max_features': 'auto',\n",
       "   'n_estimators': 2000},\n",
       "  {'criterion': 'gini',\n",
       "   'max_depth': 9,\n",
       "   'max_features': 'auto',\n",
       "   'n_estimators': 2500},\n",
       "  {'criterion': 'gini',\n",
       "   'max_depth': 9,\n",
       "   'max_features': 'sqrt',\n",
       "   'n_estimators': 2000},\n",
       "  {'criterion': 'gini',\n",
       "   'max_depth': 9,\n",
       "   'max_features': 'sqrt',\n",
       "   'n_estimators': 2500},\n",
       "  {'criterion': 'gini',\n",
       "   'max_depth': 10,\n",
       "   'max_features': 'auto',\n",
       "   'n_estimators': 2000},\n",
       "  {'criterion': 'gini',\n",
       "   'max_depth': 10,\n",
       "   'max_features': 'auto',\n",
       "   'n_estimators': 2500},\n",
       "  {'criterion': 'gini',\n",
       "   'max_depth': 10,\n",
       "   'max_features': 'sqrt',\n",
       "   'n_estimators': 2000},\n",
       "  {'criterion': 'gini',\n",
       "   'max_depth': 10,\n",
       "   'max_features': 'sqrt',\n",
       "   'n_estimators': 2500},\n",
       "  {'criterion': 'entropy',\n",
       "   'max_depth': 7,\n",
       "   'max_features': 'auto',\n",
       "   'n_estimators': 2000},\n",
       "  {'criterion': 'entropy',\n",
       "   'max_depth': 7,\n",
       "   'max_features': 'auto',\n",
       "   'n_estimators': 2500},\n",
       "  {'criterion': 'entropy',\n",
       "   'max_depth': 7,\n",
       "   'max_features': 'sqrt',\n",
       "   'n_estimators': 2000},\n",
       "  {'criterion': 'entropy',\n",
       "   'max_depth': 7,\n",
       "   'max_features': 'sqrt',\n",
       "   'n_estimators': 2500},\n",
       "  {'criterion': 'entropy',\n",
       "   'max_depth': 8,\n",
       "   'max_features': 'auto',\n",
       "   'n_estimators': 2000},\n",
       "  {'criterion': 'entropy',\n",
       "   'max_depth': 8,\n",
       "   'max_features': 'auto',\n",
       "   'n_estimators': 2500},\n",
       "  {'criterion': 'entropy',\n",
       "   'max_depth': 8,\n",
       "   'max_features': 'sqrt',\n",
       "   'n_estimators': 2000},\n",
       "  {'criterion': 'entropy',\n",
       "   'max_depth': 8,\n",
       "   'max_features': 'sqrt',\n",
       "   'n_estimators': 2500},\n",
       "  {'criterion': 'entropy',\n",
       "   'max_depth': 9,\n",
       "   'max_features': 'auto',\n",
       "   'n_estimators': 2000},\n",
       "  {'criterion': 'entropy',\n",
       "   'max_depth': 9,\n",
       "   'max_features': 'auto',\n",
       "   'n_estimators': 2500},\n",
       "  {'criterion': 'entropy',\n",
       "   'max_depth': 9,\n",
       "   'max_features': 'sqrt',\n",
       "   'n_estimators': 2000},\n",
       "  {'criterion': 'entropy',\n",
       "   'max_depth': 9,\n",
       "   'max_features': 'sqrt',\n",
       "   'n_estimators': 2500},\n",
       "  {'criterion': 'entropy',\n",
       "   'max_depth': 10,\n",
       "   'max_features': 'auto',\n",
       "   'n_estimators': 2000},\n",
       "  {'criterion': 'entropy',\n",
       "   'max_depth': 10,\n",
       "   'max_features': 'auto',\n",
       "   'n_estimators': 2500},\n",
       "  {'criterion': 'entropy',\n",
       "   'max_depth': 10,\n",
       "   'max_features': 'sqrt',\n",
       "   'n_estimators': 2000},\n",
       "  {'criterion': 'entropy',\n",
       "   'max_depth': 10,\n",
       "   'max_features': 'sqrt',\n",
       "   'n_estimators': 2500}],\n",
       " 'split0_test_score': array([0.93216812, 0.93208489, 0.93216812, 0.93208489, 0.9340824 ,\n",
       "        0.93366625, 0.9340824 , 0.93366625, 0.93624636, 0.93649605,\n",
       "        0.93624636, 0.93649605, 0.93674573, 0.93649605, 0.93674573,\n",
       "        0.93649605, 0.93216812, 0.93258427, 0.93216812, 0.93258427,\n",
       "        0.93300042, 0.93366625, 0.93300042, 0.93366625, 0.93524761,\n",
       "        0.9354973 , 0.93524761, 0.9354973 , 0.93724511, 0.93724511,\n",
       "        0.93724511, 0.93724511]),\n",
       " 'split1_test_score': array([0.93008157, 0.93041452, 0.93008157, 0.93041452, 0.9308307 ,\n",
       "        0.93141335, 0.9308307 , 0.93141335, 0.93249542, 0.93324455,\n",
       "        0.93249542, 0.93324455, 0.93574163, 0.93582487, 0.93574163,\n",
       "        0.93582487, 0.93016481, 0.93066423, 0.93016481, 0.93066423,\n",
       "        0.93041452, 0.93066423, 0.93041452, 0.93066423, 0.93166306,\n",
       "        0.93182953, 0.93166306, 0.93182953, 0.93282837, 0.93324455,\n",
       "        0.93282837, 0.93324455]),\n",
       " 'split2_test_score': array([0.93582487, 0.93590811, 0.93582487, 0.93590811, 0.93790578,\n",
       "        0.9377393 , 0.93790578, 0.9377393 , 0.93940403, 0.9395705 ,\n",
       "        0.93940403, 0.9395705 , 0.94065257, 0.94131846, 0.94065257,\n",
       "        0.94131846, 0.93499251, 0.93499251, 0.93499251, 0.93499251,\n",
       "        0.93557516, 0.93582487, 0.93557516, 0.93582487, 0.93882138,\n",
       "        0.93932079, 0.93882138, 0.93932079, 0.94073581, 0.94056934,\n",
       "        0.94073581, 0.94056934]),\n",
       " 'mean_test_score': array([0.93269151, 0.93280249, 0.93269151, 0.93280249, 0.93427295,\n",
       "        0.93427295, 0.93427295, 0.93427295, 0.93604861, 0.93643703,\n",
       "        0.93604861, 0.93643703, 0.93771329, 0.93787975, 0.93771329,\n",
       "        0.93787975, 0.93244181, 0.932747  , 0.93244181, 0.932747  ,\n",
       "        0.9329967 , 0.93338512, 0.9329967 , 0.93338512, 0.93524401,\n",
       "        0.93554921, 0.93524401, 0.93554921, 0.93693644, 0.93701967,\n",
       "        0.93693644, 0.93701967]),\n",
       " 'std_test_score': array([0.00237369, 0.00229941, 0.00237369, 0.00229941, 0.00289149,\n",
       "        0.00261792, 0.00289149, 0.00261792, 0.00282385, 0.00258286,\n",
       "        0.00282385, 0.00258286, 0.00211839, 0.00244687, 0.00211839,\n",
       "        0.00244687, 0.00198035, 0.00177073, 0.00198035, 0.00177073,\n",
       "        0.0021068 , 0.00211615, 0.0021068 , 0.00211615, 0.00292233,\n",
       "        0.00305847, 0.00292233, 0.00305847, 0.00323553, 0.00299454,\n",
       "        0.00323553, 0.00299454]),\n",
       " 'rank_test_score': array([29, 25, 29, 25, 17, 17, 17, 17, 11,  9, 11,  9,  3,  1,  3,  1, 31,\n",
       "        27, 31, 27, 23, 21, 23, 21, 15, 13, 15, 13,  7,  5,  7,  5]),\n",
       " 'split0_train_score': array([0.93524222, 0.93549193, 0.93524222, 0.93549193, 0.9381971 ,\n",
       "        0.93853005, 0.9381971 , 0.93853005, 0.94190112, 0.94181788,\n",
       "        0.94190112, 0.94181788, 0.94427335, 0.94402364, 0.94427335,\n",
       "        0.94402364, 0.93594973, 0.93574163, 0.93594973, 0.93574163,\n",
       "        0.93707341, 0.93744798, 0.93707341, 0.93744798, 0.93994506,\n",
       "        0.93998668, 0.93994506, 0.93998668, 0.94319128, 0.94294157,\n",
       "        0.94319128, 0.94294157]),\n",
       " 'split1_train_score': array([0.93711765, 0.93728412, 0.93711765, 0.93728412, 0.93899039,\n",
       "        0.9397811 , 0.93899039, 0.9397811 , 0.94281909, 0.94286071,\n",
       "        0.94281909, 0.94286071, 0.94623164, 0.94643972, 0.94623164,\n",
       "        0.94643972, 0.93657664, 0.93686795, 0.93657664, 0.93686795,\n",
       "        0.93915685, 0.93844937, 0.93915685, 0.93844937, 0.94115444,\n",
       "        0.94123767, 0.94115444, 0.94123767, 0.94469183, 0.94502476,\n",
       "        0.94469183, 0.94502476]),\n",
       " 'split2_train_score': array([0.93366349, 0.93399642, 0.93366349, 0.93399642, 0.93782513,\n",
       "        0.93828291, 0.93782513, 0.93828291, 0.94086312, 0.94165383,\n",
       "        0.94086312, 0.94165383, 0.9436098 , 0.94444213, 0.9436098 ,\n",
       "        0.94444213, 0.93328894, 0.93303924, 0.93328894, 0.93303924,\n",
       "        0.93545299, 0.93591077, 0.93545299, 0.93591077, 0.94028049,\n",
       "        0.94044696, 0.94028049, 0.94044696, 0.94348496, 0.94394274,\n",
       "        0.94348496, 0.94394274]),\n",
       " 'mean_train_score': array([0.93534112, 0.93559082, 0.93534112, 0.93559082, 0.93833754,\n",
       "        0.93886468, 0.93833754, 0.93886468, 0.94186111, 0.94211081,\n",
       "        0.94186111, 0.94211081, 0.94470493, 0.9449685 , 0.94470493,\n",
       "        0.9449685 , 0.93527177, 0.93521628, 0.93527177, 0.93521628,\n",
       "        0.93722775, 0.93726938, 0.93722775, 0.93726938, 0.94046   ,\n",
       "        0.9405571 , 0.94046   , 0.9405571 , 0.94378935, 0.94396969,\n",
       "        0.94378935, 0.94396969]),\n",
       " 'std_train_score': array([0.00141189, 0.00134402, 0.00141189, 0.00134402, 0.00048597,\n",
       "        0.00065581, 0.00048597, 0.00065581, 0.00079902, 0.00053447,\n",
       "        0.00079902, 0.00053447, 0.00111301, 0.00105425, 0.00111301,\n",
       "        0.00105425, 0.00142524, 0.0016066 , 0.00142524, 0.0016066 ,\n",
       "        0.00151603, 0.00104405, 0.00151603, 0.00104405, 0.00050978,\n",
       "        0.00051662, 0.00050978, 0.00051662, 0.00064931, 0.00085067,\n",
       "        0.00064931, 0.00085067])}"
      ]
     },
     "execution_count": 16,
     "metadata": {},
     "output_type": "execute_result"
    }
   ],
   "source": [
    "print(\"Clasificación Random Forest Grid CV 3\")\n",
    "\n",
    "score_train_rf_classification = randomForest.score(x_train_sparse, y_train_sparse)\n",
    "print(\"La puntuación del entrenamiento en tanto por 1 es de: {:.3f}\".format(score_train_rf_classification))\n",
    "\n",
    "score_test_rf_classification = randomForest.score(x_test_sparse, y_test_sparse)\n",
    "print(\"La puntuación del test en tanto por 1 es de: {:.3f}\".format(score_test_rf_classification))\n",
    "\n",
    "#resultados = randomForest.cv_results_"
   ]
  },
  {
   "cell_type": "markdown",
   "metadata": {},
   "source": [
    "Ante la vista de que el máximo es el que me está dando mayores resultados, voy a hacer un grid a partir de este máximo para ver:"
   ]
  },
  {
   "cell_type": "code",
   "execution_count": 31,
   "metadata": {},
   "outputs": [],
   "source": [
    "randomForest_grid = RandomForestClassifier(random_state=97)\n",
    "\n",
    "grid = { \n",
    "    'n_estimators': [2500, 3200],\n",
    "    'max_features': ['auto'],\n",
    "    'max_depth' : [19, 20, 21, 22, 23],\n",
    "    'criterion' : ['gini']\n",
    "}\n",
    "\n",
    "#CV por defecto de 3\n",
    "randomForest = GridSearchCV(estimator=randomForest_grid, param_grid=grid)"
   ]
  },
  {
   "cell_type": "code",
   "execution_count": 32,
   "metadata": {},
   "outputs": [
    {
     "name": "stderr",
     "output_type": "stream",
     "text": [
      "D:\\Users\\jorge\\Anaconda3\\lib\\site-packages\\sklearn\\model_selection\\_split.py:2053: FutureWarning: You should specify a value for 'cv' instead of relying on the default value. The default value will change from 3 to 5 in version 0.22.\n",
      "  warnings.warn(CV_WARNING, FutureWarning)\n"
     ]
    },
    {
     "data": {
      "text/plain": [
       "{'criterion': 'gini',\n",
       " 'max_depth': 23,\n",
       " 'max_features': 'auto',\n",
       " 'n_estimators': 3200}"
      ]
     },
     "execution_count": 32,
     "metadata": {},
     "output_type": "execute_result"
    }
   ],
   "source": [
    "randomForest.fit(x_train_sparse, y_train_sparse)\n",
    "\n",
    "randomForest.best_params_"
   ]
  },
  {
   "cell_type": "code",
   "execution_count": 33,
   "metadata": {},
   "outputs": [
    {
     "name": "stdout",
     "output_type": "stream",
     "text": [
      "Clasificación Random Forest Grid CV 3\n",
      "La puntuación del entrenamiento en tanto por 1 es de: 0.985\n",
      "La puntuación del test en tanto por 1 es de: 0.955\n"
     ]
    },
    {
     "name": "stderr",
     "output_type": "stream",
     "text": [
      "D:\\Users\\jorge\\Anaconda3\\lib\\site-packages\\sklearn\\utils\\deprecation.py:125: FutureWarning: You are accessing a training score ('split0_train_score'), which will not be available by default any more in 0.21. If you need training scores, please set return_train_score=True\n",
      "  warnings.warn(*warn_args, **warn_kwargs)\n",
      "D:\\Users\\jorge\\Anaconda3\\lib\\site-packages\\sklearn\\utils\\deprecation.py:125: FutureWarning: You are accessing a training score ('split1_train_score'), which will not be available by default any more in 0.21. If you need training scores, please set return_train_score=True\n",
      "  warnings.warn(*warn_args, **warn_kwargs)\n",
      "D:\\Users\\jorge\\Anaconda3\\lib\\site-packages\\sklearn\\utils\\deprecation.py:125: FutureWarning: You are accessing a training score ('split2_train_score'), which will not be available by default any more in 0.21. If you need training scores, please set return_train_score=True\n",
      "  warnings.warn(*warn_args, **warn_kwargs)\n",
      "D:\\Users\\jorge\\Anaconda3\\lib\\site-packages\\sklearn\\utils\\deprecation.py:125: FutureWarning: You are accessing a training score ('mean_train_score'), which will not be available by default any more in 0.21. If you need training scores, please set return_train_score=True\n",
      "  warnings.warn(*warn_args, **warn_kwargs)\n",
      "D:\\Users\\jorge\\Anaconda3\\lib\\site-packages\\sklearn\\utils\\deprecation.py:125: FutureWarning: You are accessing a training score ('std_train_score'), which will not be available by default any more in 0.21. If you need training scores, please set return_train_score=True\n",
      "  warnings.warn(*warn_args, **warn_kwargs)\n"
     ]
    },
    {
     "data": {
      "text/plain": [
       "{'mean_fit_time': array([ 84.09729091, 108.03495336,  91.92816257, 118.19215091,\n",
       "         99.7969838 , 130.81561128, 109.00906634, 140.21024338,\n",
       "        117.08578261, 149.58988126]),\n",
       " 'std_fit_time': array([1.0607448 , 0.98821738, 0.87014215, 0.89157012, 0.9942076 ,\n",
       "        1.99466667, 1.13540899, 1.14015021, 0.66291745, 1.43361468]),\n",
       " 'mean_score_time': array([4.66600092, 6.08352518, 4.84556953, 6.32671968, 5.04312007,\n",
       "        6.68085003, 5.52651016, 6.90405234, 5.3216335 , 7.13892245]),\n",
       " 'std_score_time': array([0.02215755, 0.04836546, 0.01790242, 0.06002251, 0.07975375,\n",
       "        0.03491178, 0.27675383, 0.02727499, 0.07107612, 0.10142101]),\n",
       " 'param_criterion': masked_array(data=['gini', 'gini', 'gini', 'gini', 'gini', 'gini', 'gini',\n",
       "                    'gini', 'gini', 'gini'],\n",
       "              mask=[False, False, False, False, False, False, False, False,\n",
       "                    False, False],\n",
       "        fill_value='?',\n",
       "             dtype=object),\n",
       " 'param_max_depth': masked_array(data=[19, 19, 20, 20, 21, 21, 22, 22, 23, 23],\n",
       "              mask=[False, False, False, False, False, False, False, False,\n",
       "                    False, False],\n",
       "        fill_value='?',\n",
       "             dtype=object),\n",
       " 'param_max_features': masked_array(data=['auto', 'auto', 'auto', 'auto', 'auto', 'auto', 'auto',\n",
       "                    'auto', 'auto', 'auto'],\n",
       "              mask=[False, False, False, False, False, False, False, False,\n",
       "                    False, False],\n",
       "        fill_value='?',\n",
       "             dtype=object),\n",
       " 'param_n_estimators': masked_array(data=[2500, 3200, 2500, 3200, 2500, 3200, 2500, 3200, 2500,\n",
       "                    3200],\n",
       "              mask=[False, False, False, False, False, False, False, False,\n",
       "                    False, False],\n",
       "        fill_value='?',\n",
       "             dtype=object),\n",
       " 'params': [{'criterion': 'gini',\n",
       "   'max_depth': 19,\n",
       "   'max_features': 'auto',\n",
       "   'n_estimators': 2500},\n",
       "  {'criterion': 'gini',\n",
       "   'max_depth': 19,\n",
       "   'max_features': 'auto',\n",
       "   'n_estimators': 3200},\n",
       "  {'criterion': 'gini',\n",
       "   'max_depth': 20,\n",
       "   'max_features': 'auto',\n",
       "   'n_estimators': 2500},\n",
       "  {'criterion': 'gini',\n",
       "   'max_depth': 20,\n",
       "   'max_features': 'auto',\n",
       "   'n_estimators': 3200},\n",
       "  {'criterion': 'gini',\n",
       "   'max_depth': 21,\n",
       "   'max_features': 'auto',\n",
       "   'n_estimators': 2500},\n",
       "  {'criterion': 'gini',\n",
       "   'max_depth': 21,\n",
       "   'max_features': 'auto',\n",
       "   'n_estimators': 3200},\n",
       "  {'criterion': 'gini',\n",
       "   'max_depth': 22,\n",
       "   'max_features': 'auto',\n",
       "   'n_estimators': 2500},\n",
       "  {'criterion': 'gini',\n",
       "   'max_depth': 22,\n",
       "   'max_features': 'auto',\n",
       "   'n_estimators': 3200},\n",
       "  {'criterion': 'gini',\n",
       "   'max_depth': 23,\n",
       "   'max_features': 'auto',\n",
       "   'n_estimators': 2500},\n",
       "  {'criterion': 'gini',\n",
       "   'max_depth': 23,\n",
       "   'max_features': 'auto',\n",
       "   'n_estimators': 3200}],\n",
       " 'split0_test_score': array([0.95330836, 0.95314191, 0.95380774, 0.95414066, 0.9559717 ,\n",
       "        0.95605493, 0.95688722, 0.95705368, 0.95763629, 0.95805243]),\n",
       " 'split1_test_score': array([0.95030797, 0.95039121, 0.95122357, 0.95163975, 0.9519727 ,\n",
       "        0.95205593, 0.95330448, 0.95322124, 0.95372066, 0.95397037]),\n",
       " 'split2_test_score': array([0.95488597, 0.95455302, 0.95596804, 0.95563509, 0.95613451,\n",
       "        0.9558848 , 0.95721658, 0.95721658, 0.95796571, 0.95821542]),\n",
       " 'mean_test_score': array([0.95283411, 0.95269539, 0.95366645, 0.95380518, 0.95469301,\n",
       "        0.95466526, 0.95580279, 0.95583054, 0.95644092, 0.95674611]),\n",
       " 'std_test_score': array([0.00189878, 0.00172812, 0.00193947, 0.00164823, 0.00192466,\n",
       "        0.00184634, 0.00177165, 0.00184621, 0.00192817, 0.00196383]),\n",
       " 'rank_test_score': array([ 9, 10,  8,  7,  5,  6,  4,  3,  2,  1]),\n",
       " 'split0_train_score': array([0.97594473, 0.97681871, 0.98056434, 0.98106376, 0.98455968,\n",
       "        0.98510072, 0.98763942, 0.98763942, 0.99051107, 0.99046945]),\n",
       " 'split1_train_score': array([0.97519664, 0.97519664, 0.97781847, 0.9781514 , 0.98143909,\n",
       "        0.98160556, 0.9850181 , 0.98505972, 0.98697407, 0.98726539]),\n",
       " 'split2_train_score': array([0.97748554, 0.97744392, 0.98077323, 0.98098131, 0.98327022,\n",
       "        0.98343668, 0.98555912, 0.98597528, 0.98909651, 0.98963752]),\n",
       " 'mean_train_score': array([0.97620897, 0.97648642, 0.97971868, 0.98006549, 0.98308966,\n",
       "        0.98338099, 0.98607221, 0.98622481, 0.98886055, 0.98912412]),\n",
       " 'std_train_score': array([0.00095294, 0.00094706, 0.00134636, 0.00135389, 0.00128035,\n",
       "        0.00142743, 0.00112998, 0.00106784, 0.00145358, 0.0013575 ])}"
      ]
     },
     "execution_count": 33,
     "metadata": {},
     "output_type": "execute_result"
    }
   ],
   "source": [
    "print(\"Clasificación Random Forest Grid CV 3\")\n",
    "\n",
    "score_train_rf_classification = randomForest.score(x_train_sparse, y_train_sparse)\n",
    "print(\"La puntuación del entrenamiento en tanto por 1 es de: {:.3f}\".format(score_train_rf_classification))\n",
    "\n",
    "score_test_rf_classification = randomForest.score(x_test_sparse, y_test_sparse)\n",
    "print(\"La puntuación del test en tanto por 1 es de: {:.3f}\".format(score_test_rf_classification))\n",
    "\n",
    "randomForest.cv_results_"
   ]
  },
  {
   "cell_type": "markdown",
   "metadata": {},
   "source": [
    "Tras hacer varias pruebas, y con el aumento de árboles y su profundidad como problema computacional, con un 95,5% de acierto creo que es suficiente.\n",
    "\n",
    "Si se qusiera mejorar, según arrojan los resultados, el aumento de la profundidad de los árboles quizás arroje mejores resultados"
   ]
  },
  {
   "cell_type": "markdown",
   "metadata": {},
   "source": [
    "    Ahora sin campeones ni spells"
   ]
  },
  {
   "cell_type": "code",
   "execution_count": 15,
   "metadata": {},
   "outputs": [
    {
     "name": "stderr",
     "output_type": "stream",
     "text": [
      "D:\\Users\\Jorge\\Anaconda3\\lib\\site-packages\\sklearn\\model_selection\\_split.py:2053: FutureWarning: You should specify a value for 'cv' instead of relying on the default value. The default value will change from 3 to 5 in version 0.22.\n",
      "  warnings.warn(CV_WARNING, FutureWarning)\n"
     ]
    },
    {
     "data": {
      "text/plain": [
       "{'criterion': 'gini',\n",
       " 'max_depth': 21,\n",
       " 'max_features': 'auto',\n",
       " 'n_estimators': 2500}"
      ]
     },
     "execution_count": 15,
     "metadata": {},
     "output_type": "execute_result"
    }
   ],
   "source": [
    "randomForest_grid = RandomForestClassifier(random_state=97)\n",
    "\n",
    "grid = { \n",
    "    'n_estimators': [2500, 3200],\n",
    "    'max_features': ['auto'],\n",
    "    'max_depth' : [19, 21, 23],\n",
    "    'criterion' : ['gini']\n",
    "}\n",
    "\n",
    "#CV por defecto de 3\n",
    "randomForest = GridSearchCV(estimator=randomForest_grid, param_grid=grid)\n",
    "\n",
    "randomForest.fit(x_train_nc, y_train_nc)\n",
    "\n",
    "randomForest.best_params_"
   ]
  },
  {
   "cell_type": "code",
   "execution_count": 17,
   "metadata": {},
   "outputs": [
    {
     "name": "stdout",
     "output_type": "stream",
     "text": [
      "Clasificación Random Forest Grid CV 3 - Sin campeones ni spells\n",
      "La puntuación del entrenamiento en tanto por 1 es de: 0.992\n",
      "La puntuación del test en tanto por 1 es de: 0.970\n"
     ]
    },
    {
     "name": "stderr",
     "output_type": "stream",
     "text": [
      "D:\\Users\\Jorge\\Anaconda3\\lib\\site-packages\\sklearn\\utils\\deprecation.py:125: FutureWarning: You are accessing a training score ('split0_train_score'), which will not be available by default any more in 0.21. If you need training scores, please set return_train_score=True\n",
      "  warnings.warn(*warn_args, **warn_kwargs)\n",
      "D:\\Users\\Jorge\\Anaconda3\\lib\\site-packages\\sklearn\\utils\\deprecation.py:125: FutureWarning: You are accessing a training score ('split1_train_score'), which will not be available by default any more in 0.21. If you need training scores, please set return_train_score=True\n",
      "  warnings.warn(*warn_args, **warn_kwargs)\n",
      "D:\\Users\\Jorge\\Anaconda3\\lib\\site-packages\\sklearn\\utils\\deprecation.py:125: FutureWarning: You are accessing a training score ('split2_train_score'), which will not be available by default any more in 0.21. If you need training scores, please set return_train_score=True\n",
      "  warnings.warn(*warn_args, **warn_kwargs)\n",
      "D:\\Users\\Jorge\\Anaconda3\\lib\\site-packages\\sklearn\\utils\\deprecation.py:125: FutureWarning: You are accessing a training score ('mean_train_score'), which will not be available by default any more in 0.21. If you need training scores, please set return_train_score=True\n",
      "  warnings.warn(*warn_args, **warn_kwargs)\n",
      "D:\\Users\\Jorge\\Anaconda3\\lib\\site-packages\\sklearn\\utils\\deprecation.py:125: FutureWarning: You are accessing a training score ('std_train_score'), which will not be available by default any more in 0.21. If you need training scores, please set return_train_score=True\n",
      "  warnings.warn(*warn_args, **warn_kwargs)\n"
     ]
    },
    {
     "data": {
      "text/plain": [
       "{'mean_fit_time': array([19.76282954, 25.49718801, 19.82170653, 25.64682452, 19.79344726,\n",
       "        25.52914413]),\n",
       " 'std_fit_time': array([0.20641958, 0.19168537, 0.08063201, 0.25786967, 0.16463043,\n",
       "        0.14709446]),\n",
       " 'mean_score_time': array([2.22937775, 3.02026232, 2.24533192, 3.0139362 , 2.24135137,\n",
       "        3.01760284]),\n",
       " 'std_score_time': array([0.01031285, 0.0279409 , 0.01378128, 0.03723031, 0.02973654,\n",
       "        0.00678093]),\n",
       " 'param_criterion': masked_array(data=['gini', 'gini', 'gini', 'gini', 'gini', 'gini'],\n",
       "              mask=[False, False, False, False, False, False],\n",
       "        fill_value='?',\n",
       "             dtype=object),\n",
       " 'param_max_depth': masked_array(data=[19, 19, 21, 21, 23, 23],\n",
       "              mask=[False, False, False, False, False, False],\n",
       "        fill_value='?',\n",
       "             dtype=object),\n",
       " 'param_max_features': masked_array(data=['auto', 'auto', 'auto', 'auto', 'auto', 'auto'],\n",
       "              mask=[False, False, False, False, False, False],\n",
       "        fill_value='?',\n",
       "             dtype=object),\n",
       " 'param_n_estimators': masked_array(data=[2500, 3200, 2500, 3200, 2500, 3200],\n",
       "              mask=[False, False, False, False, False, False],\n",
       "        fill_value='?',\n",
       "             dtype=object),\n",
       " 'params': [{'criterion': 'gini',\n",
       "   'max_depth': 19,\n",
       "   'max_features': 'auto',\n",
       "   'n_estimators': 2500},\n",
       "  {'criterion': 'gini',\n",
       "   'max_depth': 19,\n",
       "   'max_features': 'auto',\n",
       "   'n_estimators': 3200},\n",
       "  {'criterion': 'gini',\n",
       "   'max_depth': 21,\n",
       "   'max_features': 'auto',\n",
       "   'n_estimators': 2500},\n",
       "  {'criterion': 'gini',\n",
       "   'max_depth': 21,\n",
       "   'max_features': 'auto',\n",
       "   'n_estimators': 3200},\n",
       "  {'criterion': 'gini',\n",
       "   'max_depth': 23,\n",
       "   'max_features': 'auto',\n",
       "   'n_estimators': 2500},\n",
       "  {'criterion': 'gini',\n",
       "   'max_depth': 23,\n",
       "   'max_features': 'auto',\n",
       "   'n_estimators': 3200}],\n",
       " 'split0_test_score': array([0.97120266, 0.97128589, 0.97128589, 0.97136912, 0.9710362 ,\n",
       "        0.97095298]),\n",
       " 'split1_test_score': array([0.96870318, 0.96886965, 0.96886965, 0.96878642, 0.96903612,\n",
       "        0.96878642]),\n",
       " 'split2_test_score': array([0.97086732, 0.97070085, 0.97095056, 0.97086732, 0.97095056,\n",
       "        0.97086732]),\n",
       " 'mean_test_score': array([0.97025775, 0.97028549, 0.97036873, 0.97034098, 0.97034098,\n",
       "        0.97020226]),\n",
       " 'std_test_score': array([0.00110772, 0.00102923, 0.00106879, 0.00111815, 0.00092332,\n",
       "        0.00100174]),\n",
       " 'rank_test_score': array([5, 4, 1, 2, 2, 6]),\n",
       " 'split0_train_score': array([0.99238389, 0.99238389, 0.99238389, 0.99238389, 0.99238389,\n",
       "        0.99238389]),\n",
       " 'split1_train_score': array([0.99271713, 0.99271713, 0.99271713, 0.99271713, 0.99271713,\n",
       "        0.99271713]),\n",
       " 'split2_train_score': array([0.99280037, 0.99280037, 0.99280037, 0.99280037, 0.99280037,\n",
       "        0.99280037]),\n",
       " 'mean_train_score': array([0.9926338, 0.9926338, 0.9926338, 0.9926338, 0.9926338, 0.9926338]),\n",
       " 'std_train_score': array([0.00017995, 0.00017995, 0.00017995, 0.00017995, 0.00017995,\n",
       "        0.00017995])}"
      ]
     },
     "execution_count": 17,
     "metadata": {},
     "output_type": "execute_result"
    }
   ],
   "source": [
    "print(\"Clasificación Random Forest Grid CV 3 - Sin campeones ni spells\")\n",
    "\n",
    "score_train_rf_classification = randomForest.score(x_train_nc, y_train_nc)\n",
    "print(\"La puntuación del entrenamiento en tanto por 1 es de: {:.3f}\".format(score_train_rf_classification))\n",
    "\n",
    "score_test_rf_classification = randomForest.score(x_test_nc, y_test_nc)\n",
    "print(\"La puntuación del test en tanto por 1 es de: {:.3f}\".format(score_test_rf_classification))\n",
    "\n",
    "randomForest.cv_results_"
   ]
  },
  {
   "cell_type": "markdown",
   "metadata": {},
   "source": [
    "                                                            6) Descenso del Gradiente Estocástico"
   ]
  },
  {
   "cell_type": "code",
   "execution_count": 43,
   "metadata": {},
   "outputs": [],
   "source": [
    "from sklearn.linear_model import SGDClassifier"
   ]
  },
  {
   "cell_type": "code",
   "execution_count": 54,
   "metadata": {},
   "outputs": [
    {
     "name": "stderr",
     "output_type": "stream",
     "text": [
      "D:\\Users\\jorge\\Anaconda3\\lib\\site-packages\\sklearn\\linear_model\\stochastic_gradient.py:183: FutureWarning: max_iter and tol parameters have been added in SGDClassifier in 0.19. If max_iter is set but tol is left unset, the default value for tol in 0.19 and 0.20 will be None (which is equivalent to -infinity, so it has no effect) but will change in 0.21 to 1e-3. Specify tol to silence this warning.\n",
      "  FutureWarning)\n"
     ]
    }
   ],
   "source": [
    "sgd = SGDClassifier(max_iter=1000, random_state=97)\n",
    "sgd_model = sgd.fit(x_train, y_train)"
   ]
  },
  {
   "cell_type": "code",
   "execution_count": 55,
   "metadata": {},
   "outputs": [],
   "source": [
    "prediccion_sgd = sgd_model.predict(x_test)"
   ]
  },
  {
   "cell_type": "code",
   "execution_count": 56,
   "metadata": {},
   "outputs": [
    {
     "name": "stdout",
     "output_type": "stream",
     "text": [
      "Clasificación SGD\n",
      "La puntuación del entrenamiento en tanto por 1 es de: 0.964\n",
      "La puntuación del test en tanto por 1 es de: 0.920\n"
     ]
    }
   ],
   "source": [
    "print(\"Clasificación SGD\")\n",
    "\n",
    "score_train_sgd_classification = sgd_model.score(x_train, y_train)\n",
    "print(\"La puntuación del entrenamiento en tanto por 1 es de: {:.3f}\".format(score_train_sgd_classification))\n",
    "\n",
    "score_test_sgd_classification = sgd_model.score(x_test, y_test)\n",
    "print(\"La puntuación del test en tanto por 1 es de: {:.3f}\".format(score_test_sgd_classification))"
   ]
  },
  {
   "cell_type": "markdown",
   "metadata": {},
   "source": [
    "Ahora sin campeones ni spells"
   ]
  },
  {
   "cell_type": "code",
   "execution_count": 45,
   "metadata": {},
   "outputs": [
    {
     "name": "stderr",
     "output_type": "stream",
     "text": [
      "D:\\Users\\Jorge\\Anaconda3\\lib\\site-packages\\sklearn\\linear_model\\stochastic_gradient.py:183: FutureWarning: max_iter and tol parameters have been added in SGDClassifier in 0.19. If max_iter is set but tol is left unset, the default value for tol in 0.19 and 0.20 will be None (which is equivalent to -infinity, so it has no effect) but will change in 0.21 to 1e-3. Specify tol to silence this warning.\n",
      "  FutureWarning)\n"
     ]
    }
   ],
   "source": [
    "sgd = SGDClassifier(max_iter=1000, random_state=97)\n",
    "sgd_model = sgd.fit(x_train_nc, y_train_nc)"
   ]
  },
  {
   "cell_type": "code",
   "execution_count": 46,
   "metadata": {},
   "outputs": [],
   "source": [
    "prediccion_sgd = sgd_model.predict(x_test_nc)"
   ]
  },
  {
   "cell_type": "code",
   "execution_count": 47,
   "metadata": {},
   "outputs": [
    {
     "name": "stdout",
     "output_type": "stream",
     "text": [
      "Clasificación SGD - sin campeones ni spells\n",
      "La puntuación del entrenamiento en tanto por 1 es de: 0.961\n",
      "La puntuación del test en tanto por 1 es de: 0.959\n"
     ]
    }
   ],
   "source": [
    "print(\"Clasificación SGD - sin campeones ni spells\")\n",
    "\n",
    "score_train_sgd_classification = sgd_model.score(x_train_nc, y_train_nc)\n",
    "print(\"La puntuación del entrenamiento en tanto por 1 es de: {:.3f}\".format(score_train_sgd_classification))\n",
    "\n",
    "score_test_sgd_classification = sgd_model.score(x_test_nc, y_test_nc)\n",
    "print(\"La puntuación del test en tanto por 1 es de: {:.3f}\".format(score_test_sgd_classification))"
   ]
  },
  {
   "cell_type": "markdown",
   "metadata": {},
   "source": [
    "                                       7) Naive Bayes"
   ]
  },
  {
   "cell_type": "code",
   "execution_count": 48,
   "metadata": {},
   "outputs": [],
   "source": [
    "from sklearn.naive_bayes import GaussianNB"
   ]
  },
  {
   "cell_type": "code",
   "execution_count": 61,
   "metadata": {},
   "outputs": [],
   "source": [
    "naive_bayes = GaussianNB()\n",
    "naive_bayes_model = naive_bayes.fit(x_train, y_train)"
   ]
  },
  {
   "cell_type": "code",
   "execution_count": 62,
   "metadata": {},
   "outputs": [],
   "source": [
    "prediccion_naive_bayes = naive_bayes_model.predict(x_test)"
   ]
  },
  {
   "cell_type": "code",
   "execution_count": 63,
   "metadata": {},
   "outputs": [
    {
     "name": "stdout",
     "output_type": "stream",
     "text": [
      "Clasificación Naive Bayes\n",
      "La puntuación del entrenamiento en tanto por 1 es de: 0.788\n",
      "La puntuación del test en tanto por 1 es de: 0.768\n"
     ]
    }
   ],
   "source": [
    "print(\"Clasificación Naive Bayes\")\n",
    "\n",
    "score_train_nb_classification = naive_bayes_model.score(x_train, y_train)\n",
    "print(\"La puntuación del entrenamiento en tanto por 1 es de: {:.3f}\".format(score_train_nb_classification))\n",
    "\n",
    "score_test_nb_classification = naive_bayes_model.score(x_test, y_test)\n",
    "print(\"La puntuación del test en tanto por 1 es de: {:.3f}\".format(score_test_nb_classification))"
   ]
  },
  {
   "cell_type": "markdown",
   "metadata": {},
   "source": [
    "Seguiré el mismo método pero sin campeones ni spells"
   ]
  },
  {
   "cell_type": "code",
   "execution_count": 49,
   "metadata": {},
   "outputs": [],
   "source": [
    "naive_bayes = GaussianNB()\n",
    "naive_bayes_model = naive_bayes.fit(x_train_nc, y_train_nc)"
   ]
  },
  {
   "cell_type": "code",
   "execution_count": 50,
   "metadata": {},
   "outputs": [],
   "source": [
    "prediccion_naive_bayes = naive_bayes_model.predict(x_test_nc)"
   ]
  },
  {
   "cell_type": "code",
   "execution_count": 51,
   "metadata": {},
   "outputs": [
    {
     "name": "stdout",
     "output_type": "stream",
     "text": [
      "Clasificación Naive Bayes - Sin campeones ni spells\n",
      "La puntuación del entrenamiento en tanto por 1 es de: 0.940\n",
      "La puntuación del test en tanto por 1 es de: 0.936\n"
     ]
    }
   ],
   "source": [
    "print(\"Clasificación Naive Bayes - Sin campeones ni spells\")\n",
    "\n",
    "score_train_nb_classification = naive_bayes_model.score(x_train_nc, y_train_nc)\n",
    "print(\"La puntuación del entrenamiento en tanto por 1 es de: {:.3f}\".format(score_train_nb_classification))\n",
    "\n",
    "score_test_nb_classification = naive_bayes_model.score(x_test_nc, y_test_nc)\n",
    "print(\"La puntuación del test en tanto por 1 es de: {:.3f}\".format(score_test_nb_classification))"
   ]
  },
  {
   "cell_type": "markdown",
   "metadata": {},
   "source": [
    "                                        8) AdaBoost"
   ]
  },
  {
   "cell_type": "code",
   "execution_count": 52,
   "metadata": {},
   "outputs": [],
   "source": [
    "from sklearn.ensemble import AdaBoostClassifier"
   ]
  },
  {
   "cell_type": "code",
   "execution_count": 65,
   "metadata": {},
   "outputs": [],
   "source": [
    "ada_boost = AdaBoostClassifier()\n",
    "ada_boost_model = ada_boost.fit(x_train, y_train)"
   ]
  },
  {
   "cell_type": "code",
   "execution_count": 66,
   "metadata": {},
   "outputs": [],
   "source": [
    "prediccion_ada_boost = ada_boost_model.predict(x_test)"
   ]
  },
  {
   "cell_type": "code",
   "execution_count": 68,
   "metadata": {},
   "outputs": [
    {
     "name": "stdout",
     "output_type": "stream",
     "text": [
      "Clasificación Ada Boost\n",
      "La puntuación del entrenamiento en tanto por 1 es de: 0.921\n",
      "La puntuación del test en tanto por 1 es de: 0.912\n"
     ]
    }
   ],
   "source": [
    "print(\"Clasificación Ada Boost\")\n",
    "\n",
    "score_train_adaboost_classification = ada_boost_model.score(x_train, y_train)\n",
    "print(\"La puntuación del entrenamiento en tanto por 1 es de: {:.3f}\".format(score_train_adaboost_classification))\n",
    "\n",
    "score_test_adaboost_classification = ada_boost_model.score(x_test, y_test)\n",
    "print(\"La puntuación del test en tanto por 1 es de: {:.3f}\".format(score_test_adaboost_classification))"
   ]
  },
  {
   "cell_type": "markdown",
   "metadata": {},
   "source": [
    "Sin campeones ni spells"
   ]
  },
  {
   "cell_type": "code",
   "execution_count": 53,
   "metadata": {},
   "outputs": [],
   "source": [
    "ada_boost = AdaBoostClassifier()\n",
    "ada_boost_model = ada_boost.fit(x_train_nc, y_train_nc)"
   ]
  },
  {
   "cell_type": "code",
   "execution_count": 54,
   "metadata": {},
   "outputs": [],
   "source": [
    "prediccion_ada_boost = ada_boost_model.predict(x_test_nc)"
   ]
  },
  {
   "cell_type": "code",
   "execution_count": 55,
   "metadata": {},
   "outputs": [
    {
     "name": "stdout",
     "output_type": "stream",
     "text": [
      "Clasificación Ada Boost - Sin Campeones ni Spells\n",
      "La puntuación del entrenamiento en tanto por 1 es de: 0.964\n",
      "La puntuación del test en tanto por 1 es de: 0.964\n"
     ]
    }
   ],
   "source": [
    "print(\"Clasificación Ada Boost - Sin Campeones ni Spells\")\n",
    "\n",
    "score_train_adaboost_classification = ada_boost_model.score(x_train_nc, y_train_nc)\n",
    "print(\"La puntuación del entrenamiento en tanto por 1 es de: {:.3f}\".format(score_train_adaboost_classification))\n",
    "\n",
    "score_test_adaboost_classification = ada_boost_model.score(x_test_nc, y_test_nc)\n",
    "print(\"La puntuación del test en tanto por 1 es de: {:.3f}\".format(score_test_adaboost_classification))"
   ]
  },
  {
   "cell_type": "markdown",
   "metadata": {},
   "source": [
    "                                                        9) Gradient Tree Boosting"
   ]
  },
  {
   "cell_type": "code",
   "execution_count": 56,
   "metadata": {},
   "outputs": [],
   "source": [
    "from sklearn.ensemble import GradientBoostingClassifier"
   ]
  },
  {
   "cell_type": "code",
   "execution_count": 22,
   "metadata": {},
   "outputs": [],
   "source": [
    "gradient_boosting = GradientBoostingClassifier()\n",
    "gradient_boosting_model = gradient_boosting.fit(x_train_sparse, y_train_sparse)"
   ]
  },
  {
   "cell_type": "code",
   "execution_count": 23,
   "metadata": {},
   "outputs": [],
   "source": [
    "prediccion_gradient_boosting = gradient_boosting_model.predict(x_test_sparse)"
   ]
  },
  {
   "cell_type": "code",
   "execution_count": 24,
   "metadata": {},
   "outputs": [
    {
     "name": "stdout",
     "output_type": "stream",
     "text": [
      "Clasificación Gradient Boosting\n",
      "La puntuación del entrenamiento en tanto por 1 es de: 0.974\n",
      "La puntuación del test en tanto por 1 es de: 0.974\n"
     ]
    }
   ],
   "source": [
    "print(\"Clasificación Gradient Boosting\")\n",
    "\n",
    "score_train_gradientBoosting_classification = gradient_boosting_model.score(x_train_sparse, y_train_sparse)\n",
    "print(\"La puntuación del entrenamiento en tanto por 1 es de: {:.3f}\".format(score_train_gradientBoosting_classification))\n",
    "\n",
    "score_test_gradientBoosting_classification = gradient_boosting_model.score(x_test_sparse, y_test_sparse)\n",
    "print(\"La puntuación del test en tanto por 1 es de: {:.3f}\".format(score_train_gradientBoosting_classification))"
   ]
  },
  {
   "cell_type": "markdown",
   "metadata": {},
   "source": [
    "Ahora sin campeones ni spells"
   ]
  },
  {
   "cell_type": "code",
   "execution_count": 57,
   "metadata": {},
   "outputs": [],
   "source": [
    "gradient_boosting = GradientBoostingClassifier()\n",
    "gradient_boosting_model = gradient_boosting.fit(x_train_nc, y_train_nc)"
   ]
  },
  {
   "cell_type": "code",
   "execution_count": 58,
   "metadata": {},
   "outputs": [],
   "source": [
    "prediccion_gradient_boosting = gradient_boosting_model.predict(x_test_nc)"
   ]
  },
  {
   "cell_type": "code",
   "execution_count": 59,
   "metadata": {},
   "outputs": [
    {
     "name": "stdout",
     "output_type": "stream",
     "text": [
      "Clasificación Gradient Boosting -  Sin campeones ni spells\n",
      "La puntuación del entrenamiento en tanto por 1 es de: 0.973\n",
      "La puntuación del test en tanto por 1 es de: 0.973\n"
     ]
    }
   ],
   "source": [
    "print(\"Clasificación Gradient Boosting -  Sin campeones ni spells\")\n",
    "\n",
    "score_train_gradientBoosting_classification = gradient_boosting_model.score(x_train_nc, y_train_nc)\n",
    "print(\"La puntuación del entrenamiento en tanto por 1 es de: {:.3f}\".format(score_train_gradientBoosting_classification))\n",
    "\n",
    "score_test_gradientBoosting_classification = gradient_boosting_model.score(x_test_nc, y_test_nc)\n",
    "print(\"La puntuación del test en tanto por 1 es de: {:.3f}\".format(score_train_gradientBoosting_classification))"
   ]
  },
  {
   "cell_type": "markdown",
   "metadata": {},
   "source": [
    "                                                                                 10) K_Means"
   ]
  },
  {
   "cell_type": "code",
   "execution_count": 73,
   "metadata": {},
   "outputs": [],
   "source": [
    "from sklearn.cluster import KMeans"
   ]
  },
  {
   "cell_type": "code",
   "execution_count": 77,
   "metadata": {},
   "outputs": [],
   "source": [
    "# Dos clusters, uno para victoria y uno para derrota\n",
    "\n",
    "kmeans = KMeans(n_clusters=2, random_state=97)\n",
    "\n",
    "kmeans_model = kmeans.fit(x_train_sparse, y_train_sparse)"
   ]
  },
  {
   "cell_type": "code",
   "execution_count": 80,
   "metadata": {},
   "outputs": [
    {
     "data": {
      "text/plain": [
       "array([[1.45411778e+00, 1.41626079e+00, 1.14356874e+00, ...,\n",
       "        4.42771751e-04, 4.42771751e-04, 1.32831525e-03],\n",
       "       [1.49179416e+00, 1.49279555e+00, 1.47571627e+00, ...,\n",
       "        3.33796940e-04, 3.89429764e-04, 1.66898470e-03]])"
      ]
     },
     "execution_count": 80,
     "metadata": {},
     "output_type": "execute_result"
    }
   ],
   "source": [
    "prediction_kmeans = kmeans_model.predict(x_test_sparse)\n",
    "\n",
    "kmeans_model.cluster_centers_"
   ]
  },
  {
   "cell_type": "code",
   "execution_count": 13,
   "metadata": {},
   "outputs": [
    {
     "data": {
      "image/png": "[encoded data removed]",
      "text/plain": [
       "<Figure size 720x720 with 1 Axes>"
      ]
     },
     "metadata": {
      "needs_background": "light"
     },
     "output_type": "display_data"
    }
   ],
   "source": [
    "# Esta representación no es la de KMeans, sino la real sobre las dos dimensiones más significativas\n",
    "\n",
    "from sklearn.decomposition import PCA\n",
    "\n",
    "pca = PCA(n_components=2)\n",
    "\n",
    "comp_p = pca.fit_transform(games_ml)\n",
    "df_pca_2 = pd.DataFrame(data = comp_p, columns = ['Componente Principal 1', 'Componente Principal 2'])\n",
    "\n",
    "df_pca_2 = pd.concat([df_pca_2, winner_ml], axis = 1)\n",
    "\n",
    "fig = plt.figure(figsize = (10,10))\n",
    "ax = fig.add_subplot(1,1,1)\n",
    "ax.set_xlabel('Componente Principal 1', fontsize = 15)\n",
    "ax.set_ylabel('Componente Principal 2', fontsize = 15)\n",
    "ax.set_title('2 Componentes Principales', fontsize = 25)\n",
    "targets = [1, 2]\n",
    "colors = ['r', 'g']\n",
    "\n",
    "for target, color in zip(targets,colors):\n",
    "    indicesToKeep = df_pca_2.iloc[:, 2] == target\n",
    "    ax.scatter(df_pca_2.loc[indicesToKeep, 'Componente Principal 1'], df_pca_2.loc[indicesToKeep, 'Componente Principal 2']\n",
    "               ,c = color ,s = 50)\n",
    "    \n",
    "ax.legend(targets)\n",
    "plt.savefig(\"imagenes/Plot Kmeans.png\")\n",
    "ax.grid()"
   ]
  },
  {
   "cell_type": "markdown",
   "metadata": {},
   "source": [
    "Misma representación sin campeones ni spells"
   ]
  },
  {
   "cell_type": "code",
   "execution_count": 60,
   "metadata": {},
   "outputs": [
    {
     "data": {
      "image/png": "[encoded data removed]",
      "text/plain": [
       "<Figure size 720x720 with 1 Axes>"
      ]
     },
     "metadata": {
      "needs_background": "light"
     },
     "output_type": "display_data"
    }
   ],
   "source": [
    "# Esta representación no es la de KMeans, sino la real sobre las dos dimensiones más significativas\n",
    "\n",
    "from sklearn.decomposition import PCA\n",
    "\n",
    "pca = PCA(n_components=2)\n",
    "\n",
    "comp_p = pca.fit_transform(games_ml_nc)\n",
    "df_pca_2 = pd.DataFrame(data = comp_p, columns = ['Componente Principal 1', 'Componente Principal 2'])\n",
    "\n",
    "df_pca_2 = pd.concat([df_pca_2, winner_ml], axis = 1)\n",
    "\n",
    "fig = plt.figure(figsize = (10,10))\n",
    "ax = fig.add_subplot(1,1,1)\n",
    "ax.set_xlabel('Componente Principal 1', fontsize = 15)\n",
    "ax.set_ylabel('Componente Principal 2', fontsize = 15)\n",
    "ax.set_title('2 Componentes Principales', fontsize = 25)\n",
    "targets = [1, 2]\n",
    "colors = ['r', 'g']\n",
    "\n",
    "for target, color in zip(targets,colors):\n",
    "    indicesToKeep = df_pca_2.iloc[:, 2] == target\n",
    "    ax.scatter(df_pca_2.loc[indicesToKeep, 'Componente Principal 1'], df_pca_2.loc[indicesToKeep, 'Componente Principal 2']\n",
    "               ,c = color ,s = 50)\n",
    "    \n",
    "ax.legend(targets)\n",
    "plt.savefig(\"imagenes/Plot Kmeans nc.png\")\n",
    "ax.grid()"
   ]
  },
  {
   "cell_type": "markdown",
   "metadata": {},
   "source": [
    "Se puede ver una separación medianamente clara entre las partidas, por lo que KMeans debería de obtener unos resultados bastante buenos"
   ]
  },
  {
   "cell_type": "markdown",
   "metadata": {},
   "source": [
    "Además se puede apreciar que las componentes principales no cambian, por lo que no están ni en los campeones ni en las spells, cosa que se podía ir viendo con los resultados anteriormente obtenidos"
   ]
  },
  {
   "cell_type": "markdown",
   "metadata": {},
   "source": [
    "                                                    11) Regresión "
   ]
  },
  {
   "cell_type": "markdown",
   "metadata": {},
   "source": [
    "Entre torres y tiempo de partida"
   ]
  },
  {
   "cell_type": "code",
   "execution_count": 42,
   "metadata": {},
   "outputs": [
    {
     "data": {
      "image/png": "[encoded data removed]",
      "text/plain": [
       "<Figure size 1080x720 with 1 Axes>"
      ]
     },
     "metadata": {
      "needs_background": "light"
     },
     "output_type": "display_data"
    }
   ],
   "source": [
    "plt.figure(figsize=(15,10))\n",
    "plt.tight_layout()\n",
    "seabornInstance.distplot(games_ml['Duration'])\n",
    "\n",
    "plt.savefig(\"imagenes/TiempoPartida Seaborn.png\")"
   ]
  },
  {
   "cell_type": "code",
   "execution_count": 43,
   "metadata": {},
   "outputs": [
    {
     "name": "stdout",
     "output_type": "stream",
     "text": [
      "Coefficients: \n",
      " [[0.00272022]]\n",
      "Mean squared error: 12.44\n",
      "Variance score: 0.14\n"
     ]
    }
   ],
   "source": [
    "ejex = games_ml.Duration\n",
    "ejey = games_ml.t1_towerKills\n",
    "\n",
    "# Split the data into training/testing sets\n",
    "reg_x_train = ejex[:-35000]\n",
    "reg_x_train\n",
    "reg_x_test = ejex[-16490:]\n",
    "\n",
    "# Split the targets into training/testing sets\n",
    "reg_y_train = ejey[:-35000]\n",
    "reg_y_test = ejey[-16490:]\n",
    "\n",
    "regr = linear_model.LinearRegression()\n",
    "\n",
    "# Train the model using the training sets\n",
    "regr.fit(reg_x_train.values.reshape(-1,1), reg_y_train.values.reshape(-1,1))\n",
    "\n",
    "# Make predictions using the testing set\n",
    "reg_y_pred = regr.predict(reg_x_test.values.reshape(-1,1))\n",
    "\n",
    "# The coefficients\n",
    "print('Coefficients: \\n', regr.coef_)\n",
    "# The mean squared error\n",
    "print(\"Mean squared error: %.2f\"\n",
    "      % mean_squared_error(reg_y_test, reg_y_pred))\n",
    "# Explained variance score: 1 is perfect prediction\n",
    "print('Variance score: %.2f' % r2_score(reg_y_test, reg_y_pred))"
   ]
  },
  {
   "cell_type": "code",
   "execution_count": 44,
   "metadata": {},
   "outputs": [
    {
     "data": {
      "image/png": "[encoded data removed]",
      "text/plain": [
       "<Figure size 432x288 with 1 Axes>"
      ]
     },
     "metadata": {},
     "output_type": "display_data"
    }
   ],
   "source": [
    "# Plot outputs\n",
    "plt.scatter(reg_x_test, reg_y_test,  color='red')\n",
    "plt.plot(reg_x_test, reg_y_pred, color='blue', linewidth=3)\n",
    "\n",
    "plt.xticks(())\n",
    "plt.yticks(())\n",
    "\n",
    "plt.show()"
   ]
  },
  {
   "cell_type": "markdown",
   "metadata": {},
   "source": [
    "    Como se puede observar, no hay correlación entre las variables"
   ]
  },
  {
   "cell_type": "markdown",
   "metadata": {},
   "source": [
    "Entre torres de uno y torres del otro"
   ]
  },
  {
   "cell_type": "code",
   "execution_count": 45,
   "metadata": {},
   "outputs": [
    {
     "data": {
      "image/png": "[encoded data removed]",
      "text/plain": [
       "<Figure size 1080x720 with 1 Axes>"
      ]
     },
     "metadata": {
      "needs_background": "light"
     },
     "output_type": "display_data"
    }
   ],
   "source": [
    "plt.figure(figsize=(15,10))\n",
    "plt.tight_layout()\n",
    "seabornInstance.distplot(games_ml['t2_towerKills'])\n",
    "\n",
    "plt.savefig(\"imagenes/TowersT2 Seaborn.png\")"
   ]
  },
  {
   "cell_type": "code",
   "execution_count": 46,
   "metadata": {},
   "outputs": [
    {
     "name": "stdout",
     "output_type": "stream",
     "text": [
      "Coefficients: \n",
      " [[-0.53599302]]\n",
      "Mean squared error: 10.02\n",
      "Variance score: 0.30\n"
     ]
    }
   ],
   "source": [
    "ejex = games_ml.t2_towerKills\n",
    "ejey = games_ml.t1_towerKills\n",
    "\n",
    "# Split the data into training/testing sets\n",
    "reg_x_train = ejex[:-35000]\n",
    "reg_x_train\n",
    "reg_x_test = ejex[-16490:]\n",
    "\n",
    "# Split the targets into training/testing sets\n",
    "reg_y_train = ejey[:-35000]\n",
    "reg_y_test = ejey[-16490:]\n",
    "\n",
    "regr = linear_model.LinearRegression()\n",
    "\n",
    "# Train the model using the training sets\n",
    "regr.fit(reg_x_train.values.reshape(-1,1), reg_y_train.values.reshape(-1,1))\n",
    "\n",
    "# Make predictions using the testing set\n",
    "reg_y_pred = regr.predict(reg_x_test.values.reshape(-1,1))\n",
    "\n",
    "# The coefficients\n",
    "print('Coefficients: \\n', regr.coef_)\n",
    "# The mean squared error\n",
    "print(\"Mean squared error: %.2f\"\n",
    "      % mean_squared_error(reg_y_test, reg_y_pred))\n",
    "# Explained variance score: 1 is perfect prediction\n",
    "print('Variance score: %.2f' % r2_score(reg_y_test, reg_y_pred))"
   ]
  },
  {
   "cell_type": "markdown",
   "metadata": {},
   "source": [
    "    Como se puede ver, el r^2 es de -0.53, lo que indica una cierta correlación negativa, que es lo esperable"
   ]
  },
  {
   "cell_type": "markdown",
   "metadata": {},
   "source": [
    "                                            11) Reglas de Asociación"
   ]
  },
  {
   "cell_type": "code",
   "execution_count": null,
   "metadata": {},
   "outputs": [],
   "source": [
    "#import sys\n",
    "#!{sys.executable} -m pip install apyori\n",
    "\n",
    "from apyori import apriori"
   ]
  },
  {
   "cell_type": "code",
   "execution_count": null,
   "metadata": {},
   "outputs": [],
   "source": [
    "association_rules = apriori(games, min_support=0.0045, min_confidence=0.2, min_lift=3, min_length=2)  "
   ]
  },
  {
   "cell_type": "code",
   "execution_count": null,
   "metadata": {},
   "outputs": [],
   "source": [
    "list(association_rules)"
   ]
  },
  {
   "cell_type": "markdown",
   "metadata": {},
   "source": [
    "                                                12) Deep Learning"
   ]
  },
  {
   "cell_type": "code",
   "execution_count": 92,
   "metadata": {},
   "outputs": [],
   "source": [
    "#import sys\n",
    "#!{sys.executable} -m pip install keras\n",
    "#!{sys.executable} -m pip install tensorflow\n",
    "\n",
    "from keras.models import Sequential\n",
    "\n",
    "from keras.layers import Dense\n",
    "\n",
    "# Inicialización\n",
    "model = Sequential()\n",
    "\n",
    "# Input \n",
    "model.add(Dense(5, activation='relu', input_shape=(17,)))\n",
    "\n",
    "# Hidden\n",
    "model.add(Dense(12, activation='relu'))\n",
    "\n",
    "# Output\n",
    "# Sigmoide para que sean porcentajes\n",
    "model.add(Dense(2, activation='sigmoid'))"
   ]
  },
  {
   "cell_type": "code",
   "execution_count": 93,
   "metadata": {},
   "outputs": [
    {
     "name": "stdout",
     "output_type": "stream",
     "text": [
      "_________________________________________________________________\n",
      "Layer (type)                 Output Shape              Param #   \n",
      "=================================================================\n",
      "dense_20 (Dense)             (None, 5)                 90        \n",
      "_________________________________________________________________\n",
      "dense_21 (Dense)             (None, 12)                72        \n",
      "_________________________________________________________________\n",
      "dense_22 (Dense)             (None, 2)                 26        \n",
      "=================================================================\n",
      "Total params: 188\n",
      "Trainable params: 188\n",
      "Non-trainable params: 0\n",
      "_________________________________________________________________\n"
     ]
    }
   ],
   "source": [
    "# Resumen del modelo\n",
    "model.summary()"
   ]
  },
  {
   "cell_type": "code",
   "execution_count": 94,
   "metadata": {},
   "outputs": [
    {
     "name": "stdout",
     "output_type": "stream",
     "text": [
      "Epoch 1/50\n",
      "36043/36043 [==============================] - 19s 527us/step - loss: 0.0975 - acc: 0.9580\n",
      "Epoch 2/50\n",
      "36043/36043 [==============================] - 18s 501us/step - loss: 0.0754 - acc: 0.9661\n",
      "Epoch 3/50\n",
      "36043/36043 [==============================] - 18s 499us/step - loss: 0.0725 - acc: 0.9669\n",
      "Epoch 4/50\n",
      "36043/36043 [==============================] - 19s 536us/step - loss: 0.0714 - acc: 0.9672\n",
      "Epoch 5/50\n",
      "36043/36043 [==============================] - 19s 532us/step - loss: 0.0701 - acc: 0.9663\n",
      "Epoch 6/50\n",
      "36043/36043 [==============================] - 19s 519us/step - loss: 0.0690 - acc: 0.9675\n",
      "Epoch 7/50\n",
      "36043/36043 [==============================] - 19s 516us/step - loss: 0.0687 - acc: 0.9664\n",
      "Epoch 8/50\n",
      "36043/36043 [==============================] - 19s 526us/step - loss: 0.0683 - acc: 0.9666\n",
      "Epoch 9/50\n",
      "36043/36043 [==============================] - 20s 542us/step - loss: 0.0679 - acc: 0.9681\n",
      "Epoch 10/50\n",
      "36043/36043 [==============================] - 20s 547us/step - loss: 0.0675 - acc: 0.9667\n",
      "Epoch 11/50\n",
      "36043/36043 [==============================] - 19s 531us/step - loss: 0.0674 - acc: 0.9674\n",
      "Epoch 12/50\n",
      "36043/36043 [==============================] - 20s 551us/step - loss: 0.0669 - acc: 0.9678\n",
      "Epoch 13/50\n",
      "36043/36043 [==============================] - 20s 556us/step - loss: 0.0667 - acc: 0.9687\n",
      "Epoch 14/50\n",
      "36043/36043 [==============================] - 20s 558us/step - loss: 0.0667 - acc: 0.9674\n",
      "Epoch 15/50\n",
      "36043/36043 [==============================] - 20s 545us/step - loss: 0.0667 - acc: 0.9684\n",
      "Epoch 16/50\n",
      "36043/36043 [==============================] - 19s 539us/step - loss: 0.0663 - acc: 0.9696\n",
      "Epoch 17/50\n",
      "36043/36043 [==============================] - 20s 553us/step - loss: 0.0658 - acc: 0.9688\n",
      "Epoch 18/50\n",
      "36043/36043 [==============================] - 20s 563us/step - loss: 0.0664 - acc: 0.9678\n",
      "Epoch 19/50\n",
      "36043/36043 [==============================] - 20s 559us/step - loss: 0.0663 - acc: 0.9682\n",
      "Epoch 20/50\n",
      "36043/36043 [==============================] - 20s 564us/step - loss: 0.0663 - acc: 0.9685\n",
      "Epoch 21/50\n",
      "36043/36043 [==============================] - 20s 564us/step - loss: 0.0658 - acc: 0.9699\n",
      "Epoch 22/50\n",
      "36043/36043 [==============================] - 20s 567us/step - loss: 0.0665 - acc: 0.9684\n",
      "Epoch 23/50\n",
      "36043/36043 [==============================] - 20s 562us/step - loss: 0.0665 - acc: 0.9682\n",
      "Epoch 24/50\n",
      "36043/36043 [==============================] - 20s 557us/step - loss: 0.0658 - acc: 0.9689\n",
      "Epoch 25/50\n",
      "36043/36043 [==============================] - 20s 559us/step - loss: 0.0661 - acc: 0.9685\n",
      "Epoch 26/50\n",
      "36043/36043 [==============================] - 20s 559us/step - loss: 0.0659 - acc: 0.9686\n",
      "Epoch 27/50\n",
      "36043/36043 [==============================] - 20s 545us/step - loss: 0.0662 - acc: 0.9692\n",
      "Epoch 28/50\n",
      "36043/36043 [==============================] - 19s 541us/step - loss: 0.0660 - acc: 0.9691\n",
      "Epoch 29/50\n",
      "36043/36043 [==============================] - 20s 557us/step - loss: 0.0664 - acc: 0.9691\n",
      "Epoch 30/50\n",
      "36043/36043 [==============================] - 20s 556us/step - loss: 0.0658 - acc: 0.9687\n",
      "Epoch 31/50\n",
      "36043/36043 [==============================] - 20s 542us/step - loss: 0.0660 - acc: 0.9686\n",
      "Epoch 32/50\n",
      "36043/36043 [==============================] - 19s 537us/step - loss: 0.0658 - acc: 0.9692\n",
      "Epoch 33/50\n",
      "36043/36043 [==============================] - 19s 536us/step - loss: 0.0655 - acc: 0.9693\n",
      "Epoch 34/50\n",
      "36043/36043 [==============================] - 20s 543us/step - loss: 0.0658 - acc: 0.9687\n",
      "Epoch 35/50\n",
      "36043/36043 [==============================] - 20s 554us/step - loss: 0.0660 - acc: 0.9687\n",
      "Epoch 36/50\n",
      "36043/36043 [==============================] - 18s 493us/step - loss: 0.0657 - acc: 0.9693\n",
      "Epoch 37/50\n",
      "36043/36043 [==============================] - 18s 493us/step - loss: 0.0656 - acc: 0.9688\n",
      "Epoch 38/50\n",
      "36043/36043 [==============================] - 18s 503us/step - loss: 0.0653 - acc: 0.9697\n",
      "Epoch 39/50\n",
      "36043/36043 [==============================] - 18s 502us/step - loss: 0.0664 - acc: 0.9686\n",
      "Epoch 40/50\n",
      "36043/36043 [==============================] - 18s 503us/step - loss: 0.0657 - acc: 0.9693\n",
      "Epoch 41/50\n",
      "36043/36043 [==============================] - 18s 509us/step - loss: 0.0659 - acc: 0.9691\n",
      "Epoch 42/50\n",
      "36043/36043 [==============================] - 18s 511us/step - loss: 0.0655 - acc: 0.9698\n",
      "Epoch 43/50\n",
      "36043/36043 [==============================] - 19s 519us/step - loss: 0.0657 - acc: 0.9686\n",
      "Epoch 44/50\n",
      "36043/36043 [==============================] - 19s 519us/step - loss: 0.0656 - acc: 0.9689\n",
      "Epoch 45/50\n",
      "36043/36043 [==============================] - 19s 520us/step - loss: 0.0657 - acc: 0.9687\n",
      "Epoch 46/50\n",
      "36043/36043 [==============================] - 19s 520us/step - loss: 0.0658 - acc: 0.9686\n",
      "Epoch 47/50\n",
      "36043/36043 [==============================] - 19s 525us/step - loss: 0.0656 - acc: 0.9684\n",
      "Epoch 48/50\n",
      "36043/36043 [==============================] - 19s 518us/step - loss: 0.0654 - acc: 0.9696\n",
      "Epoch 49/50\n",
      "36043/36043 [==============================] - 19s 515us/step - loss: 0.0656 - acc: 0.9696\n",
      "Epoch 50/50\n",
      "36043/36043 [==============================] - 19s 517us/step - loss: 0.0659 - acc: 0.9693\n"
     ]
    }
   ],
   "source": [
    "model.compile(loss='binary_crossentropy',\n",
    "              optimizer='adam',\n",
    "              metrics=['accuracy'])\n",
    "\n",
    "from pandas import get_dummies\n",
    "\n",
    "dummy_ytrain = get_dummies(y_train_nc)\n",
    "dummy_ytest = get_dummies(y_test_nc)\n",
    "                   \n",
    "model_dl = model.fit(x_train_nc, dummy_ytrain, epochs=50, batch_size=1, verbose=1)"
   ]
  },
  {
   "cell_type": "code",
   "execution_count": 95,
   "metadata": {},
   "outputs": [],
   "source": [
    "y_pred_deep = model.predict(x_test_nc)"
   ]
  },
  {
   "cell_type": "code",
   "execution_count": 96,
   "metadata": {},
   "outputs": [
    {
     "name": "stdout",
     "output_type": "stream",
     "text": [
      "36043/36043 [==============================] - 0s 9us/step\n",
      "[0.06488929041370244, 0.9685653247509919]\n"
     ]
    }
   ],
   "source": [
    "puntuacion_deep = model.evaluate(x_train_nc, dummy_ytrain, verbose=1)\n",
    "\n",
    "print(puntuacion_deep)"
   ]
  },
  {
   "cell_type": "code",
   "execution_count": 97,
   "metadata": {},
   "outputs": [
    {
     "name": "stdout",
     "output_type": "stream",
     "text": [
      "15447/15447 [==============================] - 0s 7us/step\n",
      "[0.06643119769004416, 0.9674370427914806]\n"
     ]
    }
   ],
   "source": [
    "puntuacion_deep = model.evaluate(x_test_nc, dummy_ytest, verbose=1)\n",
    "\n",
    "print(puntuacion_deep)"
   ]
  },
  {
   "cell_type": "code",
   "execution_count": 98,
   "metadata": {},
   "outputs": [
    {
     "data": {
      "image/png": "[encoded data removed]",
      "text/plain": [
       "<Figure size 432x288 with 1 Axes>"
      ]
     },
     "metadata": {
      "needs_background": "light"
     },
     "output_type": "display_data"
    }
   ],
   "source": [
    "# Precisión en el entrenamiento\n",
    "\n",
    "import matplotlib.pyplot as plt\n",
    "\n",
    "plt.title('Precisión de entrenamiento')\n",
    "plt.plot(model_dl.history['acc'], label='train')\n",
    "plt.legend()\n",
    "plt.savefig(\"imagenes/progresión Entrenamiento Deep Learning 1.png\")\n",
    "plt.show()"
   ]
  },
  {
   "cell_type": "markdown",
   "metadata": {},
   "source": [
    "Ahora lo que voy a hacer es añadir más capas, para que cada capa tenga una mejor especialización"
   ]
  },
  {
   "cell_type": "code",
   "execution_count": 84,
   "metadata": {},
   "outputs": [
    {
     "name": "stdout",
     "output_type": "stream",
     "text": [
      "_________________________________________________________________\n",
      "Layer (type)                 Output Shape              Param #   \n",
      "=================================================================\n",
      "dense_10 (Dense)             (None, 5)                 90        \n",
      "_________________________________________________________________\n",
      "dense_11 (Dense)             (None, 8)                 48        \n",
      "_________________________________________________________________\n",
      "dense_12 (Dense)             (None, 8)                 72        \n",
      "_________________________________________________________________\n",
      "dense_13 (Dense)             (None, 8)                 72        \n",
      "_________________________________________________________________\n",
      "dense_14 (Dense)             (None, 2)                 18        \n",
      "=================================================================\n",
      "Total params: 300\n",
      "Trainable params: 300\n",
      "Non-trainable params: 0\n",
      "_________________________________________________________________\n"
     ]
    }
   ],
   "source": [
    "# Inicialización\n",
    "model = Sequential()\n",
    "\n",
    "# Input \n",
    "model.add(Dense(5, activation='relu', input_shape=(17,)))\n",
    "\n",
    "# Hidden\n",
    "model.add(Dense(8, activation='relu'))\n",
    "model.add(Dense(8, activation='relu'))\n",
    "model.add(Dense(8, activation='relu'))\n",
    "\n",
    "# Output\n",
    "# Sigmoide para que sean porcentajes\n",
    "model.add(Dense(2, activation='sigmoid'))\n",
    "\n",
    "# Resumen del modelo\n",
    "model.summary()"
   ]
  },
  {
   "cell_type": "code",
   "execution_count": 85,
   "metadata": {},
   "outputs": [
    {
     "name": "stdout",
     "output_type": "stream",
     "text": [
      "Epoch 1/50\n",
      "36043/36043 [==============================] - 23s 637us/step - loss: 0.1015 - acc: 0.9562\n",
      "Epoch 2/50\n",
      "36043/36043 [==============================] - 23s 649us/step - loss: 0.0774 - acc: 0.9636\n",
      "Epoch 3/50\n",
      "36043/36043 [==============================] - 23s 650us/step - loss: 0.0732 - acc: 0.9662\n",
      "Epoch 4/50\n",
      "36043/36043 [==============================] - 23s 645us/step - loss: 0.0713 - acc: 0.9674\n",
      "Epoch 5/50\n",
      "36043/36043 [==============================] - 23s 651us/step - loss: 0.0706 - acc: 0.9674\n",
      "Epoch 6/50\n",
      "36043/36043 [==============================] - 23s 635us/step - loss: 0.0699 - acc: 0.9684\n",
      "Epoch 7/50\n",
      "36043/36043 [==============================] - 24s 653us/step - loss: 0.0695 - acc: 0.9680\n",
      "Epoch 8/50\n",
      "36043/36043 [==============================] - 24s 662us/step - loss: 0.0688 - acc: 0.9669\n",
      "Epoch 9/50\n",
      "36043/36043 [==============================] - 23s 648us/step - loss: 0.0683 - acc: 0.9674\n",
      "Epoch 10/50\n",
      "36043/36043 [==============================] - 24s 660us/step - loss: 0.0689 - acc: 0.9678\n",
      "Epoch 11/50\n",
      "36043/36043 [==============================] - 25s 701us/step - loss: 0.0687 - acc: 0.9674\n",
      "Epoch 12/50\n",
      "36043/36043 [==============================] - 25s 689us/step - loss: 0.0686 - acc: 0.9674\n",
      "Epoch 13/50\n",
      "36043/36043 [==============================] - 25s 684us/step - loss: 0.0684 - acc: 0.9678\n",
      "Epoch 14/50\n",
      "36043/36043 [==============================] - 25s 688us/step - loss: 0.0680 - acc: 0.9681\n",
      "Epoch 15/50\n",
      "36043/36043 [==============================] - 25s 705us/step - loss: 0.0677 - acc: 0.9687\n",
      "Epoch 16/50\n",
      "36043/36043 [==============================] - 25s 701us/step - loss: 0.0677 - acc: 0.9684\n",
      "Epoch 17/50\n",
      "36043/36043 [==============================] - 26s 729us/step - loss: 0.0672 - acc: 0.9686\n",
      "Epoch 18/50\n",
      "36043/36043 [==============================] - 26s 719us/step - loss: 0.0670 - acc: 0.9673\n",
      "Epoch 19/50\n",
      "36043/36043 [==============================] - 24s 668us/step - loss: 0.0678 - acc: 0.9689\n",
      "Epoch 20/50\n",
      "36043/36043 [==============================] - 26s 720us/step - loss: 0.0671 - acc: 0.9691\n",
      "Epoch 21/50\n",
      "36043/36043 [==============================] - 26s 717us/step - loss: 0.0680 - acc: 0.9683\n",
      "Epoch 22/50\n",
      "36043/36043 [==============================] - 26s 709us/step - loss: 0.0674 - acc: 0.9682\n",
      "Epoch 23/50\n",
      "36043/36043 [==============================] - 26s 734us/step - loss: 0.0679 - acc: 0.9674\n",
      "Epoch 24/50\n",
      "36043/36043 [==============================] - 25s 699us/step - loss: 0.0667 - acc: 0.9680\n",
      "Epoch 25/50\n",
      "36043/36043 [==============================] - 26s 727us/step - loss: 0.0665 - acc: 0.9691\n",
      "Epoch 26/50\n",
      "36043/36043 [==============================] - 27s 744us/step - loss: 0.0675 - acc: 0.9684\n",
      "Epoch 27/50\n",
      "36043/36043 [==============================] - 27s 740us/step - loss: 0.0668 - acc: 0.9688\n",
      "Epoch 28/50\n",
      "36043/36043 [==============================] - 27s 740us/step - loss: 0.0671 - acc: 0.9680\n",
      "Epoch 29/50\n",
      "36043/36043 [==============================] - 27s 747us/step - loss: 0.0665 - acc: 0.9689\n",
      "Epoch 30/50\n",
      "36043/36043 [==============================] - 26s 718us/step - loss: 0.0669 - acc: 0.9695\n",
      "Epoch 31/50\n",
      "36043/36043 [==============================] - 27s 753us/step - loss: 0.0670 - acc: 0.9691\n",
      "Epoch 32/50\n",
      "36043/36043 [==============================] - 26s 718us/step - loss: 0.0669 - acc: 0.9689\n",
      "Epoch 33/50\n",
      "36043/36043 [==============================] - 27s 736us/step - loss: 0.0667 - acc: 0.9682\n",
      "Epoch 34/50\n",
      "36043/36043 [==============================] - 27s 752us/step - loss: 0.0665 - acc: 0.9689\n",
      "Epoch 35/50\n",
      "36043/36043 [==============================] - 28s 779us/step - loss: 0.0662 - acc: 0.9695\n",
      "Epoch 36/50\n",
      "36043/36043 [==============================] - 27s 748us/step - loss: 0.0669 - acc: 0.9687\n",
      "Epoch 37/50\n",
      "36043/36043 [==============================] - 27s 751us/step - loss: 0.0666 - acc: 0.9698\n",
      "Epoch 38/50\n",
      "36043/36043 [==============================] - 27s 742us/step - loss: 0.0666 - acc: 0.9684\n",
      "Epoch 39/50\n",
      "36043/36043 [==============================] - 27s 739us/step - loss: 0.0670 - acc: 0.9694\n",
      "Epoch 40/50\n",
      "36043/36043 [==============================] - 24s 672us/step - loss: 0.0667 - acc: 0.9683\n",
      "Epoch 41/50\n",
      "36043/36043 [==============================] - 27s 745us/step - loss: 0.0667 - acc: 0.9693\n",
      "Epoch 42/50\n",
      "36043/36043 [==============================] - 28s 771us/step - loss: 0.0665 - acc: 0.9693\n",
      "Epoch 43/50\n",
      "36043/36043 [==============================] - 27s 749us/step - loss: 0.0674 - acc: 0.9689\n",
      "Epoch 44/50\n",
      "36043/36043 [==============================] - 27s 747us/step - loss: 0.0676 - acc: 0.9694\n",
      "Epoch 45/50\n",
      "36043/36043 [==============================] - 26s 722us/step - loss: 0.0673 - acc: 0.9691\n",
      "Epoch 46/50\n",
      "36043/36043 [==============================] - 28s 766us/step - loss: 0.0665 - acc: 0.9681\n",
      "Epoch 47/50\n",
      "36043/36043 [==============================] - 25s 703us/step - loss: 0.0666 - acc: 0.9683\n",
      "Epoch 48/50\n",
      "36043/36043 [==============================] - 25s 681us/step - loss: 0.0670 - acc: 0.9680\n",
      "Epoch 49/50\n",
      "36043/36043 [==============================] - 25s 692us/step - loss: 0.0671 - acc: 0.9683\n",
      "Epoch 50/50\n",
      "36043/36043 [==============================] - 24s 679us/step - loss: 0.0668 - acc: 0.9683\n"
     ]
    }
   ],
   "source": [
    "model.compile(loss='binary_crossentropy',\n",
    "              optimizer='adam',\n",
    "              metrics=['accuracy'])\n",
    "\n",
    "from pandas import get_dummies\n",
    "\n",
    "dummy_ytrain = get_dummies(y_train_nc)\n",
    "dummy_ytest = get_dummies(y_test_nc)\n",
    "                   \n",
    "model_dl = model.fit(x_train_nc, dummy_ytrain, epochs=50, batch_size=1, verbose=1)"
   ]
  },
  {
   "cell_type": "code",
   "execution_count": 86,
   "metadata": {},
   "outputs": [],
   "source": [
    "y_pred_deep = model.predict(x_test_nc)"
   ]
  },
  {
   "cell_type": "code",
   "execution_count": 87,
   "metadata": {},
   "outputs": [
    {
     "name": "stdout",
     "output_type": "stream",
     "text": [
      "36043/36043 [==============================] - 0s 10us/step\n",
      "[0.06532248274108951, 0.9695225147822885]\n"
     ]
    }
   ],
   "source": [
    "puntuacion_deep = model.evaluate(x_train_nc, dummy_ytrain, verbose=1)\n",
    "\n",
    "print(puntuacion_deep)"
   ]
  },
  {
   "cell_type": "code",
   "execution_count": 88,
   "metadata": {},
   "outputs": [
    {
     "name": "stdout",
     "output_type": "stream",
     "text": [
      "15447/15447 [==============================] - 0s 8us/step\n",
      "[0.06615406461596642, 0.9682138926652425]\n"
     ]
    }
   ],
   "source": [
    "puntuacion_deep = model.evaluate(x_test_nc, dummy_ytest, verbose=1)\n",
    "\n",
    "print(puntuacion_deep)"
   ]
  },
  {
   "cell_type": "code",
   "execution_count": 89,
   "metadata": {},
   "outputs": [
    {
     "data": {
      "image/png": "[encoded data removed]",
      "text/plain": [
       "<Figure size 432x288 with 1 Axes>"
      ]
     },
     "metadata": {
      "needs_background": "light"
     },
     "output_type": "display_data"
    }
   ],
   "source": [
    "# Precisión en el entrenamiento\n",
    "\n",
    "import matplotlib.pyplot as plt\n",
    "\n",
    "plt.title('Precisión de entrenamiento')\n",
    "plt.plot(model_dl.history['acc'], label='train')\n",
    "plt.legend()\n",
    "plt.savefig(\"imagenes/progresión Entrenamiento Deep Learning 2.png\")\n",
    "plt.show()"
   ]
  },
  {
   "cell_type": "markdown",
   "metadata": {},
   "source": [
    "Finalmente, haré lo mismo pero con los campeones para ver si mejora el modelo o lo lastra"
   ]
  },
  {
   "cell_type": "code",
   "execution_count": 100,
   "metadata": {},
   "outputs": [
    {
     "name": "stdout",
     "output_type": "stream",
     "text": [
      "_________________________________________________________________\n",
      "Layer (type)                 Output Shape              Param #   \n",
      "=================================================================\n",
      "dense_23 (Dense)             (None, 5)                 14790     \n",
      "_________________________________________________________________\n",
      "dense_24 (Dense)             (None, 8)                 48        \n",
      "_________________________________________________________________\n",
      "dense_25 (Dense)             (None, 8)                 72        \n",
      "_________________________________________________________________\n",
      "dense_26 (Dense)             (None, 8)                 72        \n",
      "_________________________________________________________________\n",
      "dense_27 (Dense)             (None, 2)                 18        \n",
      "=================================================================\n",
      "Total params: 15,000\n",
      "Trainable params: 15,000\n",
      "Non-trainable params: 0\n",
      "_________________________________________________________________\n"
     ]
    }
   ],
   "source": [
    "# Inicialización\n",
    "model = Sequential()\n",
    "\n",
    "# Input \n",
    "model.add(Dense(5, activation='relu', input_shape=(2957,)))\n",
    "\n",
    "# Hidden\n",
    "model.add(Dense(8, activation='relu'))\n",
    "model.add(Dense(8, activation='relu'))\n",
    "model.add(Dense(8, activation='relu'))\n",
    "\n",
    "# Output\n",
    "# Sigmoide para que sean porcentajes\n",
    "model.add(Dense(2, activation='sigmoid'))\n",
    "\n",
    "# Resumen del modelo\n",
    "model.summary()"
   ]
  },
  {
   "cell_type": "code",
   "execution_count": 101,
   "metadata": {},
   "outputs": [
    {
     "name": "stdout",
     "output_type": "stream",
     "text": [
      "Epoch 1/50\n",
      "36043/36043 [==============================] - 29s 817us/step - loss: 0.6963 - acc: 0.5057\n",
      "Epoch 2/50\n",
      "36043/36043 [==============================] - 29s 812us/step - loss: 0.6932 - acc: 0.5046\n",
      "Epoch 3/50\n",
      "36043/36043 [==============================] - 29s 818us/step - loss: 0.6932 - acc: 0.5054\n",
      "Epoch 4/50\n",
      "36043/36043 [==============================] - 29s 803us/step - loss: 0.6931 - acc: 0.5055\n",
      "Epoch 5/50\n",
      "36043/36043 [==============================] - 29s 791us/step - loss: 0.6931 - acc: 0.5058\n",
      "Epoch 6/50\n",
      "36043/36043 [==============================] - 29s 806us/step - loss: 0.6932 - acc: 0.5036\n",
      "Epoch 7/50\n",
      "36043/36043 [==============================] - 29s 794us/step - loss: 0.6932 - acc: 0.5047\n",
      "Epoch 8/50\n",
      "36043/36043 [==============================] - 28s 786us/step - loss: 0.6932 - acc: 0.5048\n",
      "Epoch 9/50\n",
      "36043/36043 [==============================] - 28s 785us/step - loss: 0.6932 - acc: 0.5057\n",
      "Epoch 10/50\n",
      "36043/36043 [==============================] - 28s 786us/step - loss: 0.6932 - acc: 0.5050\n",
      "Epoch 11/50\n",
      "36043/36043 [==============================] - 29s 791us/step - loss: 0.6932 - acc: 0.5053\n",
      "Epoch 12/50\n",
      "36043/36043 [==============================] - 28s 789us/step - loss: 0.6932 - acc: 0.5036\n",
      "Epoch 13/50\n",
      "36043/36043 [==============================] - 29s 797us/step - loss: 0.6932 - acc: 0.5063\n",
      "Epoch 14/50\n",
      "36043/36043 [==============================] - 29s 796us/step - loss: 0.6932 - acc: 0.5048\n",
      "Epoch 15/50\n",
      "36043/36043 [==============================] - 29s 793us/step - loss: 0.6932 - acc: 0.5048\n",
      "Epoch 16/50\n",
      "36043/36043 [==============================] - 29s 796us/step - loss: 0.6932 - acc: 0.5026\n",
      "Epoch 17/50\n",
      "36043/36043 [==============================] - 29s 801us/step - loss: 0.6932 - acc: 0.5042\n",
      "Epoch 18/50\n",
      "36043/36043 [==============================] - 29s 811us/step - loss: 0.6932 - acc: 0.5057\n",
      "Epoch 19/50\n",
      "36043/36043 [==============================] - 29s 804us/step - loss: 0.6932 - acc: 0.5046\n",
      "Epoch 20/50\n",
      "36043/36043 [==============================] - 29s 807us/step - loss: 0.6932 - acc: 0.5056\n",
      "Epoch 21/50\n",
      "36043/36043 [==============================] - 29s 808us/step - loss: 0.6931 - acc: 0.5056\n",
      "Epoch 22/50\n",
      "36043/36043 [==============================] - 29s 812us/step - loss: 0.6932 - acc: 0.5035\n",
      "Epoch 23/50\n",
      "36043/36043 [==============================] - 30s 834us/step - loss: 0.6932 - acc: 0.5055\n",
      "Epoch 24/50\n",
      "36043/36043 [==============================] - 30s 829us/step - loss: 0.6932 - acc: 0.5034\n",
      "Epoch 25/50\n",
      "36043/36043 [==============================] - 30s 840us/step - loss: 0.6931 - acc: 0.5065\n",
      "Epoch 26/50\n",
      "36043/36043 [==============================] - 33s 902us/step - loss: 0.6932 - acc: 0.5054\n",
      "Epoch 27/50\n",
      "36043/36043 [==============================] - 32s 885us/step - loss: 0.6931 - acc: 0.5044\n",
      "Epoch 28/50\n",
      "36043/36043 [==============================] - 31s 856us/step - loss: 0.6932 - acc: 0.5046\n",
      "Epoch 29/50\n",
      "36043/36043 [==============================] - 31s 856us/step - loss: 0.6932 - acc: 0.5046\n",
      "Epoch 30/50\n",
      "36043/36043 [==============================] - 31s 860us/step - loss: 0.6932 - acc: 0.5044\n",
      "Epoch 31/50\n",
      "36043/36043 [==============================] - 31s 863us/step - loss: 0.6932 - acc: 0.5048\n",
      "Epoch 32/50\n",
      "36043/36043 [==============================] - 31s 867us/step - loss: 0.6932 - acc: 0.5039\n",
      "Epoch 33/50\n",
      "36043/36043 [==============================] - 32s 881us/step - loss: 0.6932 - acc: 0.5047\n",
      "Epoch 34/50\n",
      "36043/36043 [==============================] - 33s 903us/step - loss: 0.6932 - acc: 0.5051\n",
      "Epoch 35/50\n",
      "36043/36043 [==============================] - 32s 898us/step - loss: 0.6932 - acc: 0.5036\n",
      "Epoch 36/50\n",
      "36043/36043 [==============================] - 33s 903us/step - loss: 0.6931 - acc: 0.5064\n",
      "Epoch 37/50\n",
      "36043/36043 [==============================] - 33s 903us/step - loss: 0.6932 - acc: 0.5073\n",
      "Epoch 38/50\n",
      "36043/36043 [==============================] - 32s 893us/step - loss: 0.6932 - acc: 0.5048\n",
      "Epoch 39/50\n",
      "36043/36043 [==============================] - 31s 866us/step - loss: 0.6931 - acc: 0.5044\n",
      "Epoch 40/50\n",
      "36043/36043 [==============================] - 32s 876us/step - loss: 0.6931 - acc: 0.5051\n",
      "Epoch 41/50\n",
      "36043/36043 [==============================] - 32s 874us/step - loss: 0.6931 - acc: 0.5053\n",
      "Epoch 42/50\n",
      "36043/36043 [==============================] - 31s 872us/step - loss: 0.6932 - acc: 0.5049\n",
      "Epoch 43/50\n",
      "36043/36043 [==============================] - 32s 877us/step - loss: 0.6932 - acc: 0.5044\n",
      "Epoch 44/50\n",
      "36043/36043 [==============================] - 31s 869us/step - loss: 0.6932 - acc: 0.5031\n",
      "Epoch 45/50\n",
      "36043/36043 [==============================] - 32s 878us/step - loss: 0.6932 - acc: 0.5059\n",
      "Epoch 46/50\n",
      "36043/36043 [==============================] - 33s 907us/step - loss: 0.6932 - acc: 0.5048\n",
      "Epoch 47/50\n",
      "36043/36043 [==============================] - 32s 891us/step - loss: 0.6932 - acc: 0.5040\n",
      "Epoch 48/50\n",
      "36043/36043 [==============================] - 32s 897us/step - loss: 0.6932 - acc: 0.5056\n",
      "Epoch 49/50\n",
      "36043/36043 [==============================] - 33s 908us/step - loss: 0.6931 - acc: 0.5062\n",
      "Epoch 50/50\n",
      "36043/36043 [==============================] - 32s 898us/step - loss: 0.6931 - acc: 0.5089\n"
     ]
    }
   ],
   "source": [
    "model.compile(loss='binary_crossentropy',\n",
    "              optimizer='adam',\n",
    "              metrics=['accuracy'])\n",
    "\n",
    "from pandas import get_dummies\n",
    "\n",
    "dummy_ytrain = get_dummies(y_train_nc)\n",
    "dummy_ytest = get_dummies(y_test_nc)\n",
    "                   \n",
    "model_dl = model.fit(x_train_sparse, dummy_ytrain, epochs=50, batch_size=1, verbose=1)"
   ]
  },
  {
   "cell_type": "code",
   "execution_count": 102,
   "metadata": {},
   "outputs": [],
   "source": [
    "y_pred_deep = model.predict(x_test_sparse)"
   ]
  },
  {
   "cell_type": "code",
   "execution_count": 103,
   "metadata": {},
   "outputs": [
    {
     "name": "stdout",
     "output_type": "stream",
     "text": [
      "36043/36043 [==============================] - 1s 21us/step\n",
      "[0.6930477223686561, 0.5074771800399194]\n"
     ]
    }
   ],
   "source": [
    "puntuacion_deep = model.evaluate(x_train_sparse, dummy_ytrain, verbose=1)\n",
    "\n",
    "print(puntuacion_deep)"
   ]
  },
  {
   "cell_type": "code",
   "execution_count": 104,
   "metadata": {},
   "outputs": [
    {
     "name": "stdout",
     "output_type": "stream",
     "text": [
      "15447/15447 [==============================] - 0s 19us/step\n",
      "[0.6931845496223606, 0.5040460931002272]\n"
     ]
    }
   ],
   "source": [
    "puntuacion_deep = model.evaluate(x_test_sparse, dummy_ytest, verbose=1)\n",
    "\n",
    "print(puntuacion_deep)"
   ]
  },
  {
   "cell_type": "code",
   "execution_count": 105,
   "metadata": {},
   "outputs": [
    {
     "data": {
      "image/png": "[encoded data removed]",
      "text/plain": [
       "<Figure size 432x288 with 1 Axes>"
      ]
     },
     "metadata": {
      "needs_background": "light"
     },
     "output_type": "display_data"
    }
   ],
   "source": [
    "# Precisión en el entrenamiento\n",
    "\n",
    "import matplotlib.pyplot as plt\n",
    "\n",
    "plt.title('Precisión de entrenamiento')\n",
    "plt.plot(model_dl.history['acc'], label='train')\n",
    "plt.legend()\n",
    "plt.savefig(\"imagenes/progresión Entrenamiento Deep Learning 3 - Con Champs.png\")\n",
    "plt.show()"
   ]
  },
  {
   "cell_type": "code",
   "execution_count": null,
   "metadata": {},
   "outputs": [],
   "source": []
  }
 ],
 "metadata": {
  "kernelspec": {
   "display_name": "Python 3",
   "language": "python",
   "name": "python3"
  },
  "language_info": {
   "codemirror_mode": {
    "name": "ipython",
    "version": 3
   },
   "file_extension": ".py",
   "mimetype": "text/x-python",
   "name": "python",
   "nbconvert_exporter": "python",
   "pygments_lexer": "ipython3",
   "version": "3.7.3"
  }
 },
 "nbformat": 4,
 "nbformat_minor": 2
}
